{
  "cells": [
    {
      "cell_type": "markdown",
      "id": "3267e7b9",
      "metadata": {
        "id": "3267e7b9"
      },
      "source": [
        "# Course AI Homework 5\n",
        "In Homework 5, we will train our own 'CBOW' Word2Vec embedding from WikiText2 dataset. (small dataset)\n",
        "- Change Runtime option above to GPU if you could. (max 12 hours for one user)\n",
        "- Save and submit the outputs of this notebook and model and vocab file you trained.\n",
        "- Not allowed to have other python file or import pretrained model."
      ]
    },
    {
      "cell_type": "code",
      "source": [
        "# YOU should run this command if you will train the model in COLAB environment\n",
        "! pip install datasets transformers"
      ],
      "metadata": {
        "colab": {
          "base_uri": "https://localhost:8080/"
        },
        "id": "IzXBr_qSvgKW",
        "outputId": "4f2bcd32-0c3c-4b9d-c550-07d6e4a062fa"
      },
      "id": "IzXBr_qSvgKW",
      "execution_count": 51,
      "outputs": [
        {
          "output_type": "stream",
          "name": "stdout",
          "text": [
            "Requirement already satisfied: datasets in /usr/local/lib/python3.10/dist-packages (2.15.0)\n",
            "Requirement already satisfied: transformers in /usr/local/lib/python3.10/dist-packages (4.35.2)\n",
            "Requirement already satisfied: numpy>=1.17 in /usr/local/lib/python3.10/dist-packages (from datasets) (1.23.5)\n",
            "Requirement already satisfied: pyarrow>=8.0.0 in /usr/local/lib/python3.10/dist-packages (from datasets) (10.0.1)\n",
            "Requirement already satisfied: pyarrow-hotfix in /usr/local/lib/python3.10/dist-packages (from datasets) (0.6)\n",
            "Requirement already satisfied: dill<0.3.8,>=0.3.0 in /usr/local/lib/python3.10/dist-packages (from datasets) (0.3.7)\n",
            "Requirement already satisfied: pandas in /usr/local/lib/python3.10/dist-packages (from datasets) (1.5.3)\n",
            "Requirement already satisfied: requests>=2.19.0 in /usr/local/lib/python3.10/dist-packages (from datasets) (2.31.0)\n",
            "Requirement already satisfied: tqdm>=4.62.1 in /usr/local/lib/python3.10/dist-packages (from datasets) (4.66.1)\n",
            "Requirement already satisfied: xxhash in /usr/local/lib/python3.10/dist-packages (from datasets) (3.4.1)\n",
            "Requirement already satisfied: multiprocess in /usr/local/lib/python3.10/dist-packages (from datasets) (0.70.15)\n",
            "Requirement already satisfied: fsspec[http]<=2023.10.0,>=2023.1.0 in /usr/local/lib/python3.10/dist-packages (from datasets) (2023.6.0)\n",
            "Requirement already satisfied: aiohttp in /usr/local/lib/python3.10/dist-packages (from datasets) (3.9.1)\n",
            "Requirement already satisfied: huggingface-hub>=0.18.0 in /usr/local/lib/python3.10/dist-packages (from datasets) (0.19.4)\n",
            "Requirement already satisfied: packaging in /usr/local/lib/python3.10/dist-packages (from datasets) (23.2)\n",
            "Requirement already satisfied: pyyaml>=5.1 in /usr/local/lib/python3.10/dist-packages (from datasets) (6.0.1)\n",
            "Requirement already satisfied: filelock in /usr/local/lib/python3.10/dist-packages (from transformers) (3.13.1)\n",
            "Requirement already satisfied: regex!=2019.12.17 in /usr/local/lib/python3.10/dist-packages (from transformers) (2023.6.3)\n",
            "Requirement already satisfied: tokenizers<0.19,>=0.14 in /usr/local/lib/python3.10/dist-packages (from transformers) (0.15.0)\n",
            "Requirement already satisfied: safetensors>=0.3.1 in /usr/local/lib/python3.10/dist-packages (from transformers) (0.4.1)\n",
            "Requirement already satisfied: attrs>=17.3.0 in /usr/local/lib/python3.10/dist-packages (from aiohttp->datasets) (23.1.0)\n",
            "Requirement already satisfied: multidict<7.0,>=4.5 in /usr/local/lib/python3.10/dist-packages (from aiohttp->datasets) (6.0.4)\n",
            "Requirement already satisfied: yarl<2.0,>=1.0 in /usr/local/lib/python3.10/dist-packages (from aiohttp->datasets) (1.9.4)\n",
            "Requirement already satisfied: frozenlist>=1.1.1 in /usr/local/lib/python3.10/dist-packages (from aiohttp->datasets) (1.4.0)\n",
            "Requirement already satisfied: aiosignal>=1.1.2 in /usr/local/lib/python3.10/dist-packages (from aiohttp->datasets) (1.3.1)\n",
            "Requirement already satisfied: async-timeout<5.0,>=4.0 in /usr/local/lib/python3.10/dist-packages (from aiohttp->datasets) (4.0.3)\n",
            "Requirement already satisfied: typing-extensions>=3.7.4.3 in /usr/local/lib/python3.10/dist-packages (from huggingface-hub>=0.18.0->datasets) (4.5.0)\n",
            "Requirement already satisfied: charset-normalizer<4,>=2 in /usr/local/lib/python3.10/dist-packages (from requests>=2.19.0->datasets) (3.3.2)\n",
            "Requirement already satisfied: idna<4,>=2.5 in /usr/local/lib/python3.10/dist-packages (from requests>=2.19.0->datasets) (3.6)\n",
            "Requirement already satisfied: urllib3<3,>=1.21.1 in /usr/local/lib/python3.10/dist-packages (from requests>=2.19.0->datasets) (2.0.7)\n",
            "Requirement already satisfied: certifi>=2017.4.17 in /usr/local/lib/python3.10/dist-packages (from requests>=2.19.0->datasets) (2023.11.17)\n",
            "Requirement already satisfied: python-dateutil>=2.8.1 in /usr/local/lib/python3.10/dist-packages (from pandas->datasets) (2.8.2)\n",
            "Requirement already satisfied: pytz>=2020.1 in /usr/local/lib/python3.10/dist-packages (from pandas->datasets) (2023.3.post1)\n",
            "Requirement already satisfied: six>=1.5 in /usr/local/lib/python3.10/dist-packages (from python-dateutil>=2.8.1->pandas->datasets) (1.16.0)\n"
          ]
        }
      ]
    },
    {
      "cell_type": "code",
      "execution_count": 52,
      "id": "83999a8f",
      "metadata": {
        "id": "83999a8f",
        "scrolled": true
      },
      "outputs": [],
      "source": [
        "import argparse\n",
        "import yaml\n",
        "import os\n",
        "import torch\n",
        "import torch.nn as nn\n",
        "import torchtext\n",
        "\n",
        "import json\n",
        "import numpy as np\n",
        "\n",
        "from functools import partial\n",
        "from torch.utils.data import DataLoader\n",
        "from torchtext.data import to_map_style_dataset\n",
        "from torchtext.data.utils import get_tokenizer\n",
        "\n",
        "from torchtext.vocab import build_vocab_from_iterator\n",
        "from torchtext.datasets import WikiText2 # WikiText103\n",
        "\n",
        "import torch.optim as optim\n",
        "from torch.optim.lr_scheduler import LambdaLR\n",
        "\n",
        "from datasets import load_dataset\n",
        "\n"
      ]
    },
    {
      "cell_type": "code",
      "execution_count": 53,
      "id": "d1c48ed1",
      "metadata": {
        "id": "d1c48ed1"
      },
      "outputs": [],
      "source": [
        "device = torch.device(\"cuda\" if torch.cuda.is_available() else \"cpu\")\n",
        "torch_seed_numb = 0\n",
        "if device.type == 'cuda':\n",
        "    torch.cuda.manual_seed(torch_seed_numb)"
      ]
    },
    {
      "cell_type": "code",
      "execution_count": 54,
      "id": "020510ad",
      "metadata": {
        "colab": {
          "base_uri": "https://localhost:8080/"
        },
        "id": "020510ad",
        "outputId": "c4b20dab-4793-4c43-845e-fd86c2b10e90"
      },
      "outputs": [
        {
          "output_type": "execute_result",
          "data": {
            "text/plain": [
              "device(type='cuda')"
            ]
          },
          "metadata": {},
          "execution_count": 54
        }
      ],
      "source": [
        "device"
      ]
    },
    {
      "cell_type": "code",
      "source": [
        "# If you use Google Colab environment, mount you google drive here to save model and vocab\n",
        "from google.colab import drive\n",
        "drive.mount('/content/drive')\n",
        "root_dir = '/content/drive/MyDrive/course_ai_hw5'"
      ],
      "metadata": {
        "colab": {
          "base_uri": "https://localhost:8080/"
        },
        "id": "bA6IFVDavyo6",
        "outputId": "177247a5-6746-421e-c832-f7300a68bace"
      },
      "id": "bA6IFVDavyo6",
      "execution_count": 55,
      "outputs": [
        {
          "output_type": "stream",
          "name": "stdout",
          "text": [
            "Drive already mounted at /content/drive; to attempt to forcibly remount, call drive.mount(\"/content/drive\", force_remount=True).\n"
          ]
        }
      ]
    },
    {
      "cell_type": "markdown",
      "id": "BNYyA8HX1Uz-",
      "metadata": {
        "id": "BNYyA8HX1Uz-"
      },
      "source": [
        "### Constant Setting"
      ]
    },
    {
      "cell_type": "code",
      "execution_count": 56,
      "id": "7f2f991d",
      "metadata": {
        "id": "7f2f991d"
      },
      "outputs": [],
      "source": [
        "# You could change parameters if you want.\n",
        "\n",
        "train_batch_size =  96\n",
        "val_batch_size = 96\n",
        "shuffle =  True\n",
        "\n",
        "optimizer =  'Adam'\n",
        "learning_rate =  0.001\n",
        "epochs = 50\n",
        "\n",
        "result_dir = 'weights/'\n",
        "\n",
        "# Parameters about CBOW model architecture and Vocab.\n",
        "CBOW_N_WORDS = 4\n",
        "\n",
        "MIN_WORD_FREQUENCY = 50\n",
        "MAX_SEQUENCE_LENGTH = 256\n",
        "\n",
        "EMBED_DIMENSION = 300\n",
        "EMBED_MAX_NORM = 1"
      ]
    },
    {
      "cell_type": "code",
      "execution_count": 57,
      "id": "3FgsAeWUDvzI",
      "metadata": {
        "id": "3FgsAeWUDvzI"
      },
      "outputs": [],
      "source": [
        "result_dir = os.path.join(root_dir, result_dir)\n",
        "if not os.path.exists(result_dir):\n",
        "    os.mkdir(result_dir)\n"
      ]
    },
    {
      "cell_type": "markdown",
      "id": "xQacYYHCovzA",
      "metadata": {
        "id": "xQacYYHCovzA"
      },
      "source": [
        "## Prepare dataset and vocab"
      ]
    },
    {
      "cell_type": "code",
      "execution_count": 58,
      "id": "rCx3DsJr5RxX",
      "metadata": {
        "id": "rCx3DsJr5RxX"
      },
      "outputs": [],
      "source": [
        "datasets = load_dataset('wikitext', 'wikitext-2-raw-v1')\n",
        "train_dataset = datasets[\"train\"]\n",
        "val_dataset = datasets['validation']\n",
        "test_dataset = datasets['test']\n",
        "#train_dataset.map(tokenizing_word , batched= True, batch_size = 5000)\n"
      ]
    },
    {
      "cell_type": "code",
      "execution_count": 59,
      "id": "j499GQWrxOma",
      "metadata": {
        "colab": {
          "base_uri": "https://localhost:8080/",
          "height": 89
        },
        "id": "j499GQWrxOma",
        "outputId": "18619b63-6e9d-413b-b06d-12f2e9a771c5"
      },
      "outputs": [
        {
          "output_type": "execute_result",
          "data": {
            "text/plain": [
              "\" Troops are divided into five classes : Scouts , Shocktroopers , Engineers , Lancers and Armored Soldier . Troopers can switch classes by changing their assigned weapon . Changing class does not greatly affect the stats gained while in a previous class . With victory in battle , experience points are awarded to the squad , which are distributed into five different attributes shared by the entire squad , a feature differing from early games ' method of distributing to different unit types . \\n\""
            ],
            "application/vnd.google.colaboratory.intrinsic+json": {
              "type": "string"
            }
          },
          "metadata": {},
          "execution_count": 59
        }
      ],
      "source": [
        "# Let's print one example\n",
        "train_dataset['text'][11]"
      ]
    },
    {
      "cell_type": "markdown",
      "id": "ulQoM_SixZBT",
      "metadata": {
        "id": "ulQoM_SixZBT"
      },
      "source": [
        "As you can see, we need to clean up the sentences, lowercase them, tokenize them, and change each word into an index (one-hot vector). Before going through the whole process, we need to create a vocab set using the training dataset."
      ]
    },
    {
      "cell_type": "code",
      "execution_count": 60,
      "id": "u63stoTf7oRn",
      "metadata": {
        "colab": {
          "base_uri": "https://localhost:8080/"
        },
        "id": "u63stoTf7oRn",
        "outputId": "78282f84-86f7-4dca-e13e-c0af10553b8c"
      },
      "outputs": [
        {
          "output_type": "execute_result",
          "data": {
            "text/plain": [
              "4122"
            ]
          },
          "metadata": {},
          "execution_count": 60
        }
      ],
      "source": [
        "tokenizer = get_tokenizer(\"basic_english\", language=\"en\")\n",
        "\n",
        "# TODO 1): make vocabulary\n",
        "# Hint) use function: build_vocab_from_iterator, use train_dataset set special tokens.. etc\n",
        "tokens = [tokenizer(text) for text in train_dataset['text']]\n",
        "vocab = build_vocab_from_iterator(tokens, MIN_WORD_FREQUENCY, specials=['<unk>', '<pad>', '<bos>', '<eos>'])\n",
        "vocab.set_default_index(vocab['<unk>'])\n",
        "\n",
        "len(vocab.get_stoi())"
      ]
    },
    {
      "cell_type": "markdown",
      "id": "i8z22T68aT-m",
      "metadata": {
        "id": "i8z22T68aT-m"
      },
      "source": [
        "We need a collate function to make dataset into CBOW trainning format. The collate function should iterate over (sliding) batch data and make train/test dataset.And each component of data should be composed of CBOW_N_WORD words in each left and right side as input and target output as word in center.  \n",
        "Make the collate function return CBOW dataset in tensor type."
      ]
    },
    {
      "cell_type": "code",
      "execution_count": 61,
      "id": "CrDMIbXVHcbk",
      "metadata": {
        "id": "CrDMIbXVHcbk"
      },
      "outputs": [],
      "source": [
        "# Here is a lambda function to tokenize sentence and change words to vocab indexes.\n",
        "text_pipeline = lambda x: vocab(tokenizer(x))"
      ]
    },
    {
      "cell_type": "markdown",
      "id": "yl65bTOrEuSU",
      "metadata": {
        "id": "yl65bTOrEuSU"
      },
      "source": [
        "![cbow](https://user-images.githubusercontent.com/74028313/204695601-51d44a38-4bd3-4a69-8891-2854aa57c034.png)"
      ]
    },
    {
      "cell_type": "code",
      "execution_count": 62,
      "id": "745eedd1",
      "metadata": {
        "id": "745eedd1"
      },
      "outputs": [],
      "source": [
        "def roll(x, window_size, step_size=1):\n",
        "    # unfold dimension to make our rolling window\n",
        "    return x.unfold(0,window_size,step_size)\n",
        "\n",
        "def collate(batch, text_pipeline):\n",
        "\n",
        "    batch_input, batch_output = [], []\n",
        "    # TODO 2): make collate function\n",
        "    for text in batch:\n",
        "        indexed_text = text_pipeline(text)\n",
        "        indexed_text = torch.tensor(indexed_text, dtype=torch.int, device=device)\n",
        "        length = indexed_text.shape[0]\n",
        "        if length < CBOW_N_WORDS * 2 + 1:\n",
        "            continue\n",
        "        _batch_input = torch.zeros(length - CBOW_N_WORDS * 2, CBOW_N_WORDS * 2, dtype=torch.int, device=device)\n",
        "        _batch_input[:, :CBOW_N_WORDS] = roll(indexed_text[:-CBOW_N_WORDS - 1], CBOW_N_WORDS, 1)\n",
        "        _batch_input[:, CBOW_N_WORDS:] = roll(indexed_text[CBOW_N_WORDS + 1:], CBOW_N_WORDS, 1)\n",
        "        batch_input.append(_batch_input)\n",
        "        batch_output.append(indexed_text[CBOW_N_WORDS:-CBOW_N_WORDS])\n",
        "\n",
        "    batch_input = torch.cat(batch_input, dim=0)\n",
        "    batch_output = torch.cat(batch_output, dim=0).to(torch.long)\n",
        "    #batch_output = torch.tensor(batch_output, dtype=torch.int, device=device)\n",
        "    return batch_input, batch_output"
      ]
    },
    {
      "cell_type": "code",
      "execution_count": 63,
      "id": "b8c062f3",
      "metadata": {
        "id": "b8c062f3"
      },
      "outputs": [],
      "source": [
        "train_dataloader = DataLoader(\n",
        "    train_dataset['text'],\n",
        "    batch_size=train_batch_size,\n",
        "    shuffle=shuffle,\n",
        "    collate_fn=partial(collate, text_pipeline=text_pipeline),\n",
        ")\n",
        "\n",
        "val_dataloader = DataLoader(\n",
        "    val_dataset['text'],\n",
        "    batch_size=val_batch_size,\n",
        "    shuffle=shuffle,\n",
        "    collate_fn=partial(collate, text_pipeline=text_pipeline),\n",
        ")"
      ]
    },
    {
      "cell_type": "markdown",
      "id": "95_n2reEdl8-",
      "metadata": {
        "id": "95_n2reEdl8-"
      },
      "source": [
        "## Make CBOW Model\n",
        "![image](https://user-images.githubusercontent.com/74028313/204701161-cd9df4bf-78b8-4b4d-b8b7-ed4a3b5c3922.png)\n",
        "\n",
        "CBOW Models' main concept is to predict center-target word using context words. As you see in above simple architecture, input 2XCBOW_N_WORDS length words are projected to Projection layer. In order to convert each word to embedding, it needs look-up table and we will use torch's Embedding function to convert it. After combining embeddings of context, it use shallow linear neural network to predict target word and compare result with center word's index using cross-entropy loss. Finally, the embedding layer (lookup table) of the trained model itself serves as an embedding representing words."
      ]
    },
    {
      "cell_type": "code",
      "execution_count": 64,
      "id": "5066a121",
      "metadata": {
        "id": "5066a121"
      },
      "outputs": [],
      "source": [
        "class CBOW_Model(nn.Module):\n",
        "    def __init__(self, vocab_size: int, EMBED_DIMENSION, EMBED_MAX_NORM):\n",
        "        super(CBOW_Model, self).__init__()\n",
        "        # TODO 3-1): make CBOW model using nn.Embedding and nn.Linear function\n",
        "        self.embedding_layer = nn.Embedding(num_embeddings=vocab_size, embedding_dim=EMBED_DIMENSION, max_norm=EMBED_MAX_NORM)\n",
        "        self.linear_layer = nn.Linear(EMBED_DIMENSION, vocab_size)\n",
        "\n",
        "    def forward(self, _inputs):\n",
        "        # TODO 3-2): make forward function\n",
        "        # _inputs: (batch_size, 2 * window_size), each element indicates vocab index\n",
        "        # projection_layer: (batch_size, embedding_dim)\n",
        "        # _outputs: (batch_size, vocab_size)\n",
        "\n",
        "        projection_layer = self.embedding_layer(_inputs)\n",
        "        projection_layer = torch.sum(projection_layer, dim=1)\n",
        "        _outputs = self.linear_layer(projection_layer)\n",
        "\n",
        "        return _outputs"
      ]
    },
    {
      "cell_type": "markdown",
      "id": "3e37edd6",
      "metadata": {
        "id": "3e37edd6"
      },
      "source": [
        "## Train the model\n",
        "\n",
        "Let's make _train_epoch and _validate_epoch functions to train the CBOW model.  \n",
        "- model.train() and model.eval() change torch mode in some parts (Dropout, BatchNorm..  etc) of the model to behave differently during inference time.\n",
        "- There is lr_scheduler option which changes learning rate according to epoch level. Try the option if you are interested in."
      ]
    },
    {
      "cell_type": "code",
      "execution_count": 65,
      "id": "gN4OgGATqry3",
      "metadata": {
        "id": "gN4OgGATqry3"
      },
      "outputs": [],
      "source": [
        "vocab_size = len(vocab.get_stoi())\n",
        "\n",
        "model = CBOW_Model(vocab_size=vocab_size, EMBED_DIMENSION = EMBED_DIMENSION, EMBED_MAX_NORM = EMBED_MAX_NORM)\n",
        "loss_function = nn.CrossEntropyLoss()\n",
        "optimizer = optim.Adam(model.parameters(), lr = learning_rate)"
      ]
    },
    {
      "cell_type": "code",
      "execution_count": 66,
      "id": "0cda8d29",
      "metadata": {
        "id": "0cda8d29"
      },
      "outputs": [],
      "source": [
        "from tqdm import tqdm\n",
        "\n",
        "class Train_CBOW:\n",
        "\n",
        "    def __init__(\n",
        "        self,\n",
        "        model,\n",
        "        epochs,\n",
        "        train_dataloader,\n",
        "        val_dataloader,\n",
        "        loss_function,\n",
        "        optimizer,\n",
        "        device,\n",
        "        model_dir,\n",
        "        lr_scheduler = None\n",
        "    ):\n",
        "        self.model = model\n",
        "        self.epochs = epochs\n",
        "        self.train_dataloader = train_dataloader\n",
        "        self.val_dataloader = val_dataloader\n",
        "        self.loss_function = loss_function\n",
        "        self.optimizer = optimizer\n",
        "        self.lr_scheduler = lr_scheduler\n",
        "        self.device = device\n",
        "        self.model_dir = model_dir\n",
        "\n",
        "        self.loss = {\"train\": [], \"val\": []}\n",
        "        self.model.to(self.device)\n",
        "\n",
        "    def train(self):\n",
        "        for epoch in range(self.epochs):\n",
        "            self._train_epoch()\n",
        "            self._validate_epoch()\n",
        "            print(\n",
        "                \"Epoch: {}/{}, Train Loss={:.5f}, Val Loss={:.5f}\".format(\n",
        "                    epoch + 1,\n",
        "                    self.epochs,\n",
        "                    self.loss[\"train\"][-1],\n",
        "                    self.loss[\"val\"][-1],\n",
        "                )\n",
        "            )\n",
        "            if self.lr_scheduler is not None:\n",
        "                self.lr_scheduler.step()\n",
        "\n",
        "\n",
        "    def _train_epoch(self):\n",
        "        self.model.train() # set model as train\n",
        "        loss_list = []\n",
        "        # TODO 4-1):\n",
        "        for b_input, b_output in tqdm(self.train_dataloader):\n",
        "            pred = self.model(b_input)\n",
        "            loss = self.loss_function(pred, b_output)\n",
        "            loss_list.append(loss.item())\n",
        "            # backward\n",
        "            self.optimizer.zero_grad()\n",
        "            loss.backward()\n",
        "            self.optimizer.step()\n",
        "\n",
        "            # for X, y in zip(b_input, b_output):\n",
        "            #     #print(f\"X: {X}\")\n",
        "            #     #print(f\"y: {y}\")\n",
        "            #     pred = self.model(X)\n",
        "            #     #print(f\"pred: {pred}\")\n",
        "            #     loss = self.loss_function(pred, y)\n",
        "            #     #print(f\"train loss: {loss}\")\n",
        "            #     loss_list.append(loss)\n",
        "            #     # backward\n",
        "            #     self.optimizer.zero_grad()\n",
        "            #     loss.backward()\n",
        "            #     self.optimizer.step()\n",
        "        # end of TODO\n",
        "        epoch_loss = np.mean(loss_list)\n",
        "        self.loss[\"train\"].append(epoch_loss)\n",
        "\n",
        "    def _validate_epoch(self):\n",
        "        self.model.eval()\n",
        "        loss_list = []\n",
        "\n",
        "        with torch.no_grad():\n",
        "            # TODO 4-2):\n",
        "            for b_input, b_output in self.val_dataloader:\n",
        "                pred = self.model(b_input)\n",
        "                loss = self.loss_function(pred, b_output)\n",
        "                loss_list.append(loss.item())\n",
        "            # end of TODO\n",
        "        epoch_loss = np.mean(loss_list)\n",
        "        self.loss[\"val\"].append(epoch_loss)\n",
        "\n",
        "\n",
        "    def save_model(self):\n",
        "        model_path = os.path.join(self.model_dir, \"model.pt\")\n",
        "        torch.save(self.model, model_path)\n",
        "\n",
        "    def save_loss(self):\n",
        "        loss_path = os.path.join(self.model_dir, \"loss.json\")\n",
        "        with open(loss_path, \"w\") as fp:\n",
        "            json.dump(self.loss, fp)"
      ]
    },
    {
      "cell_type": "code",
      "execution_count": 67,
      "id": "fcx2Ms537jwR",
      "metadata": {
        "id": "fcx2Ms537jwR"
      },
      "outputs": [],
      "source": [
        "# Option: you could add and change lr_sceduler\n",
        "scheduler = LambdaLR(optimizer, lr_lambda = lambda epoch: 0.95 ** epoch)"
      ]
    },
    {
      "cell_type": "code",
      "execution_count": 69,
      "id": "36edc874",
      "metadata": {
        "colab": {
          "base_uri": "https://localhost:8080/"
        },
        "id": "36edc874",
        "outputId": "1ac489d9-c3f4-4bc4-f39c-9de7562babee"
      },
      "outputs": [
        {
          "output_type": "stream",
          "name": "stderr",
          "text": [
            "100%|██████████| 383/383 [00:10<00:00, 36.30it/s]\n"
          ]
        },
        {
          "output_type": "stream",
          "name": "stdout",
          "text": [
            "Epoch: 1/50, Train Loss=4.64625, Val Loss=4.69610\n"
          ]
        },
        {
          "output_type": "stream",
          "name": "stderr",
          "text": [
            "100%|██████████| 383/383 [00:09<00:00, 41.12it/s]\n"
          ]
        },
        {
          "output_type": "stream",
          "name": "stdout",
          "text": [
            "Epoch: 2/50, Train Loss=4.59170, Val Loss=4.66492\n"
          ]
        },
        {
          "output_type": "stream",
          "name": "stderr",
          "text": [
            "100%|██████████| 383/383 [00:09<00:00, 38.61it/s]\n"
          ]
        },
        {
          "output_type": "stream",
          "name": "stdout",
          "text": [
            "Epoch: 3/50, Train Loss=4.54616, Val Loss=4.64343\n"
          ]
        },
        {
          "output_type": "stream",
          "name": "stderr",
          "text": [
            "100%|██████████| 383/383 [00:10<00:00, 35.77it/s]\n"
          ]
        },
        {
          "output_type": "stream",
          "name": "stdout",
          "text": [
            "Epoch: 4/50, Train Loss=4.50738, Val Loss=4.62399\n"
          ]
        },
        {
          "output_type": "stream",
          "name": "stderr",
          "text": [
            "100%|██████████| 383/383 [00:11<00:00, 33.95it/s]\n"
          ]
        },
        {
          "output_type": "stream",
          "name": "stdout",
          "text": [
            "Epoch: 5/50, Train Loss=4.47179, Val Loss=4.60493\n"
          ]
        },
        {
          "output_type": "stream",
          "name": "stderr",
          "text": [
            "100%|██████████| 383/383 [00:09<00:00, 40.08it/s]\n"
          ]
        },
        {
          "output_type": "stream",
          "name": "stdout",
          "text": [
            "Epoch: 6/50, Train Loss=4.44104, Val Loss=4.58757\n"
          ]
        },
        {
          "output_type": "stream",
          "name": "stderr",
          "text": [
            "100%|██████████| 383/383 [00:09<00:00, 38.58it/s]\n"
          ]
        },
        {
          "output_type": "stream",
          "name": "stdout",
          "text": [
            "Epoch: 7/50, Train Loss=4.41329, Val Loss=4.58004\n"
          ]
        },
        {
          "output_type": "stream",
          "name": "stderr",
          "text": [
            "100%|██████████| 383/383 [00:10<00:00, 37.43it/s]\n"
          ]
        },
        {
          "output_type": "stream",
          "name": "stdout",
          "text": [
            "Epoch: 8/50, Train Loss=4.38715, Val Loss=4.57182\n"
          ]
        },
        {
          "output_type": "stream",
          "name": "stderr",
          "text": [
            "100%|██████████| 383/383 [00:09<00:00, 38.40it/s]\n"
          ]
        },
        {
          "output_type": "stream",
          "name": "stdout",
          "text": [
            "Epoch: 9/50, Train Loss=4.36312, Val Loss=4.56348\n"
          ]
        },
        {
          "output_type": "stream",
          "name": "stderr",
          "text": [
            "100%|██████████| 383/383 [00:09<00:00, 40.95it/s]\n"
          ]
        },
        {
          "output_type": "stream",
          "name": "stdout",
          "text": [
            "Epoch: 10/50, Train Loss=4.34074, Val Loss=4.55489\n"
          ]
        },
        {
          "output_type": "stream",
          "name": "stderr",
          "text": [
            "100%|██████████| 383/383 [00:10<00:00, 37.78it/s]\n"
          ]
        },
        {
          "output_type": "stream",
          "name": "stdout",
          "text": [
            "Epoch: 11/50, Train Loss=4.32033, Val Loss=4.55946\n"
          ]
        },
        {
          "output_type": "stream",
          "name": "stderr",
          "text": [
            "100%|██████████| 383/383 [00:10<00:00, 37.95it/s]\n"
          ]
        },
        {
          "output_type": "stream",
          "name": "stdout",
          "text": [
            "Epoch: 12/50, Train Loss=4.30077, Val Loss=4.54949\n"
          ]
        },
        {
          "output_type": "stream",
          "name": "stderr",
          "text": [
            "100%|██████████| 383/383 [00:09<00:00, 38.87it/s]\n"
          ]
        },
        {
          "output_type": "stream",
          "name": "stdout",
          "text": [
            "Epoch: 13/50, Train Loss=4.28225, Val Loss=4.54711\n"
          ]
        },
        {
          "output_type": "stream",
          "name": "stderr",
          "text": [
            "100%|██████████| 383/383 [00:09<00:00, 40.09it/s]\n"
          ]
        },
        {
          "output_type": "stream",
          "name": "stdout",
          "text": [
            "Epoch: 14/50, Train Loss=4.26567, Val Loss=4.54216\n"
          ]
        },
        {
          "output_type": "stream",
          "name": "stderr",
          "text": [
            "100%|██████████| 383/383 [00:10<00:00, 36.62it/s]\n"
          ]
        },
        {
          "output_type": "stream",
          "name": "stdout",
          "text": [
            "Epoch: 15/50, Train Loss=4.24891, Val Loss=4.53720\n"
          ]
        },
        {
          "output_type": "stream",
          "name": "stderr",
          "text": [
            "100%|██████████| 383/383 [00:10<00:00, 37.72it/s]\n"
          ]
        },
        {
          "output_type": "stream",
          "name": "stdout",
          "text": [
            "Epoch: 16/50, Train Loss=4.23334, Val Loss=4.53500\n"
          ]
        },
        {
          "output_type": "stream",
          "name": "stderr",
          "text": [
            "100%|██████████| 383/383 [00:10<00:00, 35.28it/s]\n"
          ]
        },
        {
          "output_type": "stream",
          "name": "stdout",
          "text": [
            "Epoch: 17/50, Train Loss=4.21876, Val Loss=4.53452\n"
          ]
        },
        {
          "output_type": "stream",
          "name": "stderr",
          "text": [
            "100%|██████████| 383/383 [00:10<00:00, 36.08it/s]\n"
          ]
        },
        {
          "output_type": "stream",
          "name": "stdout",
          "text": [
            "Epoch: 18/50, Train Loss=4.20350, Val Loss=4.51901\n"
          ]
        },
        {
          "output_type": "stream",
          "name": "stderr",
          "text": [
            "100%|██████████| 383/383 [00:11<00:00, 32.18it/s]\n"
          ]
        },
        {
          "output_type": "stream",
          "name": "stdout",
          "text": [
            "Epoch: 19/50, Train Loss=4.19101, Val Loss=4.52959\n"
          ]
        },
        {
          "output_type": "stream",
          "name": "stderr",
          "text": [
            "100%|██████████| 383/383 [00:10<00:00, 38.19it/s]\n"
          ]
        },
        {
          "output_type": "stream",
          "name": "stdout",
          "text": [
            "Epoch: 20/50, Train Loss=4.17801, Val Loss=4.53796\n"
          ]
        },
        {
          "output_type": "stream",
          "name": "stderr",
          "text": [
            "100%|██████████| 383/383 [00:10<00:00, 37.74it/s]\n"
          ]
        },
        {
          "output_type": "stream",
          "name": "stdout",
          "text": [
            "Epoch: 21/50, Train Loss=4.16603, Val Loss=4.52527\n"
          ]
        },
        {
          "output_type": "stream",
          "name": "stderr",
          "text": [
            "100%|██████████| 383/383 [00:11<00:00, 32.37it/s]\n"
          ]
        },
        {
          "output_type": "stream",
          "name": "stdout",
          "text": [
            "Epoch: 22/50, Train Loss=4.15182, Val Loss=4.52549\n"
          ]
        },
        {
          "output_type": "stream",
          "name": "stderr",
          "text": [
            "100%|██████████| 383/383 [00:09<00:00, 38.66it/s]\n"
          ]
        },
        {
          "output_type": "stream",
          "name": "stdout",
          "text": [
            "Epoch: 23/50, Train Loss=4.14190, Val Loss=4.53145\n"
          ]
        },
        {
          "output_type": "stream",
          "name": "stderr",
          "text": [
            "100%|██████████| 383/383 [00:09<00:00, 39.30it/s]\n"
          ]
        },
        {
          "output_type": "stream",
          "name": "stdout",
          "text": [
            "Epoch: 24/50, Train Loss=4.12993, Val Loss=4.52866\n"
          ]
        },
        {
          "output_type": "stream",
          "name": "stderr",
          "text": [
            "100%|██████████| 383/383 [00:10<00:00, 35.67it/s]\n"
          ]
        },
        {
          "output_type": "stream",
          "name": "stdout",
          "text": [
            "Epoch: 25/50, Train Loss=4.11929, Val Loss=4.53191\n"
          ]
        },
        {
          "output_type": "stream",
          "name": "stderr",
          "text": [
            "100%|██████████| 383/383 [00:10<00:00, 35.80it/s]\n"
          ]
        },
        {
          "output_type": "stream",
          "name": "stdout",
          "text": [
            "Epoch: 26/50, Train Loss=4.10853, Val Loss=4.53052\n"
          ]
        },
        {
          "output_type": "stream",
          "name": "stderr",
          "text": [
            "100%|██████████| 383/383 [00:14<00:00, 27.04it/s]\n"
          ]
        },
        {
          "output_type": "stream",
          "name": "stdout",
          "text": [
            "Epoch: 27/50, Train Loss=4.09753, Val Loss=4.52968\n"
          ]
        },
        {
          "output_type": "stream",
          "name": "stderr",
          "text": [
            "100%|██████████| 383/383 [00:10<00:00, 37.84it/s]\n"
          ]
        },
        {
          "output_type": "stream",
          "name": "stdout",
          "text": [
            "Epoch: 28/50, Train Loss=4.08837, Val Loss=4.53052\n"
          ]
        },
        {
          "output_type": "stream",
          "name": "stderr",
          "text": [
            "100%|██████████| 383/383 [00:09<00:00, 39.23it/s]\n"
          ]
        },
        {
          "output_type": "stream",
          "name": "stdout",
          "text": [
            "Epoch: 29/50, Train Loss=4.07831, Val Loss=4.53084\n"
          ]
        },
        {
          "output_type": "stream",
          "name": "stderr",
          "text": [
            "100%|██████████| 383/383 [00:10<00:00, 36.18it/s]\n"
          ]
        },
        {
          "output_type": "stream",
          "name": "stdout",
          "text": [
            "Epoch: 30/50, Train Loss=4.06977, Val Loss=4.52953\n"
          ]
        },
        {
          "output_type": "stream",
          "name": "stderr",
          "text": [
            "100%|██████████| 383/383 [00:10<00:00, 35.68it/s]\n"
          ]
        },
        {
          "output_type": "stream",
          "name": "stdout",
          "text": [
            "Epoch: 31/50, Train Loss=4.06011, Val Loss=4.53133\n"
          ]
        },
        {
          "output_type": "stream",
          "name": "stderr",
          "text": [
            "100%|██████████| 383/383 [00:09<00:00, 39.25it/s]\n"
          ]
        },
        {
          "output_type": "stream",
          "name": "stdout",
          "text": [
            "Epoch: 32/50, Train Loss=4.05223, Val Loss=4.54148\n"
          ]
        },
        {
          "output_type": "stream",
          "name": "stderr",
          "text": [
            "100%|██████████| 383/383 [00:09<00:00, 39.96it/s]\n"
          ]
        },
        {
          "output_type": "stream",
          "name": "stdout",
          "text": [
            "Epoch: 33/50, Train Loss=4.04227, Val Loss=4.54175\n"
          ]
        },
        {
          "output_type": "stream",
          "name": "stderr",
          "text": [
            "100%|██████████| 383/383 [00:10<00:00, 37.90it/s]\n"
          ]
        },
        {
          "output_type": "stream",
          "name": "stdout",
          "text": [
            "Epoch: 34/50, Train Loss=4.03459, Val Loss=4.54366\n"
          ]
        },
        {
          "output_type": "stream",
          "name": "stderr",
          "text": [
            "100%|██████████| 383/383 [00:10<00:00, 37.82it/s]\n"
          ]
        },
        {
          "output_type": "stream",
          "name": "stdout",
          "text": [
            "Epoch: 35/50, Train Loss=4.02590, Val Loss=4.53779\n"
          ]
        },
        {
          "output_type": "stream",
          "name": "stderr",
          "text": [
            "100%|██████████| 383/383 [00:09<00:00, 40.33it/s]\n"
          ]
        },
        {
          "output_type": "stream",
          "name": "stdout",
          "text": [
            "Epoch: 36/50, Train Loss=4.01919, Val Loss=4.54041\n"
          ]
        },
        {
          "output_type": "stream",
          "name": "stderr",
          "text": [
            "100%|██████████| 383/383 [00:10<00:00, 36.81it/s]\n"
          ]
        },
        {
          "output_type": "stream",
          "name": "stdout",
          "text": [
            "Epoch: 37/50, Train Loss=4.01061, Val Loss=4.54820\n"
          ]
        },
        {
          "output_type": "stream",
          "name": "stderr",
          "text": [
            "100%|██████████| 383/383 [00:10<00:00, 35.13it/s]\n"
          ]
        },
        {
          "output_type": "stream",
          "name": "stdout",
          "text": [
            "Epoch: 38/50, Train Loss=4.00313, Val Loss=4.54388\n"
          ]
        },
        {
          "output_type": "stream",
          "name": "stderr",
          "text": [
            "100%|██████████| 383/383 [00:11<00:00, 33.64it/s]\n"
          ]
        },
        {
          "output_type": "stream",
          "name": "stdout",
          "text": [
            "Epoch: 39/50, Train Loss=3.99553, Val Loss=4.54829\n"
          ]
        },
        {
          "output_type": "stream",
          "name": "stderr",
          "text": [
            "100%|██████████| 383/383 [00:12<00:00, 29.91it/s]\n"
          ]
        },
        {
          "output_type": "stream",
          "name": "stdout",
          "text": [
            "Epoch: 40/50, Train Loss=3.98846, Val Loss=4.55051\n"
          ]
        },
        {
          "output_type": "stream",
          "name": "stderr",
          "text": [
            "100%|██████████| 383/383 [00:10<00:00, 35.92it/s]\n"
          ]
        },
        {
          "output_type": "stream",
          "name": "stdout",
          "text": [
            "Epoch: 41/50, Train Loss=3.98123, Val Loss=4.55832\n"
          ]
        },
        {
          "output_type": "stream",
          "name": "stderr",
          "text": [
            "100%|██████████| 383/383 [00:09<00:00, 40.02it/s]\n"
          ]
        },
        {
          "output_type": "stream",
          "name": "stdout",
          "text": [
            "Epoch: 42/50, Train Loss=3.97489, Val Loss=4.56517\n"
          ]
        },
        {
          "output_type": "stream",
          "name": "stderr",
          "text": [
            "100%|██████████| 383/383 [00:10<00:00, 37.40it/s]\n"
          ]
        },
        {
          "output_type": "stream",
          "name": "stdout",
          "text": [
            "Epoch: 43/50, Train Loss=3.96854, Val Loss=4.55796\n"
          ]
        },
        {
          "output_type": "stream",
          "name": "stderr",
          "text": [
            "100%|██████████| 383/383 [00:10<00:00, 38.00it/s]\n"
          ]
        },
        {
          "output_type": "stream",
          "name": "stdout",
          "text": [
            "Epoch: 44/50, Train Loss=3.96111, Val Loss=4.55676\n"
          ]
        },
        {
          "output_type": "stream",
          "name": "stderr",
          "text": [
            "100%|██████████| 383/383 [00:09<00:00, 40.29it/s]\n"
          ]
        },
        {
          "output_type": "stream",
          "name": "stdout",
          "text": [
            "Epoch: 45/50, Train Loss=3.95559, Val Loss=4.56282\n"
          ]
        },
        {
          "output_type": "stream",
          "name": "stderr",
          "text": [
            "100%|██████████| 383/383 [00:09<00:00, 39.55it/s]\n"
          ]
        },
        {
          "output_type": "stream",
          "name": "stdout",
          "text": [
            "Epoch: 46/50, Train Loss=3.94968, Val Loss=4.56204\n"
          ]
        },
        {
          "output_type": "stream",
          "name": "stderr",
          "text": [
            "100%|██████████| 383/383 [00:10<00:00, 37.76it/s]\n"
          ]
        },
        {
          "output_type": "stream",
          "name": "stdout",
          "text": [
            "Epoch: 47/50, Train Loss=3.94344, Val Loss=4.56119\n"
          ]
        },
        {
          "output_type": "stream",
          "name": "stderr",
          "text": [
            "100%|██████████| 383/383 [00:10<00:00, 38.13it/s]\n"
          ]
        },
        {
          "output_type": "stream",
          "name": "stdout",
          "text": [
            "Epoch: 48/50, Train Loss=3.93832, Val Loss=4.57399\n"
          ]
        },
        {
          "output_type": "stream",
          "name": "stderr",
          "text": [
            "100%|██████████| 383/383 [00:15<00:00, 24.56it/s]\n"
          ]
        },
        {
          "output_type": "stream",
          "name": "stdout",
          "text": [
            "Epoch: 49/50, Train Loss=3.93088, Val Loss=4.57215\n"
          ]
        },
        {
          "output_type": "stream",
          "name": "stderr",
          "text": [
            "100%|██████████| 383/383 [00:09<00:00, 40.72it/s]\n"
          ]
        },
        {
          "output_type": "stream",
          "name": "stdout",
          "text": [
            "Epoch: 50/50, Train Loss=3.92646, Val Loss=4.57333\n",
            "Training finished.\n"
          ]
        }
      ],
      "source": [
        "trainer = Train_CBOW(\n",
        "    model=model,\n",
        "    epochs=epochs,\n",
        "    train_dataloader=train_dataloader,\n",
        "    val_dataloader=val_dataloader,\n",
        "    loss_function=loss_function,\n",
        "    optimizer=optimizer,\n",
        "    lr_scheduler=None,\n",
        "    device=device,\n",
        "    model_dir=result_dir,\n",
        ")\n",
        "\n",
        "trainer.train()\n",
        "print(\"Training finished.\")\n"
      ]
    },
    {
      "cell_type": "code",
      "execution_count": 70,
      "id": "840866c3",
      "metadata": {
        "id": "840866c3"
      },
      "outputs": [],
      "source": [
        "# save model\n",
        "trainer.save_model()\n",
        "trainer.save_loss()\n",
        "\n",
        "vocab_path = os.path.join(result_dir, \"vocab.pt\")\n",
        "torch.save(vocab, vocab_path)"
      ]
    },
    {
      "cell_type": "markdown",
      "id": "9373acbe",
      "metadata": {
        "id": "9373acbe"
      },
      "source": [
        "### Result\n",
        "Let's inference trained word embedding and visualize it."
      ]
    },
    {
      "cell_type": "code",
      "execution_count": 71,
      "id": "a6d19035",
      "metadata": {
        "id": "a6d19035"
      },
      "outputs": [],
      "source": [
        "import pandas as pd\n",
        "import sys\n",
        "\n",
        "from sklearn.manifold import TSNE\n",
        "import plotly.graph_objects as go\n",
        "\n",
        "sys.path.append(\"../\")"
      ]
    },
    {
      "cell_type": "code",
      "execution_count": 72,
      "id": "fNszs2GvMbbz",
      "metadata": {
        "id": "fNszs2GvMbbz",
        "colab": {
          "base_uri": "https://localhost:8080/",
          "height": 36
        },
        "outputId": "ad49762e-a380-44bf-e05a-5a45ef8df962"
      },
      "outputs": [
        {
          "output_type": "execute_result",
          "data": {
            "text/plain": [
              "'/content/drive/MyDrive/course_ai_hw5/weights/'"
            ],
            "application/vnd.google.colaboratory.intrinsic+json": {
              "type": "string"
            }
          },
          "metadata": {},
          "execution_count": 72
        }
      ],
      "source": [
        "result_dir"
      ]
    },
    {
      "cell_type": "code",
      "execution_count": 73,
      "id": "ba4c1ad2",
      "metadata": {
        "id": "ba4c1ad2",
        "colab": {
          "base_uri": "https://localhost:8080/"
        },
        "outputId": "80ac3812-07d6-406d-ca43-2233ea83c677"
      },
      "outputs": [
        {
          "output_type": "execute_result",
          "data": {
            "text/plain": [
              "(4122, 300)"
            ]
          },
          "metadata": {},
          "execution_count": 73
        }
      ],
      "source": [
        "device = torch.device(\"cuda\" if torch.cuda.is_available() else \"cpu\")\n",
        "\n",
        "# reload saved model and vocab\n",
        "model = torch.load(os.path.join(result_dir,\"model.pt\"), map_location=device)\n",
        "vocab = torch.load(os.path.join(result_dir,\"vocab.pt\"))\n",
        "\n",
        "# embedding is model's first layer\n",
        "embeddings = list(model.parameters())[0]\n",
        "embeddings = embeddings.cpu().detach().numpy()\n",
        "\n",
        "# normalization\n",
        "norms = (embeddings ** 2).sum(axis=1) ** (1 / 2)\n",
        "norms = np.reshape(norms, (len(norms), 1))\n",
        "embeddings_norm = embeddings / norms\n",
        "embeddings_norm.shape\n",
        "\n"
      ]
    },
    {
      "cell_type": "markdown",
      "id": "arTAGVNbuxvP",
      "metadata": {
        "id": "arTAGVNbuxvP"
      },
      "source": [
        "### Make t-SNE graph of trained embedding and color numeric values"
      ]
    },
    {
      "cell_type": "code",
      "execution_count": 74,
      "id": "e4e2d8a7",
      "metadata": {
        "id": "e4e2d8a7",
        "colab": {
          "base_uri": "https://localhost:8080/"
        },
        "outputId": "a16413d6-bac0-4501-c72f-a292571b581f"
      },
      "outputs": [
        {
          "output_type": "stream",
          "name": "stdout",
          "text": [
            "[-38.123863  17.07595 ]\n"
          ]
        }
      ],
      "source": [
        "embeddings_df = pd.DataFrame(embeddings_norm)\n",
        "fig = go.Figure()\n",
        "# TODO 5-1) : make 2-d t-SNE graph of all vocabs and color only for numeric values(others, just color black)\n",
        "tsne = TSNE(n_components=2)\n",
        "words_embedded = tsne.fit_transform(embeddings_df)\n",
        "print(words_embedded[0])"
      ]
    },
    {
      "cell_type": "code",
      "source": [
        "numeric_values = [word for word in vocab.get_stoi() if word.isdigit()]\n",
        "numeric_indices = [vocab[word] for word in numeric_values]\n",
        "non_numeric_indices = [i for i in range(len(vocab.get_stoi())) if i not in numeric_indices]\n",
        "print(len(numeric_indices))\n",
        "print(len(non_numeric_indices))"
      ],
      "metadata": {
        "colab": {
          "base_uri": "https://localhost:8080/"
        },
        "id": "6B0f5luX9GEK",
        "outputId": "f3d07d37-eec3-4ccf-dc24-351009385bec"
      },
      "id": "6B0f5luX9GEK",
      "execution_count": 75,
      "outputs": [
        {
          "output_type": "stream",
          "name": "stdout",
          "text": [
            "216\n",
            "3906\n"
          ]
        }
      ]
    },
    {
      "cell_type": "code",
      "source": [
        "fig.add_trace(go.Scatter(\n",
        "    x=words_embedded[numeric_indices, 0],\n",
        "    y=words_embedded[numeric_indices, 1],\n",
        "    mode='markers',\n",
        "    marker=dict(\n",
        "        color=\"blue\"\n",
        "    )\n",
        "))\n",
        "fig.add_trace(go.Scatter(\n",
        "    x=words_embedded[non_numeric_indices, 0],\n",
        "    y=words_embedded[non_numeric_indices, 1],\n",
        "    mode='markers',\n",
        "    marker=dict(\n",
        "        color=\"black\"\n",
        "    )\n",
        "))\n",
        "\n",
        "\n",
        "fig.show()"
      ],
      "metadata": {
        "colab": {
          "base_uri": "https://localhost:8080/",
          "height": 542
        },
        "id": "6GAAZqH450WE",
        "outputId": "a31f719c-e6ea-4291-daee-f919cf654070"
      },
      "id": "6GAAZqH450WE",
      "execution_count": 76,
      "outputs": [
        {
          "output_type": "display_data",
          "data": {
            "text/html": [
              "<html>\n",
              "<head><meta charset=\"utf-8\" /></head>\n",
              "<body>\n",
              "    <div>            <script src=\"https://cdnjs.cloudflare.com/ajax/libs/mathjax/2.7.5/MathJax.js?config=TeX-AMS-MML_SVG\"></script><script type=\"text/javascript\">if (window.MathJax && window.MathJax.Hub && window.MathJax.Hub.Config) {window.MathJax.Hub.Config({SVG: {font: \"STIX-Web\"}});}</script>                <script type=\"text/javascript\">window.PlotlyConfig = {MathJaxConfig: 'local'};</script>\n",
              "        <script charset=\"utf-8\" src=\"https://cdn.plot.ly/plotly-2.24.1.min.js\"></script>                <div id=\"82f8b16d-d48d-486e-8c18-2d2fa394e281\" class=\"plotly-graph-div\" style=\"height:525px; width:100%;\"></div>            <script type=\"text/javascript\">                                    window.PLOTLYENV=window.PLOTLYENV || {};                                    if (document.getElementById(\"82f8b16d-d48d-486e-8c18-2d2fa394e281\")) {                    Plotly.newPlot(                        \"82f8b16d-d48d-486e-8c18-2d2fa394e281\",                        [{\"marker\":{\"color\":\"blue\"},\"mode\":\"markers\",\"x\":[-12.829065322875977,-10.31498908996582,-39.802574157714844,-3.1461541652679443,-13.020030975341797,-40.640628814697266,-4.318933963775635,-13.228476524353027,-10.958518981933594,-7.330451965332031,-5.402687072753906,-11.887539863586426,-39.68819046020508,-12.584952354431152,-4.309380531311035,-38.701438903808594,-45.79069519042969,-43.38595199584961,-42.512760162353516,-40.619972229003906,-37.68559265136719,-11.15954303741455,-40.44388961791992,-42.28972625732422,-41.93077850341797,-38.07896423339844,-8.177118301391602,-44.99039840698242,-40.924625396728516,-9.214492797851562,-10.826449394226074,-43.552852630615234,-42.846153259277344,-10.473490715026855,-7.296745300292969,-44.569366455078125,-42.313724517822266,-6.767620086669922,-11.3189058303833,-12.014385223388672,-46.90741729736328,-13.302215576171875,-45.828102111816406,-12.659112930297852,-10.084710121154785,-47.04710388183594,-40.06052780151367,-47.22991943359375,-39.2259521484375,-5.844850540161133,-8.03282642364502,-37.92056655883789,-8.530238151550293,-41.73102569580078,-13.753432273864746,-10.469141006469727,-41.93699645996094,-7.821147441864014,-4.6193318367004395,-4.895804405212402,-40.5732307434082,-38.19675064086914,-48.40147018432617,-48.4452018737793,-5.953532695770264,-7.4423723220825195,-5.66085958480835,-47.4639892578125,-48.935916900634766,-37.349098205566406,-45.17489242553711,-47.71435546875,-42.712013244628906,-47.66923141479492,-43.3698844909668,-44.76046371459961,-39.57321548461914,-6.9523515701293945,-5.845637798309326,-10.18954086303711,-10.14795207977295,-7.006650447845459,-10.750892639160156,-5.632101058959961,-9.535120964050293,-7.976786136627197,-45.680118560791016,-11.43994140625,-39.86820983886719,-7.354869842529297,-50.27434539794922,-8.659707069396973,-8.137303352355957,-6.276116847991943,-11.21760368347168,-9.960753440856934,-6.490569591522217,-11.328557014465332,-42.72480773925781,-50.04344177246094,-41.91795349121094,-45.41081237792969,-43.394283294677734,-8.995845794677734,-10.249543190002441,-10.935627937316895,-43.11064910888672,14.762239456176758,-47.926666259765625,-9.0460844039917,-48.58732604980469,-45.47175598144531,-41.175628662109375,-9.581847190856934,-48.22096633911133,-46.780967712402344,-49.52647018432617,-5.469118118286133,-38.57345962524414,-43.60118103027344,-10.356452941894531,-47.367916107177734,-45.69004821777344,-7.194131374359131,-12.192450523376465,-5.727475166320801,-5.931548595428467,-14.492027282714844,-41.65310287475586,-13.224350929260254,-48.62223434448242,-48.774620056152344,-48.755523681640625,-43.535945892333984,-9.652846336364746,-7.443919658660889,-6.369836330413818,-48.43638610839844,-8.19141960144043,-49.53009796142578,-10.230264663696289,-38.26688003540039,-7.5058698654174805,-49.26790237426758,-41.28682327270508,-7.464339733123779,-49.438758850097656,-37.84912872314453,-48.74630355834961,-47.84659957885742,-8.053845405578613,-8.668890953063965,-8.893022537231445,-39.54645538330078,-7.340919017791748,-41.10966491699219,-47.16133117675781,-49.70949172973633,-9.665313720703125,-8.183229446411133,-39.24936294555664,-47.817283630371094,-6.106785774230957,-6.702120304107666,-11.724173545837402,-11.518107414245605,-11.86471176147461,-48.86621856689453,-6.136885166168213,-11.322879791259766,-38.538814544677734,-48.42299270629883,-45.5703010559082,-46.95560073852539,-41.10359191894531,-44.44136428833008,-7.66510009765625,-6.576737880706787,-7.251531600952148,-11.269092559814453,-45.80315399169922,-10.064533233642578,-12.560406684875488,-4.896313190460205,-43.390968322753906,-47.102745056152344,-9.171029090881348,-4.300288677215576,-50.111846923828125,-36.94989776611328,-44.88552474975586,-44.384803771972656,-39.20404815673828,-50.1317024230957,-47.418121337890625,-44.81687545776367,-46.66660690307617,-48.26473617553711,-9.224416732788086,-5.802695274353027,-13.602818489074707,-48.73778533935547,-6.5216169357299805,-37.05183410644531,-45.80978775024414,-9.280254364013672,-13.63536548614502,-9.454229354858398,-3.924015522003174,-9.575946807861328,-4.7083282470703125,-39.14963150024414,-46.69845962524414,-42.85661697387695,-41.5304069519043,-40.17191696166992],\"y\":[64.39695739746094,66.24279022216797,41.12543869018555,65.61847686767578,62.145572662353516,40.810096740722656,65.94397735595703,62.11827850341797,70.06906127929688,63.69612503051758,61.684654235839844,69.49881744384766,39.82121276855469,68.79573822021484,62.86077117919922,40.505672454833984,45.41373825073242,39.779144287109375,45.67925262451172,45.93525695800781,41.986331939697266,71.0137939453125,46.28980255126953,44.707088470458984,43.527591705322266,42.34375762939453,65.40265655517578,41.83475875854492,44.9190788269043,67.26184844970703,67.177978515625,43.81367492675781,48.714691162109375,64.20671844482422,69.82830810546875,46.43935775756836,45.13294982910156,63.203277587890625,68.1603012084961,65.96174621582031,44.23654556274414,67.05745697021484,46.29104995727539,70.03968048095703,68.42130279541016,43.14701843261719,40.539093017578125,41.249732971191406,44.002315521240234,66.98475646972656,64.99336242675781,43.04243469238281,65.60718536376953,41.865230560302734,66.45829772949219,69.94514465332031,42.8803596496582,68.42279052734375,62.97523880004883,61.16139221191406,44.2118034362793,44.07054901123047,45.36977005004883,38.36355972290039,63.33467483520508,70.8494873046875,66.00162506103516,37.12934494018555,40.25044250488281,43.53880310058594,48.08086013793945,38.280189514160156,46.29225158691406,37.8189697265625,48.18370819091797,48.25385665893555,43.56788635253906,71.41592407226562,62.22677993774414,73.07369232177734,74.36117553710938,65.96316528320312,67.05064392089844,63.800777435302734,74.60780334472656,74.4426040649414,43.888702392578125,73.73986053466797,42.510555267333984,64.4564208984375,37.77332305908203,73.76451873779297,67.10699462890625,73.2586898803711,74.2068862915039,74.92103576660156,71.63512420654297,74.18440246582031,41.00288009643555,38.93585968017578,41.380271911621094,48.46543884277344,39.725914001464844,71.90983581542969,64.1831283569336,68.36882781982422,44.824798583984375,35.87900161743164,41.106292724609375,72.91725158691406,37.993682861328125,40.073822021484375,47.88579177856445,73.54991149902344,41.10959243774414,46.7264289855957,42.43393325805664,68.80330657958984,45.37590789794922,44.21839141845703,74.27734375,40.05604934692383,43.67783737182617,74.27928161621094,68.45802307128906,72.17745208740234,71.29866790771484,67.27948760986328,42.49354553222656,62.248008728027344,37.52510070800781,38.37603759765625,40.09189224243164,40.40021514892578,63.59190368652344,73.25739288330078,73.58329010009766,37.64790344238281,71.17550659179688,38.779624938964844,64.87400817871094,44.61686325073242,66.68164825439453,37.59067916870117,47.39488983154297,73.13450622558594,42.441349029541016,44.2668342590332,40.94570541381836,37.9327392578125,71.802490234375,71.06085968017578,71.85794067382812,42.101444244384766,73.35237121582031,43.72618865966797,42.37360763549805,40.873416900634766,65.62871551513672,72.64419555664062,45.8399543762207,41.781227111816406,62.93999481201172,72.02444458007812,68.67733001708984,62.785194396972656,73.61121368408203,43.25407028198242,65.18519592285156,64.90184783935547,41.32365417480469,42.79753112792969,42.513912200927734,47.190555572509766,44.28549575805664,45.19646072387695,68.82990264892578,67.55302429199219,71.99910736083984,66.82132720947266,39.89628219604492,69.5845718383789,66.96150207519531,63.72043228149414,48.01123809814453,46.3586311340332,67.33244323730469,68.79182434082031,42.84450912475586,44.510536193847656,44.985321044921875,41.915252685546875,44.98829650878906,43.201045989990234,43.204978942871094,43.59772872924805,41.98305892944336,45.144100189208984,67.77810668945312,61.937965393066406,68.4745864868164,38.97149658203125,61.64325714111328,44.05329132080078,45.782066345214844,66.00203704833984,67.30073547363281,70.17042541503906,65.70703125,68.66270446777344,62.376197814941406,41.88570785522461,45.213829040527344,43.22333526611328,46.45514678955078,42.91483688354492],\"type\":\"scatter\"},{\"marker\":{\"color\":\"black\"},\"mode\":\"markers\",\"x\":[-38.123863220214844,46.14015197753906,33.809078216552734,60.710792541503906,-59.80146408081055,52.35221481323242,52.81604766845703,51.40827941894531,55.996360778808594,63.5240478515625,54.60148239135742,42.29902267456055,52.23697280883789,49.31930923461914,61.810970306396484,49.044307708740234,60.768978118896484,51.47735595703125,-48.271453857421875,53.85207748413086,34.08881378173828,49.552120208740234,56.206398010253906,21.218704223632812,50.081539154052734,24.103635787963867,48.85746765136719,-55.25023651123047,59.91709518432617,66.23084259033203,-59.01210403442383,-44.87275314331055,49.55637741088867,42.220298767089844,51.112205505371094,55.58732986450195,29.598276138305664,49.33417510986328,42.269996643066406,-59.476261138916016,10.493999481201172,54.71257400512695,39.37858581542969,49.66399002075195,-2.240553379058838,-51.73194885253906,-59.55573654174805,38.2254638671875,62.47356033325195,-58.488616943359375,53.92885971069336,1.4078519344329834,50.46390914916992,50.60226821899414,16.999805450439453,56.39665985107422,-45.17792892456055,-27.997154235839844,48.99416732788086,60.88423538208008,55.523502349853516,10.584364891052246,43.438961029052734,59.27656936645508,43.30802536010742,52.38848114013672,-52.28364944458008,60.89604949951172,54.42148971557617,-23.54703712463379,33.62319564819336,44.627708435058594,1.295896291732788,24.309541702270508,59.606109619140625,62.2700309753418,53.782718658447266,57.06503677368164,-57.01088333129883,-24.452529907226562,40.067832946777344,45.702030181884766,54.22428894042969,62.292999267578125,39.89961242675781,-22.26119041442871,-11.206358909606934,45.04884338378906,-25.04707908630371,48.34634017944336,62.579872131347656,55.46111297607422,28.169681549072266,-24.655742645263672,-57.05027770996094,7.128433704376221,-21.449050903320312,52.15406036376953,-20.137744903564453,45.6290283203125,45.55525207519531,33.06962966918945,-28.35748863220215,-54.616920471191406,-24.592002868652344,8.331339836120605,-15.946362495422363,60.205055236816406,8.305975914001465,24.46068000793457,52.50347137451172,-6.294640064239502,-19.313322067260742,43.97714614868164,29.930580139160156,-21.900693893432617,52.51365661621094,6.376161575317383,22.00103187561035,48.358482360839844,50.596923828125,36.35873031616211,47.051239013671875,48.996971130371094,1.011986494064331,-26.460468292236328,58.93522644042969,54.02779769897461,-13.699106216430664,-10.995327949523926,62.31106185913086,-23.490854263305664,32.9126091003418,54.25208282470703,53.98320007324219,-18.96061134338379,52.46611022949219,2.9044570922851562,42.00773239135742,-25.64109992980957,64.4936752319336,19.715639114379883,42.422786712646484,2.176790714263916,52.6231803894043,-38.124603271484375,-34.52327346801758,-9.741353034973145,64.5165786743164,-18.45611572265625,41.54146957397461,23.603755950927734,12.127288818359375,-29.15689468383789,-10.604806900024414,61.88616180419922,36.361083984375,50.05611801147461,34.014774322509766,23.590320587158203,-8.641626358032227,0.4275219738483429,-39.07169723510742,-49.769554138183594,62.465450286865234,-53.80510330200195,38.23227310180664,-7.794559478759766,42.30683517456055,32.94947052001953,11.02580451965332,21.781993865966797,-52.503726959228516,55.31268310546875,-25.267040252685547,-23.723464965820312,-23.666961669921875,0.5088876485824585,39.245967864990234,53.93831253051758,9.222735404968262,18.333057403564453,62.99937438964844,63.80125427246094,32.7504768371582,-23.720653533935547,-23.294057846069336,-3.4960474967956543,0.1558505892753601,51.97951889038086,-2.5373377799987793,36.239315032958984,42.52290344238281,10.655562400817871,33.280677795410156,-8.517890930175781,35.188655853271484,-21.34943962097168,0.697607159614563,19.701332092285156,63.16340637207031,49.19461441040039,-29.388534545898438,-35.00133514404297,-23.83879852294922,3.40143084526062,16.569353103637695,8.567926406860352,-29.091506958007812,-49.894657135009766,6.588601589202881,36.78586196899414,31.4946231842041,21.581707000732422,41.30647659301758,-6.100931167602539,-23.44955825805664,45.86903762817383,-19.25423812866211,-42.3515510559082,7.362886905670166,-14.273677825927734,3.2298498153686523,-18.898765563964844,-30.35930061340332,-23.387407302856445,31.38576316833496,-2.794435977935791,6.890236854553223,23.93611717224121,-23.160415649414062,-17.07587242126465,37.2735710144043,-35.9142951965332,-23.741090774536133,-22.719440460205078,-23.831907272338867,27.929012298583984,-24.908597946166992,23.969335556030273,47.472347259521484,53.53670120239258,-34.055965423583984,34.00442123413086,-43.420753479003906,16.792673110961914,-9.480412483215332,-37.99616241455078,-27.041948318481445,39.376888275146484,54.12265396118164,-10.142908096313477,-30.540813446044922,-43.96201705932617,15.596410751342773,40.072418212890625,66.65253448486328,10.756514549255371,-24.068265914916992,16.665651321411133,4.60490608215332,-12.52277946472168,12.362714767456055,-24.180801391601562,21.438528060913086,69.52498626708984,-12.846224784851074,-52.16395950317383,-23.272174835205078,30.557373046875,-55.99197769165039,23.614948272705078,-27.444393157958984,18.465288162231445,-43.75555419921875,-25.7249698638916,-20.698406219482422,-17.349119186401367,3.8923232555389404,11.6776123046875,-51.88949966430664,29.650318145751953,36.872718811035156,32.66209030151367,-10.900135040283203,-32.56521987915039,-24.435752868652344,30.350711822509766,-5.2775187492370605,-26.291973114013672,56.285369873046875,-20.204374313354492,41.59406280517578,54.62616729736328,12.856252670288086,51.58605194091797,11.539562225341797,-14.405141830444336,7.470729827880859,13.478404998779297,-29.0368595123291,38.785980224609375,-11.595864295959473,8.180736541748047,0.22357682883739471,7.304089069366455,37.83038330078125,-10.98352336883545,33.362205505371094,23.676294326782227,11.880502700805664,31.668901443481445,-9.307584762573242,-25.256500244140625,-50.715721130371094,-0.7194192409515381,-24.520835876464844,-19.44741439819336,-10.08454704284668,-5.716585159301758,39.10222625732422,-6.904229164123535,-21.91710662841797,9.410552978515625,-10.350016593933105,-16.417478561401367,43.24797821044922,27.010286331176758,1.435932993888855,51.44392395019531,-23.776670455932617,2.5344808101654053,60.93653869628906,24.939119338989258,47.37593460083008,-36.01368713378906,12.690839767456055,18.10236930847168,-21.850994110107422,-24.363365173339844,-5.317614555358887,6.585132122039795,10.17273998260498,33.499107360839844,61.3018684387207,8.441906929016113,31.39803695678711,-3.2063584327697754,35.879661560058594,56.144676208496094,17.839073181152344,43.17002487182617,-25.133895874023438,-24.922691345214844,-24.12104034423828,44.31767272949219,24.582542419433594,36.36977767944336,6.464818477630615,49.07077407836914,-50.5467414855957,48.518314361572266,-5.802935600280762,35.08938980102539,-45.40538024902344,46.3919792175293,25.422931671142578,6.826935768127441,0.9963067173957825,28.54584312438965,-21.951263427734375,-20.821929931640625,-25.38189125061035,6.279155254364014,-48.99971389770508,36.23387908935547,-50.62839889526367,4.863083362579346,1.8436689376831055,19.904333114624023,-9.887813568115234,45.17465591430664,36.6828727722168,63.03043746948242,1.5516823530197144,-28.768049240112305,-44.376651763916016,-32.342529296875,18.088871002197266,54.44290542602539,41.2004508972168,-35.88390350341797,29.811172485351562,-37.92051315307617,0.9670257568359375,-6.129701614379883,6.563698768615723,37.476009368896484,6.466302394866943,43.12773895263672,20.348037719726562,-5.099156379699707,-18.824174880981445,-24.12372589111328,61.10028076171875,28.883060455322266,15.966424942016602,-25.46204376220703,-2.9991331100463867,21.37030601501465,-50.136775970458984,19.343177795410156,28.759775161743164,-8.415583610534668,-34.47884750366211,6.006594657897949,46.811302185058594,-11.454117774963379,43.264617919921875,43.25462341308594,-59.0794792175293,-24.14772605895996,14.566119194030762,36.69984436035156,-10.863473892211914,23.131492614746094,0.601767361164093,7.96895694732666,-31.273332595825195,-27.450815200805664,-10.06345272064209,-31.419740676879883,9.258772850036621,39.635780334472656,-7.062137126922607,15.957645416259766,-37.58295822143555,18.902490615844727,-14.799787521362305,-37.5495719909668,41.19404602050781,24.488784790039062,-9.478987693786621,12.107889175415039,-32.93324279785156,41.197662353515625,43.8350944519043,-7.124438762664795,2.112492322921753,19.194622039794922,-21.6218318939209,17.398601531982422,0.9980336427688599,38.18989562988281,18.56513023376465,-37.96119689941406,-21.586654663085938,-34.70669174194336,-13.059725761413574,49.04486083984375,54.806175231933594,29.631704330444336,20.17905616760254,18.956811904907227,-4.358237266540527,29.807790756225586,3.734126091003418,61.88123321533203,21.504474639892578,-19.178499221801758,-49.500267028808594,33.12013626098633,21.896808624267578,-12.866427421569824,-54.69268798828125,7.765375137329102,-19.38300895690918,52.56011962890625,-27.86589813232422,-1.3637973070144653,34.52591323852539,24.240459442138672,16.691808700561523,22.779518127441406,13.548432350158691,-30.017059326171875,5.599817752838135,-53.823829650878906,27.407583236694336,24.980182647705078,-15.226677894592285,-30.488405227661133,-12.006912231445312,22.279285430908203,8.967817306518555,-4.978634834289551,-12.17055892944336,-28.968793869018555,-11.187932968139648,62.26682662963867,-31.7447566986084,43.47513198852539,46.58030319213867,37.24089050292969,-27.49901580810547,41.57737350463867,61.78889083862305,23.292631149291992,-36.86111068725586,-17.409868240356445,36.945133209228516,25.591733932495117,23.043180465698242,1.0970569849014282,-23.289840698242188,3.9827959537506104,43.15009307861328,-14.900721549987793,-46.878944396972656,61.33203887939453,6.64715576171875,47.25009536743164,9.862372398376465,59.1915397644043,35.6125373840332,18.587711334228516,-16.010692596435547,1.2027833461761475,35.38422393798828,31.900928497314453,13.790152549743652,-19.63350486755371,14.22463607788086,-36.92351150512695,15.24863052368164,49.98481369018555,2.9989397525787354,3.658820390701294,-27.383586883544922,-2.010441541671753,46.9897346496582,-3.6308155059814453,5.501067161560059,1.2315725088119507,29.38835906982422,-54.916717529296875,34.67457962036133,-10.152257919311523,-27.39894676208496,-29.853548049926758,-29.71055793762207,42.86865997314453,8.043519020080566,-26.949792861938477,15.204373359680176,58.619651794433594,-4.777887344360352,-4.5165181159973145,25.278345108032227,-36.81956481933594,21.273284912109375,27.616474151611328,-9.288191795349121,-49.81489562988281,46.74881362915039,-3.1197118759155273,40.443565368652344,-5.454458713531494,43.61463165283203,-36.1204948425293,-51.09275436401367,36.57939910888672,-10.163681983947754,24.478364944458008,-18.95709228515625,43.29061508178711,-20.225563049316406,24.738872528076172,-56.900814056396484,-14.321428298950195,-8.777060508728027,-3.9355475902557373,39.35061264038086,-3.193469285964966,-19.75596809387207,44.116050720214844,-4.739838600158691,-23.484521865844727,-37.094139099121094,63.44645309448242,20.12751579284668,-52.281394958496094,28.47893524169922,-9.934172630310059,24.739887237548828,7.957779407501221,9.819571495056152,-18.899089813232422,-22.464801788330078,24.99793243408203,-34.01433563232422,17.505172729492188,-51.02959442138672,13.923504829406738,28.111892700195312,0.8833742141723633,-32.88349914550781,-51.094242095947266,-34.832786560058594,46.091487884521484,0.9738479852676392,-27.468441009521484,2.6850602626800537,-21.944664001464844,-25.227924346923828,17.970726013183594,26.158538818359375,-3.172417640686035,-19.182861328125,-1.6828309297561646,-24.930192947387695,13.725299835205078,-20.084266662597656,27.19613265991211,-38.57387161254883,46.34181594848633,-15.675012588500977,-9.8860502243042,-7.90374231338501,10.291696548461914,44.07537841796875,-35.7758903503418,-2.330778121948242,48.6849479675293,-46.824806213378906,-3.8245298862457275,4.14001989364624,28.5780029296875,33.96924591064453,-13.109443664550781,13.545652389526367,18.524330139160156,-53.88182067871094,-32.21332550048828,44.87053680419922,36.88111114501953,-13.065601348876953,12.033303260803223,-11.147583961486816,11.221573829650879,2.853080987930298,65.6512680053711,-20.88805389404297,-3.8941221237182617,-32.925479888916016,0.5079412460327148,26.32817268371582,-21.63504409790039,-22.291366577148438,49.75794982910156,12.134572982788086,44.54713439941406,-19.171831130981445,0.2571934163570404,-16.364686965942383,55.98575973510742,-0.21277455985546112,-1.4058418273925781,2.684528350830078,-22.43362045288086,-8.301871299743652,14.873739242553711,-24.772253036499023,22.90436363220215,-27.5106201171875,18.851032257080078,8.223421096801758,9.16318416595459,24.997400283813477,5.261715412139893,16.493675231933594,-49.8730583190918,3.391110897064209,36.31440734863281,-44.888797760009766,12.223786354064941,1.277211308479309,35.992862701416016,-32.23273468017578,-5.235256671905518,35.546382904052734,39.447574615478516,-19.8151798248291,-8.571338653564453,18.241487503051758,-55.21572494506836,7.390415668487549,-25.180295944213867,-25.30522918701172,4.055036544799805,-9.505969047546387,-42.41461181640625,-11.204961776733398,10.834216117858887,20.87185287475586,36.91511535644531,16.61735725402832,-36.6180534362793,-6.767622947692871,-34.100093841552734,-3.017652750015259,-18.7668399810791,-5.128663539886475,8.051993370056152,-23.75286102294922,25.81307029724121,2.827695369720459,-26.621047973632812,34.59190368652344,-27.504789352416992,2.692453145980835,44.0458869934082,-4.68431282043457,41.22830581665039,23.139039993286133,-33.00738525390625,20.549406051635742,-23.93678092956543,-7.0287766456604,-3.4325685501098633,16.521278381347656,26.169937133789062,26.9447021484375,-19.357067108154297,-19.316438674926758,18.885082244873047,20.35706901550293,16.239126205444336,-26.614667892456055,20.501855850219727,-24.530229568481445,43.04353332519531,0.8292387127876282,26.993661880493164,7.8727850914001465,33.93690490722656,-13.69371509552002,0.16295355558395386,42.49800491333008,-18.360925674438477,-18.21345329284668,14.304587364196777,-46.686405181884766,-55.56329345703125,-13.251357078552246,4.307943344116211,23.78215217590332,-48.39324951171875,-15.587125778198242,-29.577030181884766,9.948410034179688,29.854618072509766,42.28511428833008,29.14581871032715,-21.767541885375977,35.20307159423828,-29.8167781829834,11.369933128356934,-50.588623046875,-8.672432899475098,-10.144219398498535,-6.441534519195557,7.348922252655029,61.19944381713867,-13.164340019226074,56.66104507446289,6.569658279418945,47.769474029541016,-50.26293182373047,59.64471435546875,-38.253379821777344,-21.983440399169922,-19.34126091003418,52.54973602294922,-42.88936233520508,46.88581085205078,2.2111754417419434,23.695537567138672,-19.87638282775879,15.980687141418457,3.445488452911377,42.775211334228516,-28.81879997253418,-22.59654426574707,32.100616455078125,11.050505638122559,0.6264261603355408,-32.259273529052734,-60.58045196533203,-2.5978426933288574,0.9539191722869873,30.973451614379883,19.523120880126953,34.12838363647461,2.4109597206115723,-10.706040382385254,23.640323638916016,-59.44651412963867,-21.52362060546875,-10.6814546585083,9.734684944152832,22.667367935180664,21.344017028808594,-35.273475646972656,-25.132274627685547,46.63776397705078,44.62431716918945,-15.746635437011719,55.10054016113281,-17.035837173461914,41.17043685913086,-33.96755599975586,-18.328454971313477,26.05508041381836,62.47402572631836,43.78474426269531,32.06488037109375,22.633102416992188,-5.8397393226623535,37.46310806274414,-44.10053253173828,19.661218643188477,-24.3872013092041,41.30719757080078,-39.72415542602539,25.01492691040039,11.468343734741211,23.367937088012695,46.07783889770508,53.040225982666016,22.531583786010742,-7.9133076667785645,-2.099660634994507,46.06462097167969,33.867496490478516,-13.803937911987305,-10.080906867980957,-8.162227630615234,40.55632400512695,-41.37313461303711,-30.55389976501465,41.615478515625,20.968093872070312,-28.113162994384766,13.268815994262695,13.820089340209961,-0.5491702556610107,-15.829504013061523,25.825891494750977,-11.093367576599121,-13.487436294555664,-32.817893981933594,-3.3088583946228027,-12.75848388671875,14.70824146270752,-24.34221649169922,8.879095077514648,-8.323723793029785,22.34065055847168,21.88658332824707,-2.757258653640747,-12.961283683776855,-0.612602710723877,33.087677001953125,-11.308348655700684,-28.186622619628906,-18.29271125793457,-48.36090850830078,-38.04285430908203,27.460792541503906,-20.783035278320312,13.09859848022461,-30.379276275634766,14.168708801269531,30.573867797851562,3.52884840965271,43.73694610595703,12.721187591552734,-43.63993453979492,-6.641630172729492,24.116153717041016,-7.242842197418213,16.829835891723633,-5.524913787841797,47.367496490478516,6.859663963317871,51.474735260009766,-22.5201473236084,-51.2457275390625,47.9031982421875,31.597570419311523,29.52225112915039,40.58733367919922,-21.735637664794922,19.64168357849121,-1.386588454246521,-20.579654693603516,39.64796447753906,-19.06632423400879,-56.8396110534668,7.442854404449463,5.72395133972168,12.727148056030273,-38.212867736816406,-17.15752410888672,-57.19873809814453,-6.057917594909668,-43.40725326538086,37.93216323852539,13.66093921661377,-27.120805740356445,24.194181442260742,12.124136924743652,-7.990316390991211,-32.89085006713867,13.363336563110352,-32.69776153564453,-45.11674880981445,39.3213996887207,-37.84162521362305,-2.812898874282837,-36.81660842895508,6.093695640563965,41.7376594543457,-22.36345672607422,-34.28943634033203,-3.3615245819091797,-50.103302001953125,-2.3223094940185547,22.835660934448242,46.552589416503906,-6.377670764923096,5.728305816650391,-21.78375816345215,-29.323453903198242,15.36185359954834,17.003379821777344,45.70857620239258,-4.17355489730835,2.761585235595703,17.23137855529785,47.27794647216797,-35.437313079833984,29.589630126953125,15.354063987731934,-27.116376876831055,44.47571563720703,22.150123596191406,34.0029411315918,30.299423217773438,-14.660075187683105,20.075075149536133,31.66741180419922,0.17604482173919678,3.8815300464630127,-8.085951805114746,-50.18787384033203,16.345346450805664,50.935646057128906,-7.536566734313965,-1.4123486280441284,38.9749870300293,-5.667861461639404,6.287421703338623,3.354461431503296,-18.341306686401367,21.582700729370117,46.41229248046875,44.641902923583984,-3.8692715167999268,33.29826736450195,-7.916193962097168,34.910400390625,-18.89765167236328,-0.7897161245346069,-12.190926551818848,21.265174865722656,18.605253219604492,36.444419860839844,2.590019464492798,8.091161727905273,0.7329623103141785,48.824310302734375,-31.36614990234375,-4.842660427093506,54.70174789428711,-7.695145606994629,-24.590551376342773,-21.995750427246094,-13.178529739379883,29.955198287963867,-1.3788537979125977,20.232723236083984,-28.13030242919922,47.85932159423828,30.167627334594727,-33.487388610839844,-57.9625244140625,39.56221008300781,24.03465461730957,-12.150062561035156,13.633793830871582,-25.544336318969727,23.627246856689453,-16.811025619506836,38.35651779174805,-9.65442943572998,-12.25058650970459,27.12199592590332,5.133426189422607,21.674497604370117,27.10452651977539,16.72181510925293,44.940677642822266,2.5630457401275635,-4.580460071563721,-0.10906307399272919,-32.968685150146484,34.690773010253906,-15.671525955200195,-25.368850708007812,26.82492446899414,34.03916931152344,-40.92429733276367,69.52399444580078,-14.82846736907959,-38.14944839477539,1.452397346496582,-18.42231559753418,-18.931659698486328,-17.036787033081055,52.580711364746094,-40.05448913574219,14.788473129272461,-48.509765625,-52.44878005981445,13.358575820922852,37.05844497680664,-3.9968607425689697,-41.46629333496094,1.2237296104431152,63.77371597290039,22.878276824951172,5.803349494934082,-14.815388679504395,39.894630432128906,-7.852775573730469,19.455799102783203,1.2301373481750488,16.596776962280273,-31.228885650634766,1.2431204319000244,-14.531661987304688,20.74241828918457,-39.157623291015625,-21.274272918701172,-42.060218811035156,42.676883697509766,-27.42765998840332,37.05642318725586,17.480098724365234,-33.12984085083008,24.022350311279297,24.10116195678711,36.35611343383789,-49.48930358886719,30.77305793762207,10.568305969238281,-36.88688659667969,13.775239944458008,53.189151763916016,7.1026506423950195,-10.818426132202148,27.369342803955078,6.622282981872559,-30.548439025878906,-51.372310638427734,-15.654664039611816,-11.263916015625,34.986549377441406,-26.530399322509766,-3.6068732738494873,23.693315505981445,42.5155029296875,18.381589889526367,-23.675899505615234,-16.765403747558594,7.271451473236084,-44.363059997558594,-17.041954040527344,-24.859472274780273,44.2311897277832,-29.25599479675293,-48.819583892822266,22.301095962524414,25.0612850189209,24.673032760620117,-37.81792068481445,-11.68574047088623,18.997703552246094,-8.336277961730957,-40.87470245361328,-41.96885299682617,44.14591598510742,-20.917949676513672,-15.506580352783203,0.6055925488471985,24.866073608398438,4.651402950286865,-32.67744445800781,42.493743896484375,29.718191146850586,2.723257064819336,21.01802635192871,-28.971107482910156,-29.440731048583984,20.044044494628906,23.379915237426758,-55.09957504272461,-35.48002243041992,10.571516990661621,-23.203584671020508,40.051849365234375,-17.060787200927734,33.40549087524414,-41.94498062133789,-19.59719467163086,2.8070502281188965,21.812166213989258,8.875955581665039,-44.02174758911133,-33.919307708740234,18.280010223388672,55.07197570800781,43.885643005371094,40.12602615356445,24.808862686157227,22.018598556518555,21.825668334960938,17.472938537597656,-31.25661277770996,-20.609708786010742,-32.756412506103516,-19.11375617980957,60.3039436340332,12.913678169250488,-57.180721282958984,12.896568298339844,-7.025660991668701,61.219810485839844,-58.985084533691406,-10.024079322814941,-48.15869140625,-8.725326538085938,35.16088104248047,-18.800247192382812,-43.621971130371094,-41.79176330566406,-14.875276565551758,-34.89323806762695,3.8152942657470703,-41.278564453125,-45.62218475341797,31.42108726501465,13.329695701599121,-22.855220794677734,16.01435089111328,19.751712799072266,12.1923828125,21.270788192749023,-23.466583251953125,40.47864532470703,67.0389175415039,7.44217586517334,-46.9492073059082,44.410762786865234,-34.56175994873047,-6.5747504234313965,25.40117073059082,25.130739212036133,53.42427062988281,31.669422149658203,13.526243209838867,-16.704730987548828,24.397846221923828,1.2202752828598022,-22.901214599609375,25.730361938476562,-35.42919921875,12.578136444091797,-13.553141593933105,-18.024869918823242,-34.46894454956055,65.65247344970703,14.90761947631836,38.14695358276367,-23.366565704345703,31.966270446777344,-38.225379943847656,-20.274900436401367,19.013107299804688,-2.321622848510742,-28.23224639892578,-13.039870262145996,22.62639045715332,-2.7069156169891357,-52.96493148803711,-45.19267272949219,0.990264892578125,-53.96922302246094,41.11265182495117,25.2250919342041,-11.04526424407959,32.80577850341797,-29.979127883911133,39.296695709228516,58.152427673339844,-35.654727935791016,24.0745906829834,0.8624014258384705,-25.639474868774414,44.697208404541016,-12.348361015319824,-5.615074634552002,21.133056640625,36.79981994628906,-12.985422134399414,15.433679580688477,28.556730270385742,22.365755081176758,-21.579145431518555,-17.85378074645996,-37.3090705871582,29.948442459106445,41.65398406982422,16.59471321105957,9.545331954956055,-33.30412673950195,13.913673400878906,-23.503448486328125,47.89126205444336,18.579967498779297,-24.174076080322266,-22.92099380493164,11.973309516906738,38.636470794677734,-28.352176666259766,-41.286354064941406,28.62901496887207,44.8021240234375,-6.5479936599731445,41.92792892456055,-16.61756706237793,-11.349308967590332,-7.445693492889404,3.7798011302948,20.910694122314453,8.549477577209473,24.945878982543945,10.903624534606934,-37.924522399902344,-33.959205627441406,-7.166199207305908,-24.196063995361328,38.99045944213867,26.488561630249023,-57.54068374633789,42.889434814453125,15.26193904876709,-30.579267501831055,-2.313128709793091,21.7659912109375,39.9964714050293,-48.6147575378418,3.874943494796753,41.86582565307617,29.456928253173828,-31.514144897460938,14.66840648651123,19.422718048095703,11.999914169311523,25.69020652770996,12.654422760009766,-10.945878982543945,-2.5247886180877686,-44.16522216796875,5.248506546020508,44.03535461425781,-37.57741928100586,3.993720531463623,18.363693237304688,19.831592559814453,-38.62630081176758,-38.527225494384766,-29.554372787475586,28.62968635559082,-10.130000114440918,2.403215169906616,56.297515869140625,-10.433398246765137,-55.25345993041992,-23.961153030395508,18.29754066467285,13.82917594909668,-2.096022605895996,37.322967529296875,19.45049285888672,16.644556045532227,-36.0700569152832,36.20163345336914,5.912058353424072,44.96327209472656,43.26169204711914,-16.96870231628418,-39.460018157958984,-58.16276931762695,-32.810401916503906,13.91616153717041,14.430169105529785,28.377586364746094,11.975482940673828,-2.008615255355835,5.7797627449035645,42.542240142822266,50.12226486206055,-14.675043106079102,30.022165298461914,21.93172836303711,-2.1104848384857178,-9.354843139648438,49.72704315185547,6.985734462738037,0.594929039478302,5.136909484863281,54.83589553833008,26.915916442871094,42.980079650878906,-48.18331527709961,32.95473098754883,-25.47905731201172,-50.60902404785156,-4.563902378082275,9.877018928527832,-15.491535186767578,-36.15574264526367,38.690879821777344,-2.7843177318573,1.5428105592727661,-25.3181209564209,17.048442840576172,26.498743057250977,10.634854316711426,-47.3927116394043,-18.751441955566406,-7.01376485824585,16.734968185424805,-44.305076599121094,-7.187381744384766,21.355697631835938,-59.80313491821289,-44.84777069091797,26.112686157226562,-6.9975714683532715,33.21470642089844,-26.155193328857422,22.52506446838379,5.0890326499938965,-14.331872940063477,28.194578170776367,-22.134721755981445,11.029739379882812,-52.706939697265625,-24.315982818603516,-2.947415590286255,-22.984899520874023,46.35904312133789,-49.99325180053711,5.97284460067749,3.2211506366729736,19.628395080566406,-44.4160041809082,2.1339006423950195,1.5816665887832642,46.57451248168945,27.251922607421875,3.8518002033233643,-4.664275646209717,-9.328466415405273,-32.53903579711914,-19.967016220092773,11.307391166687012,18.728025436401367,-23.246946334838867,16.49142074584961,-25.147106170654297,14.314780235290527,-13.546403884887695,-40.059844970703125,45.889808654785156,-10.795506477355957,10.978179931640625,30.579694747924805,32.396583557128906,34.70261764526367,14.708723068237305,52.49068069458008,-33.772117614746094,-36.96630859375,-12.400236129760742,-49.6026496887207,-23.41615867614746,17.19695472717285,-13.611392974853516,15.62407112121582,-24.82564926147461,22.808629989624023,-19.57524299621582,-12.139494895935059,23.547780990600586,20.543405532836914,-19.838403701782227,37.71283721923828,0.08976627141237259,-49.65896224975586,-33.880001068115234,-17.81538963317871,25.274049758911133,-42.73089599609375,0.6259323954582214,48.89701461791992,18.081153869628906,16.492511749267578,-21.39244842529297,9.960625648498535,-13.56870174407959,9.493605613708496,10.481143951416016,39.10734176635742,48.92642593383789,-44.9066162109375,-20.578508377075195,-14.708023071289062,35.62316131591797,-0.5722548961639404,6.889244556427002,8.103814125061035,-4.236808776855469,-32.31012725830078,25.52655029296875,22.342222213745117,-16.010744094848633,-51.08430480957031,28.342552185058594,5.836582183837891,1.8311874866485596,34.318031311035156,18.28741455078125,-56.91697692871094,20.73868751525879,20.412343978881836,-34.30088424682617,-51.66792297363281,3.538747787475586,-29.837018966674805,15.066766738891602,35.0291862487793,17.40321159362793,43.68404006958008,-49.39754104614258,-0.5340005159378052,1.7027846574783325,-15.428853034973145,27.233421325683594,46.06150436401367,54.45486831665039,14.058440208435059,-20.845537185668945,-17.812335968017578,19.86547088623047,47.83333969116211,9.195621490478516,-13.366079330444336,58.56770706176758,-26.74946403503418,28.348848342895508,-19.726396560668945,-44.81911849975586,29.44491195678711,24.953540802001953,34.11068344116211,-47.21137237548828,13.1390380859375,45.99164581298828,-31.761428833007812,-31.803556442260742,7.921474456787109,-19.094831466674805,31.268007278442383,9.42518424987793,-45.86079788208008,33.74911117553711,-54.51245880126953,1.6440297365188599,-9.633872032165527,-19.814563751220703,-8.615473747253418,-45.324581146240234,37.28379821777344,29.122587203979492,33.082889556884766,-6.324856758117676,20.836299896240234,-0.0894659236073494,7.179248332977295,-13.37277889251709,-23.64748764038086,21.556734085083008,28.382080078125,28.120731353759766,16.10980987548828,11.559596061706543,-4.967591762542725,13.581870079040527,-27.23165512084961,-14.37630844116211,1.782157301902771,18.224735260009766,-32.970211029052734,-3.3650145530700684,-18.677051544189453,30.548847198486328,15.093390464782715,-33.14186477661133,-54.0406379699707,35.467987060546875,18.161800384521484,-51.424598693847656,-32.369720458984375,3.438333034515381,9.148390769958496,-17.48233413696289,-6.527547836303711,11.192334175109863,31.765365600585938,31.64112663269043,24.21339988708496,15.6754150390625,18.41724395751953,25.20189666748047,2.067323923110962,-59.66926574707031,-3.050661563873291,11.925159454345703,-42.450843811035156,47.84442901611328,10.290934562683105,7.551661491394043,24.800064086914062,25.92885398864746,18.695104598999023,54.04069137573242,7.224899768829346,-25.843015670776367,26.655261993408203,-34.454017639160156,3.137733221054077,26.115568161010742,-8.746942520141602,20.217824935913086,-5.371996879577637,-1.8204394578933716,51.49909591674805,33.57942199707031,14.194901466369629,-31.8009090423584,20.955398559570312,26.844501495361328,-10.98414421081543,-35.40082931518555,51.436222076416016,-15.47631549835205,1.1339287757873535,5.210264205932617,-54.27614212036133,42.8867073059082,31.391855239868164,-28.816030502319336,2.0505945682525635,35.00487518310547,53.633811950683594,17.223339080810547,12.718132019042969,27.921253204345703,-1.665937900543213,45.17689514160156,-2.6975111961364746,22.18282699584961,42.615177154541016,28.483943939208984,-40.67778396606445,-5.302901744842529,7.012822151184082,-22.165916442871094,26.82452392578125,23.80467414855957,-26.246965408325195,45.009334564208984,-34.353233337402344,10.272940635681152,-30.393096923828125,26.10841941833496,24.27442741394043,41.10449981689453,-38.3416633605957,-23.634014129638672,17.822525024414062,-10.115968704223633,-26.81598663330078,-16.57365608215332,8.425725936889648,-53.27926254272461,12.810972213745117,17.742088317871094,-25.922536849975586,16.08062744140625,-39.37108612060547,5.939881324768066,11.66745662689209,-19.49882698059082,-50.734649658203125,-48.785186767578125,-35.72323989868164,-43.80674362182617,9.598841667175293,-27.961471557617188,28.705078125,56.298614501953125,-9.612513542175293,43.415287017822266,-15.340143203735352,-38.75264358520508,3.8672406673431396,-1.4694666862487793,8.433697700500488,7.639220714569092,-7.819971084594727,26.88060188293457,1.7880771160125732,-55.55971908569336,18.786306381225586,59.753562927246094,-6.188914775848389,-15.865242958068848,33.02384567260742,-35.757816314697266,-6.8301568031311035,12.58750057220459,44.44169616699219,-61.19730758666992,6.753431797027588,20.7961483001709,3.3480281829833984,-41.211883544921875,-20.273983001708984,5.773981094360352,-2.4110803604125977,35.60652160644531,-31.090234756469727,-34.86720275878906,-49.555416107177734,18.71639060974121,36.640411376953125,34.34648513793945,-39.78855895996094,-9.986997604370117,-1.1775840520858765,5.5065436363220215,-10.173750877380371,17.296545028686523,27.34324073791504,3.4512722492218018,-53.26124954223633,-7.237376689910889,44.44306564331055,-33.6072883605957,-31.18155288696289,25.84800148010254,25.448158264160156,-7.770038604736328,34.80381774902344,-17.389949798583984,36.32489013671875,23.800703048706055,34.483924865722656,16.734384536743164,9.899622917175293,-28.62606430053711,4.23042631149292,29.261022567749023,33.04221725463867,-24.306474685668945,-0.16721348464488983,16.4457950592041,16.088804244995117,47.17784118652344,-17.381189346313477,10.665472030639648,-50.98257827758789,-8.405170440673828,-50.166603088378906,-9.339314460754395,41.95269775390625,-10.46233081817627,36.7420539855957,13.465991020202637,-6.849830627441406,25.978065490722656,-49.64645004272461,-19.221403121948242,-55.592952728271484,-0.5787754654884338,22.662967681884766,15.163516998291016,28.26657485961914,20.705928802490234,-26.0877628326416,-13.483296394348145,-6.277611255645752,-41.05113220214844,40.93286895751953,-10.40723991394043,15.379148483276367,-35.13220977783203,24.86238670349121,27.83229637145996,31.356279373168945,39.86502456665039,40.05128479003906,-48.36375045776367,20.701221466064453,13.856221199035645,41.47866439819336,-13.615883827209473,-55.79851150512695,-4.08723258972168,52.97632598876953,43.6600341796875,32.51559829711914,-28.320940017700195,34.00810623168945,-13.512580871582031,17.828697204589844,32.410037994384766,26.325590133666992,-30.002685546875,35.11387252807617,-33.24722671508789,25.061124801635742,23.19492530822754,40.69371032714844,-13.276768684387207,28.697919845581055,-19.438711166381836,-14.180122375488281,21.788164138793945,-3.984459638595581,-21.76601219177246,-7.250513553619385,-26.475543975830078,6.574848651885986,-1.9433510303497314,-35.06964874267578,20.51139259338379,39.15052795410156,8.631006240844727,13.215463638305664,25.523298263549805,26.442869186401367,5.7728166580200195,5.2309651374816895,-35.81296157836914,-24.696271896362305,-15.447138786315918,35.334712982177734,0.6591666340827942,-1.3692362308502197,9.329748153686523,-34.30839920043945,-38.30281066894531,-31.218059539794922,-27.468042373657227,-24.903079986572266,-5.558982849121094,43.86163330078125,12.4954833984375,-57.6856689453125,29.449220657348633,-7.034228324890137,-2.672757625579834,28.890792846679688,16.334115982055664,-8.607755661010742,0.4268321990966797,24.249252319335938,-46.20112228393555,-3.361997604370117,26.964405059814453,7.229015350341797,52.9779167175293,31.384246826171875,18.041467666625977,-1.8831993341445923,-34.48480987548828,43.9511604309082,22.429702758789062,28.41651725769043,41.60382080078125,20.465843200683594,-22.09434700012207,-12.598981857299805,-19.930049896240234,24.309926986694336,-22.135061264038086,62.04346466064453,13.416443824768066,45.8231315612793,11.136880874633789,41.44559097290039,24.090654373168945,-34.7777214050293,44.69369888305664,-15.13863468170166,2.2552895545959473,-32.693546295166016,5.0856099128723145,-10.71732234954834,-10.153755187988281,24.968128204345703,-42.04757308959961,-21.975473403930664,15.630058288574219,52.54841613769531,36.360633850097656,-24.23876953125,-5.137860298156738,-26.284299850463867,-29.822052001953125,-10.866697311401367,29.194103240966797,-9.053459167480469,-5.507332801818848,30.418350219726562,3.5774343013763428,7.856910705566406,-3.375547409057617,4.572174072265625,-43.90828323364258,33.000755310058594,-34.31769943237305,5.701417922973633,-36.195472717285156,-8.815387725830078,20.158641815185547,-38.37166976928711,27.83955955505371,-47.46928787231445,37.23512649536133,11.987442970275879,37.25604248046875,9.124872207641602,-19.855552673339844,-38.37949752807617,19.977161407470703,-17.368886947631836,-53.79770278930664,18.02861785888672,-58.128719329833984,16.066349029541016,35.35737991333008,49.21258544921875,2.1564812660217285,8.326171875,-28.978004455566406,18.177635192871094,11.063980102539062,-0.1180286630988121,-1.1045069694519043,20.321971893310547,52.61493682861328,-56.02740478515625,12.495360374450684,8.496428489685059,-14.622321128845215,-49.034244537353516,18.664793014526367,38.70568084716797,-11.940939903259277,-10.396661758422852,-15.58515453338623,19.296960830688477,2.1145987510681152,-5.119645595550537,19.114683151245117,40.29734420776367,-31.677753448486328,36.38111877441406,22.21904754638672,23.684532165527344,26.382286071777344,7.963412284851074,54.64125061035156,28.3017635345459,24.393030166625977,27.36246109008789,42.238067626953125,26.778303146362305,6.392240524291992,4.224176406860352,31.061033248901367,29.012157440185547,-2.0824146270751953,26.258607864379883,36.71920394897461,55.006004333496094,15.976480484008789,40.843475341796875,19.772125244140625,-6.7450270652771,14.11965560913086,-3.201857089996338,21.211387634277344,16.343204498291016,27.853553771972656,30.159730911254883,16.869625091552734,-15.93647575378418,29.200605392456055,51.38187026977539,-14.622934341430664,12.657382011413574,-18.338218688964844,27.6524715423584,40.10422134399414,52.582679748535156,-40.159183502197266,59.122589111328125,-2.4617130756378174,51.51844024658203,9.710088729858398,-26.5563907623291,26.29766082763672,33.5565299987793,-17.376998901367188,46.20155715942383,23.89360237121582,43.607139587402344,-16.383228302001953,4.036019802093506,-18.87525177001953,-0.22012439370155334,25.630077362060547,24.061052322387695,7.080495834350586,2.650202751159668,44.116512298583984,-19.73261070251465,-4.095126152038574,29.12792205810547,-27.321195602416992,24.166961669921875,32.431461334228516,-47.27342224121094,23.276432037353516,6.690244197845459,38.24686050415039,-58.01988983154297,-13.895288467407227,43.51686096191406,-60.764461517333984,14.92470645904541,38.830535888671875,1.560146689414978,-49.727928161621094,-12.605743408203125,-27.467185974121094,10.350085258483887,-27.560869216918945,25.935039520263672,10.631824493408203,47.102413177490234,-13.966010093688965,-17.02313804626465,40.9741096496582,49.141754150390625,-13.743486404418945,22.275264739990234,-34.32343673706055,-54.91093444824219,-32.847373962402344,47.71641540527344,-0.1419285386800766,-42.853084564208984,-4.791625499725342,-38.80210876464844,-18.70982551574707,-36.82795715332031,-38.62284469604492,-13.610779762268066,11.668301582336426,32.327144622802734,27.333709716796875,22.693340301513672,-21.073205947875977,16.527029037475586,36.93156051635742,-0.9689275622367859,31.86228370666504,-4.825416564941406,19.001779556274414,52.27088928222656,-51.51795196533203,-19.444971084594727,16.45394515991211,8.976590156555176,-3.2019307613372803,-17.889509201049805,6.470661640167236,36.529170989990234,52.37593460083008,-21.32891082763672,-21.104372024536133,27.61827278137207,-60.55231475830078,-4.334095478057861,-36.69782257080078,5.010268211364746,-10.588303565979004,-20.242450714111328,21.48986053466797,11.754971504211426,29.11880874633789,5.896105766296387,9.514286994934082,60.09025955200195,-26.679943084716797,-35.44041061401367,19.03424835205078,2.5623908042907715,-17.3250789642334,7.366174697875977,-4.992193222045898,-4.29702091217041,16.39754295349121,-12.239775657653809,-53.72003936767578,9.452580451965332,-54.45891189575195,13.802918434143066,28.825119018554688,25.614946365356445,32.324302673339844,51.32285690307617,39.48442459106445,25.641801834106445,-26.459640502929688,48.427528381347656,9.486576080322266,-17.149206161499023,-38.616886138916016,-54.96419906616211,-11.414523124694824,2.4680285453796387,-32.494625091552734,-48.35580062866211,-15.626373291015625,-56.26852798461914,26.28362274169922,25.31756019592285,52.5871467590332,10.37278938293457,-18.862079620361328,-6.635790824890137,-19.055692672729492,-12.214853286743164,14.01522445678711,-0.6421580910682678,-2.1106646060943604,36.146358489990234,23.904504776000977,-51.229190826416016,-47.240028381347656,-20.648012161254883,26.13837432861328,-2.134291887283325,1.5625832080841064,-29.866819381713867,-18.610374450683594,16.489835739135742,-57.87650680541992,-1.8603304624557495,16.8489933013916,-19.04709815979004,-21.763158798217773,41.340152740478516,23.36347198486328,33.91648483276367,-53.74635314941406,-16.172313690185547,-10.254748344421387,-4.128675937652588,-21.093036651611328,17.400909423828125,-45.73273468017578,1.0451847314834595,50.70283889770508,27.49599838256836,1.01641845703125,-56.69769287109375,15.982176780700684,2.8150360584259033,-32.1939811706543,30.78643035888672,-25.81430435180664,-22.220619201660156,-5.885241985321045,-52.83024597167969,-16.306819915771484,18.4464168548584,25.633378982543945,28.37140464782715,7.739162445068359,1.080582857131958,-12.02173137664795,-52.017547607421875,36.328407287597656,1.2985308170318604,1.2179796695709229,24.442485809326172,29.589813232421875,18.763092041015625,-31.80306625366211,11.484636306762695,1.207983374595642,-33.65821075439453,49.12144470214844,1.6135166883468628,0.9068647027015686,36.22029495239258,12.649418830871582,22.515640258789062,23.289451599121094,-8.858735084533691,14.187788009643555,-28.101837158203125,15.140070915222168,32.2886848449707,-7.5959978103637695,-19.434715270996094,-4.01926326751709,-50.230552673339844,-37.48292541503906,43.35852813720703,15.468758583068848,-30.013830184936523,16.948598861694336,-22.24480438232422,10.485469818115234,0.9247509241104126,-13.24264907836914,7.447271823883057,29.21537971496582,40.18730545043945,30.183738708496094,-31.148605346679688,-11.556995391845703,33.877960205078125,-42.72950744628906,23.83709716796875,50.780738830566406,14.579109191894531,-41.89930725097656,2.4813308715820312,-45.514549255371094,-55.79723358154297,33.36117172241211,-31.103286743164062,-31.908435821533203,-19.45109748840332,4.035827159881592,41.46498489379883,27.94602394104004,30.726972579956055,-35.985076904296875,7.210357666015625,29.82914161682129,-24.27476692199707,-39.17295455932617,37.71720504760742,-45.71657180786133,0.3724280893802643,-17.651458740234375,-29.932456970214844,32.11898422241211,-10.967689514160156,-17.823238372802734,19.437213897705078,40.4023323059082,51.4956169128418,52.86863708496094,18.438018798828125,-39.608070373535156,12.305456161499023,-21.48671531677246,0.3618450164794922,54.867469787597656,5.49130392074585,6.139461994171143,-9.355510711669922,-0.5566393733024597,53.11092758178711,53.041526794433594,-27.16333770751953,-54.72328567504883,-17.590351104736328,12.23149585723877,-5.612344741821289,3.5836784839630127,13.796725273132324,33.176937103271484,16.197145462036133,-6.771738529205322,24.264644622802734,-9.250325202941895,34.59227752685547,-26.852842330932617,-42.5497932434082,23.565881729125977,0.3559727370738983,-16.589141845703125,26.286359786987305,43.62576675415039,38.850547790527344,19.613479614257812,39.304534912109375,-16.264280319213867,8.910463333129883,22.68989372253418,44.526512145996094,-12.669112205505371,-13.485492706298828,42.1132926940918,-52.82341766357422,-12.718560218811035,12.284317970275879,42.772735595703125,-8.169748306274414,-1.1953203678131104,17.54250144958496,25.216419219970703,9.0781831741333,-40.98133087158203,36.35664749145508,34.78950500488281,-49.93998336791992,44.18855285644531,-4.5688958168029785,10.990861892700195,-10.048376083374023,-45.31523132324219,-24.115909576416016,-2.437326431274414,23.890403747558594,7.894894599914551,-5.544843673706055,-5.803158760070801,-11.323182106018066,-39.57319641113281,-2.367936849594116,-11.675076484680176,9.933238983154297,-37.28947830200195,-8.630578994750977,17.64374351501465,31.365663528442383,0.6092166304588318,25.283235549926758,-32.92042922973633,10.722884178161621,-45.06112289428711,-47.96467208862305,43.535621643066406,21.145246505737305,29.05647087097168,-1.5387325286865234,14.312752723693848,33.31589126586914,-0.8860780000686646,-39.698482513427734,-53.8427848815918,-40.9819221496582,34.51355743408203,-23.72801399230957,-49.26190185546875,36.126319885253906,15.987942695617676,31.963947296142578,-6.55554723739624,46.86428451538086,-48.39491271972656,25.39799690246582,31.349327087402344,-11.22887897491455,-28.6844482421875,-28.269062042236328,27.293481826782227,42.8936767578125,20.524078369140625,-11.83803653717041,0.4635239243507385,-7.115878105163574,13.283388137817383,-43.731971740722656,-1.381413459777832,8.048688888549805,-25.149709701538086,-23.10092544555664,-17.728858947753906,-36.46821212768555,-14.10120677947998,4.333905220031738,-52.964664459228516,-52.61087417602539,14.443998336791992,-13.585851669311523,-9.919748306274414,-0.036611560732126236,-59.75471496582031,53.59723663330078,8.072263717651367,9.787836074829102,34.637332916259766,28.544221878051758,14.718161582946777,1.8365833759307861,12.311909675598145,34.10176467895508,5.088920593261719,13.740938186645508,-27.670272827148438,39.03402328491211,39.53163528442383,23.993972778320312,-29.459888458251953,21.465476989746094,19.494586944580078,27.676790237426758,22.0804386138916,-31.453760147094727,-20.514156341552734,43.7620849609375,29.23186683654785,24.4167423248291,-4.641120910644531,-31.856849670410156,0.8762050867080688,-13.509936332702637,20.452409744262695,-0.1374027132987976,-22.14054298400879,-30.607051849365234,29.90169334411621,-34.87016677856445,23.520586013793945,-19.47447395324707,41.527950286865234,42.43994903564453,-15.379908561706543,32.789283752441406,25.67987632751465,19.258481979370117,-43.66195297241211,-6.242241382598877,2.9403297901153564,-27.54713249206543,4.725677490234375,27.99254035949707,1.2934786081314087,-6.645081996917725,8.06260871887207,10.048322677612305,0.7738834619522095,26.490999221801758,-22.951885223388672,-11.28030776977539,16.343393325805664,2.493792772293091,-35.50172424316406,-10.837040901184082,7.8627448081970215,35.82579803466797,-36.46295166015625,5.944340705871582,-1.7889232635498047,-37.891624450683594,-35.75838088989258,-6.338759899139404,-39.99848556518555,-36.3853759765625,30.213401794433594,-31.943330764770508,36.503021240234375,-41.934207916259766,-32.85124206542969,-16.241893768310547,17.167163848876953,-52.358821868896484,-4.205289363861084,-36.097957611083984,-14.582456588745117,-41.3477897644043,-14.292058944702148,-15.462215423583984,-21.632089614868164,-36.22246551513672,7.8629984855651855,7.150238513946533,31.37442398071289,-26.87651824951172,38.63423156738281,42.453155517578125,-30.670080184936523,27.094297409057617,11.506403923034668,14.15442180633545,7.485897064208984,27.01152992248535,1.5781258344650269,28.749311447143555,0.5953519940376282,9.024999618530273,6.651512622833252,27.57825469970703,39.174617767333984,-41.08620834350586,13.126852989196777,3.178524971008301,-32.26982116699219,-21.021743774414062,31.300073623657227,-5.143439769744873,31.425874710083008,37.56940460205078,6.122742652893066,-19.448448181152344,18.19894790649414,-46.30065155029297,31.51494026184082,0.5140126347541809,-33.56623077392578,-0.9243379831314087,26.04287338256836,37.81610870361328,23.41643524169922,49.371429443359375,42.63286209106445,-31.800460815429688,21.407075881958008,-51.6462516784668,31.011890411376953,7.458155632019043,33.02424240112305,1.948379635810852,-33.245269775390625,18.270235061645508,-56.4857063293457,-31.720962524414062,8.535855293273926,-52.13738250732422,3.5275769233703613,-51.435394287109375,-12.412324905395508,-44.77819061279297,4.5998735427856445,-9.817172050476074,-5.163558483123779,32.76408386230469,2.3545937538146973,9.562700271606445,20.457778930664062,-47.550331115722656,16.015071868896484,32.620670318603516,-25.253332138061523,-1.4379512071609497,50.565696716308594,0.5933136343955994,7.373455047607422,-47.116641998291016,29.68655776977539,11.444130897521973,-3.893124580383301,-24.968408584594727,-10.869032859802246,22.36219024658203,-38.77964782714844,-23.83551597595215,-50.627166748046875,11.329465866088867,-5.363560199737549,24.70295524597168,1.3414599895477295,-37.24864959716797,-11.759295463562012,34.88222122192383,-42.71418380737305,32.9326286315918,1.84331214427948,-39.06851577758789,-28.645904541015625,-64.62899780273438,-24.1494083404541,-5.976264476776123,46.20280838012695,-55.08880615234375,18.430801391601562,-60.039215087890625,-2.8793346881866455,-23.21492576599121,29.653053283691406,-9.735069274902344,28.83756446838379,-26.652557373046875,10.072543144226074,-33.50078201293945,-7.950254917144775,-50.49152374267578,20.873443603515625,-23.321006774902344,-29.567462921142578,32.95709991455078,-54.96833038330078,-49.37089538574219,20.41921043395996,30.524574279785156,-2.621182441711426,37.608272552490234,31.4718017578125,35.78084945678711,8.15396785736084,5.245001316070557,0.18689849972724915,-45.66012954711914,20.82744598388672,33.9266471862793,6.040603160858154,27.283151626586914,26.277326583862305,29.097545623779297,19.32550811767578,-8.35188102722168,12.308610916137695,5.776053428649902,-6.612272262573242,31.439868927001953,-19.74988555908203,18.787792205810547,1.1089624166488647,26.925376892089844,28.622676849365234,-53.21144485473633,-0.3815617263317108,33.100242614746094,12.950746536254883,-15.159159660339355,-6.829573631286621,7.6405029296875,9.780072212219238,1.0639408826828003,8.082987785339355,10.99802017211914,10.208053588867188,11.191323280334473,-21.137929916381836,-45.6704216003418,45.105403900146484,9.022858619689941,11.608224868774414,-2.450819253921509,22.740095138549805,-48.754119873046875,-8.872550964355469,33.355934143066406,-1.510565996170044,-7.479108810424805,-5.315318584442139,30.88254737854004,-27.309803009033203,6.2778191566467285,1.0636147260665894,-16.149442672729492,-24.110034942626953,29.714372634887695,13.813298225402832,-27.44926643371582,-32.19290542602539,-19.240760803222656,21.752498626708984,-0.9968647360801697,39.54426193237305,23.430953979492188,6.838596820831299,30.72865104675293,20.32785415649414,-51.83241653442383,-26.409303665161133,-41.16482162475586,-53.129913330078125,-25.121299743652344,-9.343717575073242,-9.518943786621094,-23.113405227661133,-53.16775131225586,6.190742492675781,7.776947021484375,-41.63872528076172,47.81421661376953,2.7182040214538574,-19.415822982788086,-53.54826354980469,11.035639762878418,4.565374851226807,-15.655729293823242,-5.300430774688721,26.012100219726562,-27.89517593383789,5.718484878540039,-21.32801628112793,5.1095733642578125,7.280704975128174,6.396251201629639,-26.832639694213867,28.71613883972168,20.94951820373535,-22.043336868286133,44.492156982421875,-48.85121536254883,-44.56758117675781,28.45277214050293,7.725095748901367,-3.6364543437957764,27.62176513671875,-28.321718215942383,-17.939193725585938,53.686641693115234,-9.744941711425781,26.365283966064453,-43.404232025146484,18.940650939941406,22.806570053100586,-5.306599140167236,-26.72307014465332,-4.388747215270996,-46.26897048950195,16.643957138061523,-7.650728702545166,-18.541683197021484,-10.557230949401855,-13.32341194152832,-16.077205657958984,9.599020004272461,38.34621047973633,2.6986501216888428,-53.740631103515625,33.08964920043945,-25.088531494140625,3.3161768913269043,7.63601016998291,16.6021785736084,-45.88558578491211,-2.0642945766448975,16.807077407836914,-30.799943923950195,-14.265748023986816,4.189192295074463,22.550857543945312,32.95389175415039,18.8577880859375,-45.57137680053711,51.29474639892578,32.962642669677734,-10.396876335144043,11.133564949035645,-49.12975311279297,9.804387092590332,-23.890464782714844,-36.904869079589844,-54.37617111206055,15.838407516479492,-47.634037017822266,10.493093490600586,10.813879013061523,3.381554365158081,5.742738723754883,54.41879653930664,-3.121410846710205,27.84624671936035,28.311952590942383,-20.884906768798828,36.96437454223633,-24.810453414916992,50.196895599365234,-22.942646026611328,-23.032962799072266,37.699684143066406,-17.54388427734375,-6.929199695587158,-12.67880916595459,15.089231491088867,13.56596851348877,-61.66910171508789,35.96418762207031,26.68853759765625,16.851593017578125,8.444631576538086,32.04592514038086,-0.42270171642303467,-5.906130313873291,-19.321439743041992,-10.833105087280273,2.370086193084717,1.472935438156128,-46.620201110839844,-36.647705078125,26.220294952392578,-11.639801025390625,26.663537979125977,28.302663803100586,-32.555294036865234,49.9863166809082,1.9698749780654907,25.54537582397461,-38.838233947753906,23.707170486450195,-18.52480697631836,-22.51673698425293,5.578887939453125,-12.683643341064453,37.32007598876953,-8.979131698608398,-0.613901674747467,19.470287322998047,-34.57701873779297,7.33171272277832,22.49050521850586,12.625153541564941,-48.34135818481445,41.8843879699707,-48.812904357910156,22.92898941040039,41.89540481567383,-17.550949096679688,-57.90370178222656,-54.08586883544922,-21.075088500976562,11.842207908630371,29.220428466796875,-42.84877014160156,-5.013622283935547,37.81260681152344,-18.76486587524414,36.82781982421875,2.554035186767578,41.690834045410156,-44.60038375854492,-32.4171142578125,38.31205749511719,41.4161491394043,-41.781715393066406,-4.8993401527404785,0.29031282663345337,-16.406980514526367,16.196561813354492,-32.182037353515625,20.826475143432617,-42.900211334228516,-49.272796630859375,32.26607131958008,3.6672513484954834,32.478755950927734,-54.28786849975586,-0.24922631680965424,-16.557340621948242,-45.20256805419922,-18.911361694335938,16.017642974853516,-35.3353385925293,31.13618278503418,0.5133712291717529,-12.705645561218262,5.013804912567139,6.1560378074646,22.93562889099121,-4.140769004821777,-43.80259323120117,10.897835731506348,-8.774337768554688,-12.687888145446777,14.916669845581055,-21.924455642700195,21.04340934753418,-18.657739639282227,40.34525680541992,36.74052429199219,26.08144760131836,18.677536010742188,35.54668426513672,31.036785125732422,35.9047737121582,-4.105164051055908,4.265233516693115,5.042920112609863,-9.015450477600098,0.18720592558383942,43.767822265625,-17.930288314819336,9.557190895080566,8.931806564331055,24.61338996887207,32.675472259521484,14.955316543579102,-33.83024597167969,-34.54824447631836,30.03319549560547,43.56853103637695,30.935272216796875,-35.562076568603516,-42.334354400634766,17.175264358520508,-27.682462692260742,42.11863708496094,39.26279830932617,-15.194222450256348,7.9900407791137695,29.1447811126709,6.904931545257568,3.292241096496582,19.379182815551758,-7.396235466003418,22.565507888793945,-5.634653568267822,5.51640510559082,22.572038650512695,-36.188331604003906,-26.875263214111328,19.635286331176758,-29.221935272216797,7.277694225311279,18.781217575073242,-60.75649642944336,-33.132232666015625,-12.756438255310059,3.03171443939209,14.078925132751465,-39.79655075073242,32.5215950012207,-50.192970275878906,-33.38225173950195,26.390399932861328,27.543489456176758,-14.134303092956543,-57.6236572265625,-28.588685989379883,-20.0346622467041,-36.11653137207031,-24.256359100341797,-44.7158203125,13.347549438476562,31.147418975830078,-26.93326759338379,32.923057556152344,-11.421120643615723,8.87937068939209,35.856773376464844,-47.64879608154297,-7.981151580810547,-5.036376953125,10.116584777832031,-9.007341384887695,18.48103904724121,1.1705900430679321,-27.163227081298828,1.2829198837280273,-5.674292087554932,29.48941993713379,-14.481186866760254,0.41731324791908264,-54.595245361328125,27.7808780670166,-11.14117431640625,-48.68965148925781,-10.556122779846191,-12.592161178588867,27.815839767456055,-7.571753978729248,-8.49165153503418,-7.178585529327393,12.764847755432129,2.229400157928467,7.295559883117676,47.18997573852539,7.232036590576172,26.198293685913086,44.95722579956055,-8.692532539367676,-49.508663177490234,-27.64716911315918,18.958621978759766,20.475786209106445,-17.3494930267334,-21.493379592895508,-20.29580307006836,22.197046279907227,27.5340576171875,13.437164306640625,46.63863754272461,-27.80280303955078,-4.995444297790527,-21.598190307617188,6.716685771942139,44.60708999633789,18.077255249023438,6.599945545196533,27.373117446899414,39.54283905029297,-1.2708683013916016,11.578912734985352,48.864158630371094,42.763771057128906,11.433991432189941,23.58556365966797,-12.981559753417969,-7.475032806396484,38.297584533691406,22.030364990234375,17.347816467285156,13.790507316589355,44.504669189453125,35.408729553222656,21.2572021484375,5.241355895996094,-5.693225383758545,1.1957226991653442,-4.803450584411621,32.21700668334961,-54.764461517333984,-16.178707122802734,7.004697322845459,-50.9847526550293,34.60952377319336,-22.131853103637695,16.157779693603516,-13.907633781433105,34.038639068603516,-3.285564661026001,-0.3398330509662628,-28.436721801757812,1.545382022857666,27.272518157958984,-11.924060821533203,51.8450813293457,-15.4075927734375,45.064327239990234,-53.19669723510742,-8.737491607666016,36.97443771362305,-16.626068115234375,-23.742460250854492,-4.951107025146484,11.341800689697266,-49.957794189453125,30.73935317993164,13.848828315734863,48.80010986328125,45.171607971191406,40.79443359375,-6.688755035400391,-50.665008544921875,2.248171329498291,8.333415985107422,-6.304066181182861,15.634849548339844,-28.462190628051758,44.46760559082031,44.22496795654297,32.955074310302734,-21.010766983032227,22.132535934448242,-15.71185302734375,16.769405364990234,-34.479583740234375,23.66054916381836,27.2963924407959,-12.094922065734863,8.279986381530762,-29.03004264831543,-32.8596076965332,-45.33463668823242,-5.498126029968262,-20.082504272460938,-17.19420051574707,-22.924165725708008,4.145213603973389,0.1843944936990738,28.87818717956543,21.76117706298828,-38.89731979370117,27.201520919799805,16.968473434448242,21.002622604370117,-43.413177490234375,-3.177935838699341,11.907832145690918,12.733930587768555,39.55515670776367,28.751283645629883,29.63772201538086,-6.648285865783691,13.260494232177734,45.60466003417969,33.154212951660156,12.647217750549316,7.325782299041748,-30.511404037475586,3.4524102210998535,42.27920913696289,9.245104789733887,21.154693603515625,-44.987342834472656,41.889827728271484,0.38046807050704956,-52.381019592285156,-3.7226312160491943,-20.564529418945312,34.78028106689453,-26.549667358398438,35.443355560302734,-28.39288902282715,-17.961606979370117,44.21769714355469,-41.71151351928711,-52.008338928222656,21.692834854125977,33.30118942260742,30.106678009033203,21.32612419128418,-43.70293426513672,-21.00501823425293,-10.675887107849121,21.399362564086914,-23.876020431518555,41.472476959228516,-31.865766525268555,-16.210111618041992,-7.18269681930542,5.565423488616943,10.553628921508789,13.38070011138916,-23.68874168395996,-0.8884322643280029,-20.41176414489746,49.959739685058594,62.338287353515625,-4.744986057281494,-7.5996832847595215,-4.081360340118408,-39.312137603759766,-41.246673583984375,30.915372848510742,-41.982704162597656,6.18735408782959,10.169351577758789,16.310129165649414,34.575782775878906,54.8302116394043,-23.756248474121094,-15.891396522521973,-44.68174743652344,27.284685134887695,16.268606185913086,9.030741691589355,-4.198390007019043,7.6506171226501465,-18.02991485595703,-45.65748596191406,34.23246765136719,14.263854026794434,25.588558197021484,28.597909927368164,36.66322708129883,9.42927360534668,44.061614990234375,26.101078033447266,-51.22713088989258,-12.250972747802734,21.512451171875,20.5953369140625,2.132488250732422,46.23305892944336,-2.4900622367858887,14.695822715759277,-27.33327293395996,11.750603675842285,-42.066001892089844,-47.173526763916016,37.368629455566406,15.394837379455566,13.766305923461914,-35.40188217163086,-1.021826982498169,-47.427635192871094,36.44731140136719,-53.47418212890625,-9.237351417541504,30.84168815612793,12.784332275390625,36.27395248413086,-37.91099166870117,-21.843265533447266,27.714120864868164,-12.572720527648926,-4.244836807250977,-21.303342819213867,17.822662353515625,-7.868071556091309,17.56125259399414,17.92201805114746,-5.610317230224609,17.56832504272461,0.21932640671730042,-29.126922607421875,-11.04384708404541,44.03508758544922,52.58771896362305,-17.792049407958984,-15.97862434387207,-33.12855529785156,-33.20001220703125,11.90613842010498,-2.3478305339813232,22.04174041748047,43.37113952636719,-1.5105793476104736,-10.874714851379395,20.255226135253906,-21.986169815063477,-4.455765724182129,-28.347095489501953,16.323524475097656,13.773601531982422,-27.855426788330078,4.1636738777160645,8.298995018005371,-1.6584911346435547,40.883365631103516,-21.514530181884766,6.533473491668701,-5.695973873138428,18.5949649810791,-23.939260482788086,-32.40247344970703,-51.054805755615234,-28.88605499267578,20.072341918945312,-47.59696578979492,30.60236358642578,-36.22957229614258,-3.645914316177368,-16.03278350830078,-16.929502487182617,-41.234012603759766,-45.40324020385742,-31.375852584838867,26.00579261779785,-24.994461059570312,-23.410621643066406,-9.666431427001953,19.76473045349121,-28.6705322265625,-43.70520782470703,21.828998565673828,29.93765640258789,-35.59478759765625,46.45423889160156,-2.8273212909698486,-1.299574375152588,12.090405464172363,-0.40092864632606506,-4.161038875579834,44.79468536376953,-23.99799346923828,-40.944847106933594,20.245454788208008,13.160162925720215,-8.790324211120605,-1.5173823833465576,-39.04606246948242,18.325763702392578,-52.11728286743164,6.918374061584473,33.82904815673828,23.86189079284668,12.620182991027832,-26.517911911010742,27.340669631958008,-1.414524793624878,-30.90935516357422,-29.168712615966797,-0.48110470175743103,32.07621383666992,31.594572067260742,18.97028350830078,40.44986343383789,25.637060165405273,-16.689422607421875,19.1518611907959,-39.47657012939453,-33.08320999145508,10.317378997802734,48.22455596923828,23.988527297973633,-3.9398698806762695,21.872438430786133,10.075549125671387,-22.067731857299805,23.05255889892578,6.957921028137207,-29.28463363647461,43.69890594482422,27.749082565307617,38.39139938354492,44.19020462036133,-3.782822608947754,-2.7330000400543213,-25.171030044555664,2.697272300720215,-27.002893447875977,4.518800258636475,40.277156829833984,47.778141021728516,10.768051147460938,-47.989681243896484,2.7495524883270264,-8.666107177734375,34.07152557373047,2.610170841217041,10.007770538330078,-0.6024646162986755,30.01180076599121,54.12544631958008,8.711968421936035,-3.148175001144409,-13.485601425170898,-25.987625122070312,7.821542263031006,40.8898811340332,-16.113706588745117,5.088304042816162,11.55176830291748,-1.7803082466125488,-52.78603744506836,-26.484853744506836,-10.004703521728516,-19.600919723510742,-1.929157018661499,3.538661479949951,37.234901428222656,-32.06745910644531,12.166157722473145,28.53474998474121,27.948259353637695,-23.368642807006836,-35.84626388549805,11.498335838317871,16.65456199645996,22.859573364257812,45.541141510009766,20.45355224609375,2.159907341003418,-4.919961452484131,14.548279762268066,24.163101196289062,31.271574020385742,-20.104442596435547,-17.467485427856445,-6.59795618057251,13.31320858001709,-20.6990909576416,17.525680541992188,-10.126423835754395,-10.718907356262207,4.168031692504883,-45.62043762207031,39.20945739746094,34.7448616027832,-45.37156295776367,21.571725845336914,-8.490814208984375,3.054919481277466,-20.139041900634766,-39.97550582885742,-9.709802627563477,-31.408918380737305,23.814617156982422,16.787752151489258,34.28887939453125,-7.204204082489014,25.514150619506836,32.74135208129883,5.006585597991943,-29.009294509887695,-8.714866638183594,9.272758483886719,21.129087448120117,-14.3565034866333,56.93229675292969,24.35446548461914,35.48553466796875,4.163483142852783,39.122718811035156,-0.25890955328941345,-38.35397720336914,30.238361358642578,-29.7246150970459,-8.575448989868164,54.615936279296875,16.02861976623535,-1.6469968557357788,33.58951187133789,-33.0882682800293,46.555076599121094,-29.119178771972656,37.1407585144043,-27.573490142822266,1.3661085367202759,-44.45152282714844,-30.614124298095703,19.339710235595703,-1.2047640085220337,12.613988876342773,-56.875362396240234,-52.061222076416016,-33.50860595703125,-0.9000898003578186,-1.3746942281723022,17.599367141723633,-23.96673583984375,-36.215938568115234,17.51795768737793,-9.575416564941406,-19.38555145263672,16.377037048339844,3.222409963607788,9.976872444152832,-11.481245040893555,-20.192697525024414,-34.63175964355469,20.13892936706543,1.5430035591125488,15.739596366882324,12.982032775878906,35.866539001464844,-30.22739601135254,-18.898021697998047,20.580785751342773,-12.034850120544434,35.55294418334961,55.44004440307617,-62.07537841796875,3.0808446407318115,50.44017028808594,-49.62174606323242,23.011249542236328,-9.3248872756958,-5.720823764801025,9.490032196044922,-21.134851455688477,15.163846015930176,19.776081085205078,-30.19915199279785,-5.043044090270996,61.826358795166016,23.33781623840332,-17.375818252563477,-23.691707611083984,5.966757297515869,0.6541739106178284,38.861114501953125,1.5993400812149048,-45.30684280395508,43.31590270996094,29.78846549987793,-51.074073791503906,-7.056716442108154,-14.68708324432373,-52.528133392333984,7.852603912353516,-41.22352600097656,2.15877103805542,1.7300441265106201,-13.08095932006836,-42.510276794433594,9.555320739746094,-4.707726955413818,-31.16982650756836,-8.603897094726562,-12.111223220825195,19.388519287109375,19.67522621154785,11.443007469177246,-33.360687255859375,27.193349838256836,-51.7265510559082,12.211516380310059,-5.598320007324219,-6.40479040145874,6.48123025894165,-30.041017532348633,1.6052137613296509,-53.792640686035156,-3.8607535362243652,10.663972854614258,-4.747560024261475,-32.310115814208984,3.784355401992798,29.81675148010254,10.480937004089355,13.129030227661133,-33.31093215942383,11.701777458190918,-38.5396842956543,-11.014735221862793,-24.244781494140625,5.064908027648926,37.50199890136719,30.003713607788086,-54.288047790527344,-11.334303855895996,-39.25414276123047,9.947078704833984,-46.89704895019531,36.754234313964844,-15.57983684539795,-33.83028030395508,-39.99105453491211,-6.883665084838867,-49.94624710083008,30.109119415283203,18.080896377563477,-54.91366958618164,-18.24119758605957,11.941558837890625,-53.72338104248047,29.51142692565918,7.220631122589111,24.938074111938477,36.538787841796875,-57.02531433105469,-29.4987735748291,-53.896484375,-15.157997131347656,27.9999942779541,38.26340866088867,7.855519771575928,3.713503122329712,6.611013889312744,-46.80009078979492,10.453274726867676,-46.12056350708008,-11.592459678649902,-13.155319213867188,-18.3887996673584,-34.938941955566406,18.20331382751465,28.672405242919922,-17.010988235473633,40.45281219482422,36.90436935424805,10.499478340148926,-62.05412292480469,-26.978755950927734,36.05253601074219,-35.88920974731445,-6.44497013092041,56.80574035644531,31.39360237121582,34.956207275390625,17.01103973388672,-50.870670318603516,44.02800750732422,22.991785049438477,13.087422370910645,-32.66761016845703,46.405513763427734,44.7711181640625,-21.843002319335938,24.42601203918457,-3.2377426624298096,34.97602844238281,-7.680593490600586,-31.63858985900879,-47.30194854736328,15.750020027160645,38.6345100402832,1.7812398672103882,1.5877201557159424,-30.585397720336914,-55.33258819580078,31.311521530151367,1.5494760274887085,60.291378021240234,-24.00944709777832,-7.485053539276123,54.0408935546875,-13.245621681213379,25.05384063720703,31.432104110717773,43.8827018737793,-25.145715713500977,-27.980085372924805,4.371267318725586,-52.741111755371094,-30.174325942993164,18.129467010498047,14.341567039489746,24.698347091674805,15.873108863830566,29.25147247314453,-34.99822235107422,-50.362430572509766,-42.86595916748047,10.815625190734863,7.498026371002197,-18.011428833007812,-45.43161392211914,-24.650484085083008,10.711003303527832,2.8936312198638916,8.022905349731445,-45.64705276489258,16.392812728881836,6.065685749053955,-13.623703002929688,-47.386451721191406,49.455604553222656,9.852563858032227,47.74462127685547,-10.541571617126465,33.78038024902344,28.163434982299805,-55.99574279785156,26.848731994628906,-32.0457649230957,32.58200454711914,20.033859252929688,3.4608962535858154,-22.985496520996094,-30.793262481689453,17.5858211517334,25.16221046447754,41.08974838256836,-14.946205139160156,-24.994482040405273,-33.424625396728516,37.90328598022461,-9.414525985717773,-3.830641984939575,-34.89790344238281,10.676151275634766,15.523480415344238,-50.66355514526367,-58.98011016845703,27.82592010498047,-41.767372131347656,-14.987363815307617,-36.698665618896484,-15.651674270629883,-38.83692932128906,-27.825122833251953,28.955568313598633,-9.247465133666992,-6.101499557495117,37.56611251831055,23.840656280517578,-11.376201629638672,3.0697388648986816,20.554067611694336,13.469855308532715,-26.276750564575195,-9.140583038330078,-20.415584564208984,43.05412673950195,6.409168243408203,-2.0560643672943115,-55.21710968017578,24.291061401367188,10.488653182983398,-20.74152946472168,44.513031005859375,-0.5841382741928101,11.346526145935059,33.73385238647461,35.48731994628906,-21.315523147583008,-0.9876781702041626,-11.828415870666504,-19.861818313598633,-31.732929229736328,23.982975006103516,21.517629623413086,-12.807958602905273,18.926673889160156,42.675819396972656,-10.350035667419434,27.624378204345703,40.04502487182617,8.254277229309082,38.47979736328125,-3.394753932952881,22.448801040649414,9.675809860229492,45.145294189453125,20.625141143798828,49.00046157836914,43.811309814453125,-10.221750259399414,-18.072338104248047,-7.482001781463623,-20.71146011352539,-53.4229621887207,-48.20436477661133,19.327518463134766,-52.064857482910156,3.847235918045044,-44.60023498535156,-43.7457275390625,-36.618160247802734,-16.641109466552734,-37.66401672363281,13.224976539611816,33.14445114135742,-0.3755674362182617,-35.681522369384766,28.37138557434082,0.19079218804836273,44.55945587158203,15.340290069580078,37.99192428588867,45.61631774902344,-11.893369674682617,34.42612075805664,-14.622223854064941,-15.127677917480469,-19.251386642456055,47.73810577392578,16.016263961791992,-7.409665107727051,-46.39470291137695,18.008745193481445,-47.065574645996094,-5.196421146392822,18.068967819213867,25.982419967651367,43.62838363647461,-42.47132873535156,4.489253997802734,-38.27756881713867,41.14523696899414,-17.014047622680664,-27.39807891845703,-48.24365234375,-15.394386291503906,-16.904680252075195,-24.12653350830078,-2.5551021099090576,-54.285255432128906,-7.927841663360596,-4.929276943206787,-44.27717971801758,15.73201847076416,38.62087631225586,40.44537353515625,1.2360038757324219,-53.89516830444336,-29.258560180664062,24.547632217407227,-2.697237014770508,-40.148406982421875,15.507832527160645,-3.7485318183898926,2.43281626701355,-33.834739685058594,-1.396429419517517,-46.957706451416016,-22.661481857299805,-54.67527389526367,22.38622283935547,-30.5869083404541,7.721640110015869,10.620272636413574,17.617305755615234,-26.218727111816406,2.96461820602417,29.973865509033203,33.775413513183594,-50.02546310424805,1.110217809677124,-13.43834400177002,31.33776092529297,-22.043306350708008,0.025824688374996185,5.852251052856445,27.45545196533203,28.631267547607422,-37.865482330322266,4.266067981719971,-1.3947234153747559,4.738696098327637,-36.76357650756836,11.668190956115723,-3.0221407413482666,42.461978912353516,22.26018524169922,17.816797256469727,-43.88592529296875,13.177773475646973,6.205841541290283,33.17095947265625,-40.0213737487793,25.799488067626953,-37.26547622680664,27.91592788696289,-28.759647369384766,42.14216232299805,10.308822631835938,32.107269287109375,15.831396102905273,-51.93209457397461,-23.599092483520508,18.418075561523438,42.84129333496094,-17.88761329650879,-12.874122619628906,14.5067720413208,-3.526219367980957,-7.563043117523193,46.488494873046875,9.226143836975098,-47.64313888549805,28.206695556640625,30.159826278686523,30.329349517822266,-25.05866050720215,12.78268051147461,24.18016815185547,27.655759811401367,6.7621917724609375,-7.629437446594238,-14.44018268585205,19.883359909057617,-23.967769622802734,-27.364805221557617,2.748241662979126,-11.906304359436035,35.190101623535156,-29.812002182006836,-32.007179260253906,24.947145462036133,16.589221954345703,-12.225343704223633,-48.742679595947266,30.022640228271484,-18.892969131469727,-11.471856117248535,-15.919624328613281,-19.504070281982422,-4.90401554107666,3.535604953765869,-14.523003578186035,-17.550857543945312,22.88106346130371,9.940691947937012,29.88325309753418,30.71269416809082,9.629785537719727,-17.63074493408203,27.34949493408203,7.442469596862793,41.06266784667969,42.55976486206055,11.937602043151855,29.65792465209961,-20.06960105895996,48.140594482421875,27.222618103027344,-38.710323333740234,-9.600211143493652,-18.339323043823242,37.943355560302734,-1.3678885698318481,-31.006702423095703,20.9527645111084,-18.846635818481445,-37.65316390991211,30.041330337524414,2.3692574501037598,-54.92262268066406,-8.40211296081543,19.14242172241211,22.610088348388672,-2.675243854522705,27.4620418548584,0.26743367314338684,32.35823059082031,37.43749237060547,-7.3700337409973145,15.0770845413208,22.58017921447754,-34.1249885559082,-10.79393196105957,-33.12814712524414,-17.037019729614258,-43.01642990112305,-55.54655838012695,-13.27469539642334,-56.59711456298828,26.55742835998535,-17.70126724243164,30.719457626342773,-7.259568214416504,-24.834503173828125,14.317298889160156,4.113834857940674,-23.543350219726562,31.00250816345215,-56.00620651245117,8.76504898071289,9.741192817687988,16.338409423828125,-41.3271484375,-21.421628952026367,3.8486506938934326,-6.294100284576416,-50.0433464050293,-5.195599555969238,-5.799928188323975,-1.0926456451416016,-31.77740478515625,17.423049926757812,14.922547340393066,-59.182861328125,-46.010982513427734,5.796494960784912,-20.663610458374023,-36.90229034423828,-22.34866714477539,10.05290699005127,-46.7756462097168,32.32962417602539,-30.469921112060547,51.52975845336914,-44.494510650634766,20.93946647644043,41.511070251464844,41.078189849853516,19.7387752532959,46.035064697265625,34.088993072509766,39.74988555908203,45.43949890136719,30.29309844970703,-12.101994514465332,-32.82780075073242,24.077863693237305,21.59502601623535,-59.675132751464844,-5.995925426483154,16.03370475769043,7.300898551940918,17.574657440185547,-14.573047637939453,66.28926849365234,-11.725600242614746,-43.482757568359375,33.92133712768555,-1.744564414024353,22.566287994384766],\"y\":[17.075950622558594,-26.180320739746094,44.431461334228516,19.390310287475586,-7.634497165679932,1.5937079191207886,-1.0290884971618652,-14.32230281829834,-4.890965461730957,-13.604939460754395,-37.433040618896484,43.584381103515625,-19.432048797607422,-35.06576919555664,-32.400299072265625,-9.276605606079102,-17.09535026550293,-8.216995239257812,22.496177673339844,2.41457200050354,-25.038583755493164,-11.001689910888672,-24.13670539855957,32.87604904174805,0.17404408752918243,35.15258026123047,-34.48041915893555,-10.120160102844238,-18.12139892578125,-12.322633743286133,-12.566075325012207,-3.2489967346191406,-34.36094665527344,43.79634475708008,-32.18388748168945,-2.439394235610962,-27.551759719848633,-34.29310607910156,1.432619571685791,-11.620034217834473,53.95314025878906,-5.460043907165527,30.669031143188477,1.0556511878967285,56.074073791503906,-23.472698211669922,-11.256386756896973,32.80976486206055,-20.47981834411621,-12.615655899047852,-22.152223587036133,70.46876525878906,-31.571943283081055,-31.839696884155273,-38.462867736816406,-2.0801334381103516,-3.3884952068328857,18.91626739501953,34.739707946777344,-13.114969253540039,1.0371726751327515,-34.934906005859375,38.22786331176758,-17.314722061157227,21.579322814941406,-38.78794479370117,-22.954383850097656,-7.72242546081543,-8.65131950378418,-10.721385955810547,27.354230880737305,22.297788619995117,69.83955383300781,53.421348571777344,-7.182816028594971,8.334395408630371,-38.989501953125,-13.13348388671875,-20.99374008178711,-24.458526611328125,-4.90418815612793,34.6184196472168,-10.975825309753418,3.758559226989746,40.89384078979492,-8.16936206817627,47.91029739379883,-37.84811782836914,21.56856346130371,18.263181686401367,-20.208839416503906,-2.2813708782196045,-51.424678802490234,-17.46357536315918,-21.01788902282715,54.53483963012695,-11.584554672241211,-33.19615936279297,-8.603506088256836,35.66217041015625,34.6434211730957,31.668254852294922,-27.311981201171875,17.2362003326416,-24.837514877319336,42.286468505859375,1.557214379310608,-13.58545207977295,42.26006317138672,54.29360580444336,-37.8405647277832,12.910665512084961,51.47015380859375,33.708946228027344,20.767127990722656,19.620555877685547,-17.446889877319336,-50.954349517822266,28.984689712524414,18.110149383544922,0.659681499004364,-58.5838508605957,-36.784786224365234,2.4432783126831055,69.9190902709961,37.521034240722656,-19.356843948364258,-6.677408218383789,21.6522159576416,47.42042922973633,-21.00948715209961,-20.647335052490234,-37.2189826965332,-4.040656089782715,7.66698694229126,-31.551668167114258,-10.485340118408203,-14.12433910369873,-40.03861618041992,-18.53280258178711,-18.141977310180664,-61.7725830078125,-50.99819564819336,32.23733139038086,-38.22542190551758,-41.40210723876953,28.607757568359375,15.649236679077148,-18.170063018798828,31.168222427368164,39.048763275146484,-51.88359451293945,54.11174011230469,-2.2951409816741943,4.362420558929443,-11.513204574584961,19.737213134765625,-38.84150314331055,19.034347534179688,36.11118698120117,-40.48615646362305,69.08487701416016,38.212738037109375,22.967226028442383,5.524418830871582,8.77692985534668,23.091676712036133,23.435163497924805,43.46966552734375,22.334672927856445,-10.437444686889648,34.94447326660156,-22.82895278930664,1.4775961637496948,-8.034520149230957,-51.57304763793945,-51.47114562988281,36.817848205566406,16.973724365234375,4.754282474517822,41.20051574707031,33.71659851074219,2.866666316986084,3.678239583969116,-30.415836334228516,-10.792824745178223,-52.52177047729492,-25.39423370361328,14.789437294006348,-38.633392333984375,-4.823197841644287,35.41024398803711,40.74931335449219,34.50700378417969,-48.53190994262695,40.360904693603516,-55.27978515625,8.673211097717285,69.84455108642578,10.32914924621582,-11.237215995788574,16.6312198638916,-17.034835815429688,-24.19426155090332,-51.73384094238281,-52.833553314208984,29.777008056640625,40.6284065246582,0.4146636426448822,6.685473442077637,-60.724853515625,-38.77995681762695,-4.2834930419921875,-9.360071182250977,12.155234336853027,34.71086502075195,-52.13833236694336,-49.471927642822266,51.32581329345703,-23.792346954345703,-53.0033073425293,0.3378697335720062,-52.72056579589844,-20.883676528930664,-9.34976577758789,40.37327575683594,-30.245624542236328,-28.246389389038086,54.40754699707031,-11.37479019165039,-52.55870819091797,-1.7674064636230469,-30.898921966552734,27.927143096923828,-53.053314208984375,-28.902725219726562,-52.73894500732422,15.77784538269043,-17.772336959838867,-48.855709075927734,21.608867645263672,11.601957321166992,31.79891586303711,49.756103515625,31.248050689697266,-47.48735809326172,16.824317932128906,30.0174617767334,3.7691516876220703,16.904516220092773,-6.333583354949951,21.783058166503906,-2.769723653793335,17.180253982543945,-22.511810302734375,-7.937889575958252,-12.351136207580566,53.9842414855957,-52.23930358886719,20.548311233520508,-11.17136287689209,2.512380838394165,34.70704650878906,-52.28266525268555,-56.91307067871094,-1.623984456062317,-23.871030807495117,-23.08946990966797,-25.2662410736084,21.31528091430664,23.931020736694336,-8.222115516662598,-1.774344563484192,-30.884496688842773,31.240516662597656,11.851316452026367,14.268779754638672,30.049888610839844,37.43866729736328,54.07525634765625,16.003334045410156,-22.982318878173828,34.97325134277344,-33.459651947021484,-24.64554214477539,48.577178955078125,56.59619903564453,-40.666053771972656,-37.25016403198242,3.7297146320343018,-31.277677536010742,-19.394134521484375,27.11522102355957,-14.898554801940918,-51.822601318359375,22.29466438293457,34.5319709777832,25.218730926513672,-0.669330358505249,7.321276664733887,17.483612060546875,-53.61738586425781,21.925310134887695,-3.0125932693481445,-13.321758270263672,21.60392189025879,15.554443359375,7.169524669647217,-39.91520690917969,-52.12591552734375,-53.50871276855469,-37.373714447021484,-44.185035705566406,21.426376342773438,16.90169334411621,4.002246856689453,-29.070716857910156,-8.127481460571289,19.224760055541992,-45.46295166015625,-28.67132568359375,33.59469985961914,29.887754440307617,-29.194177627563477,19.64597511291504,48.15766906738281,32.40913772583008,-21.783605575561523,8.914619445800781,-32.32938766479492,21.952110290527344,31.69765281677246,-12.889052391052246,-2.3316612243652344,-36.77214431762695,-26.68692398071289,-25.077062606811523,21.900136947631836,-16.297468185424805,-12.440771102905273,-52.304378509521484,-52.27595901489258,4.142168998718262,6.058676719665527,-33.71888732910156,-3.8973703384399414,0.9040504693984985,23.969676971435547,4.351563453674316,-31.339954376220703,-25.34731101989746,5.688751697540283,7.94918966293335,0.8748119473457336,-52.57798385620117,-39.5682373046875,-58.87954330444336,19.74563980102539,40.243133544921875,3.6119191646575928,-6.736831188201904,15.1871337890625,8.883749008178711,42.88835906982422,-28.83763885498047,-49.51704406738281,-47.616451263427734,38.24577713012695,-6.592623710632324,23.889680862426758,-24.171314239501953,26.13991355895996,15.240093231201172,39.97772216796875,24.039745330810547,-22.48552703857422,17.299890518188477,14.740401268005371,-57.320518493652344,-17.76413917541504,23.190698623657227,-37.83164596557617,39.84613800048828,2.6502108573913574,69.36003112792969,-7.35110330581665,17.108156204223633,14.515083312988281,-20.675052642822266,2.7863824367523193,-56.93254089355469,-4.914981365203857,-55.30770492553711,20.864980697631836,-8.977704048156738,34.64731216430664,40.28057098388672,7.552203178405762,40.468238830566406,-51.436187744140625,-16.936010360717773,-1.023947834968567,41.83559799194336,-5.810239791870117,-12.419724464416504,-34.54233932495117,15.229915618896484,29.856830596923828,23.332075119018555,-59.51240921020508,19.361642837524414,30.042924880981445,-51.49174880981445,13.788434982299805,28.53415298461914,-3.3920791149139404,-17.84844970703125,48.288883209228516,-50.33451461791992,21.646373748779297,-13.538307189941406,37.71099090576172,19.304851531982422,-46.44160079956055,8.550093650817871,-58.51978302001953,68.86573028564453,4.082468509674072,31.4791259765625,-1.91120445728302,22.758155822753906,12.243559837341309,-15.190713882446289,-52.95207977294922,-37.269798278808594,-13.24050235748291,34.056114196777344,31.52756118774414,-4.541035175323486,-23.96144676208496,6.262730598449707,34.91981506347656,-21.32378387451172,-51.74406433105469,30.268648147583008,-51.621246337890625,33.91278839111328,45.589805603027344,32.197364807128906,30.012527465820312,-3.6215872764587402,53.47089767456055,-46.12347412109375,23.00650978088379,-48.252655029296875,-41.54283142089844,-23.797082901000977,-0.7166380882263184,-31.323583602905273,34.750728607177734,11.960033416748047,-37.450889587402344,29.825084686279297,54.640010833740234,-36.204612731933594,-4.215700149536133,7.617084980010986,-20.464401245117188,-2.325587272644043,-31.267587661743164,22.671037673950195,-37.2466926574707,-60.26494216918945,-24.122882843017578,8.213465690612793,-7.598814010620117,-2.6691129207611084,-39.06650924682617,-6.851225852966309,27.146556854248047,-33.53197479248047,52.95587158203125,-62.903465270996094,-58.025970458984375,7.256259918212891,-31.52010726928711,23.022174835205078,-22.514413833618164,-45.78779220581055,-40.31514358520508,10.782087326049805,-23.528467178344727,44.724281311035156,-64.75926208496094,33.25117874145508,35.200950622558594,0.5564834475517273,7.577864170074463,-33.28981399536133,8.299946784973145,9.435341835021973,7.2446064949035645,-17.787017822265625,9.856348037719727,-11.146690368652344,39.05830764770508,-32.457916259765625,-23.28778076171875,-23.87451171875,-17.60196876525879,-41.39459991455078,-26.762712478637695,-56.524784088134766,19.608333587646484,-29.321090698242188,-49.79741287231445,-53.25238037109375,33.65631103515625,25.569198608398438,-5.6055192947387695,54.333621978759766,-12.161311149597168,29.904478073120117,-5.351118087768555,-30.779088973999023,17.75316619873047,8.640400886535645,67.98782348632812,15.815424919128418,-62.10285568237305,-59.163448333740234,-8.157342910766602,-47.469581604003906,-24.2871036529541,-25.899229049682617,-38.81998825073242,-53.1103515625,-0.2159060686826706,-11.097943305969238,-28.097291946411133,-31.803852081298828,20.902376174926758,35.36848068237305,35.03208541870117,-44.675445556640625,7.414342403411865,-32.00801086425781,-36.07231140136719,-6.69448184967041,31.118471145629883,30.364635467529297,40.79436111450195,23.203929901123047,-23.514774322509766,-46.45665740966797,-16.4256649017334,-36.736080169677734,16.41509437561035,39.91685485839844,-24.538002014160156,-36.193687438964844,-38.01395034790039,-26.91556739807129,21.62639808654785,-3.106025218963623,-28.31049156188965,-52.52412796020508,25.14143180847168,26.784595489501953,-11.483460426330566,-10.154263496398926,39.766395568847656,1.8495234251022339,-31.255733489990234,44.706661224365234,-4.261782169342041,-28.359289169311523,-52.23130798339844,32.09113311767578,-9.952181816101074,26.193092346191406,-46.20878982543945,12.32669448852539,28.68694496154785,-8.063826560974121,20.141672134399414,-8.8327054977417,37.01844024658203,-4.466746807098389,-11.084672927856445,-58.32768249511719,7.194851398468018,-42.541419982910156,-3.75344181060791,-58.81989288330078,-48.12522888183594,-28.73343849182129,4.806345462799072,44.586158752441406,-30.997026443481445,31.350704193115234,53.57999038696289,7.701700210571289,-50.18448257446289,-23.347108840942383,-46.371551513671875,-26.991458892822266,16.677444458007812,9.29817008972168,6.558733940124512,19.62832260131836,-21.349531173706055,-14.280959129333496,2.3973212242126465,7.930706024169922,32.236793518066406,-57.40450668334961,-41.42495346069336,51.13589096069336,-13.906007766723633,19.488859176635742,-44.99250030517578,9.794632911682129,-37.69126892089844,-1.188367486000061,22.47397232055664,39.61387634277344,18.86057472229004,52.60362243652344,34.413230895996094,26.973543167114258,5.51638126373291,-10.063352584838867,17.578065872192383,14.519319534301758,11.352272033691406,30.15463638305664,-24.56092071533203,25.184185028076172,31.131853103637695,-26.558048248291016,18.44601058959961,9.11343002319336,-14.535111427307129,-43.029518127441406,-57.80324935913086,50.390655517578125,-2.105149030685425,47.82707977294922,46.933311462402344,50.89261245727539,-5.178856372833252,3.423492670059204,11.112215042114258,24.65631866455078,45.07665252685547,-41.24689865112305,-4.3698811531066895,-1.2112289667129517,-48.96533966064453,30.756126403808594,11.146425247192383,-7.940117835998535,36.80865478515625,44.269622802734375,-2.2668843269348145,69.26163482666016,38.33948516845703,-31.682323455810547,14.40786075592041,-17.241180419921875,-46.20856475830078,19.097759246826172,-42.50471115112305,-41.01871109008789,54.543251037597656,-25.951231002807617,-1.4843536615371704,-41.198795318603516,49.889137268066406,34.318214416503906,19.80373764038086,-7.56795597076416,-51.8376350402832,-29.635425567626953,-16.979337692260742,-1.4937794208526611,-16.259498596191406,50.363853454589844,-10.382661819458008,-11.620811462402344,20.9446964263916,7.897269248962402,30.018875122070312,-37.713287353515625,7.715978145599365,-20.15373420715332,16.07073211669922,15.882437705993652,28.034008026123047,22.988548278808594,-23.32891082763672,18.247453689575195,16.291669845581055,-54.60074996948242,-38.49809646606445,29.74115562438965,-35.98562240600586,12.528830528259277,-14.903059005737305,13.976714134216309,15.278033256530762,25.659690856933594,-7.588008403778076,43.836204528808594,8.415382385253906,38.86573791503906,3.651974678039551,23.956029891967773,-41.0115966796875,-14.241724014282227,-48.0068244934082,-57.93202590942383,-57.02277374267578,31.12204933166504,27.46088409423828,31.164419174194336,1.7654836177825928,33.40465545654297,-46.44219970703125,-47.1803092956543,19.692184448242188,23.29550552368164,12.649188995361328,29.288814544677734,-51.450950622558594,-12.089592933654785,-52.658634185791016,22.701814651489258,-44.16647720336914,-28.9649658203125,-50.1600227355957,-3.510859727859497,-49.32682800292969,-51.606353759765625,-6.445023536682129,-4.789583206176758,14.768596649169922,27.54523277282715,-23.509899139404297,14.359563827514648,19.722427368164062,-7.852730751037598,9.76185131072998,53.99413299560547,46.04435729980469,-41.46012496948242,8.071610450744629,-22.104846954345703,26.464385986328125,-12.602486610412598,38.64665603637695,-18.90740394592285,-23.643756866455078,26.45613670349121,29.682636260986328,-37.004859924316406,-35.260623931884766,16.21196937561035,26.1693115234375,-18.532066345214844,15.5630521774292,-0.5064936280250549,-5.7054290771484375,-38.01050567626953,-2.0143613815307617,54.28839874267578,42.178749084472656,10.717851638793945,-6.132772445678711,-29.13676643371582,26.756559371948242,34.799068450927734,-38.130165100097656,-31.935510635375977,-42.83103942871094,4.033937454223633,-47.403717041015625,26.57207679748535,-58.47415542602539,45.64850997924805,-49.09174346923828,30.794269561767578,36.282222747802734,-30.306272506713867,8.036039352416992,32.52614212036133,-27.020984649658203,6.708536148071289,-4.644881248474121,6.136181354522705,-39.723670959472656,15.081573486328125,-44.22540283203125,-48.34368896484375,-54.75281524658203,-15.760200500488281,-13.788250923156738,-40.0762825012207,-54.75675582885742,8.431220054626465,1.1801766157150269,1.9247267246246338,-23.9908447265625,34.71345520019531,22.356061935424805,-49.26251983642578,37.66944122314453,12.013607025146484,-2.3093578815460205,21.508501052856445,13.484108924865723,29.089187622070312,-38.29301071166992,5.395888805389404,14.737589836120605,23.731168746948242,-32.74737548828125,36.24473190307617,-14.162309646606445,-3.8576500415802,-23.56368064880371,56.581748962402344,12.19864273071289,-33.760616302490234,-41.842735290527344,-47.03948211669922,-15.484305381774902,-32.292686462402344,-38.8277473449707,-34.02578353881836,52.60252380371094,40.741947174072266,-1.0734535455703735,-25.045124053955078,34.66579055786133,4.630522727966309,-16.900060653686523,18.16963768005371,22.687572479248047,-22.289527893066406,26.488597869873047,14.020493507385254,10.588363647460938,17.800487518310547,-57.13228988647461,35.96095275878906,5.747146129608154,-42.256553649902344,-9.532354354858398,-42.11593246459961,30.219924926757812,-41.49180221557617,-20.643043518066406,-26.26856803894043,-21.63090705871582,15.560638427734375,-38.16788101196289,23.010074615478516,-27.396547317504883,18.337125778198242,11.433236122131348,12.027697563171387,-29.58359718322754,0.7571170926094055,-27.883621215820312,27.68126678466797,-14.74431324005127,20.75385284423828,-58.41761779785156,20.112852096557617,-18.284584045410156,-22.86946678161621,-41.78334045410156,-13.242486953735352,-19.268430709838867,14.820920944213867,29.863445281982422,-13.468460083007812,-18.13180923461914,52.01426696777344,45.18608856201172,-20.077423095703125,24.59859848022461,-36.83561325073242,-28.809261322021484,9.49154281616211,-28.852365493774414,8.225907325744629,31.56526756286621,-23.36281967163086,-55.17441940307617,18.22249984741211,43.95677947998047,-61.63829040527344,9.200530052185059,10.099127769470215,3.790713310241699,-6.861316204071045,31.988134384155273,-50.337318420410156,-18.79822540283203,8.9589262008667,-41.310081481933594,-1.12037992477417,8.856715202331543,2.551842451095581,-38.45671844482422,7.241047382354736,-9.228763580322266,17.571977615356445,52.613067626953125,10.222805976867676,-31.399864196777344,28.29080581665039,-44.157737731933594,-9.89042854309082,-28.45476531982422,20.91794776916504,30.189342498779297,-17.316936492919922,-0.6570481657981873,-0.24431677162647247,21.01030921936035,-26.207590103149414,-8.020280838012695,33.263397216796875,17.203645706176758,-18.266189575195312,-39.929466247558594,25.838659286499023,-30.18449592590332,17.70937156677246,44.03471374511719,-2.3683815002441406,-55.679473876953125,-5.853920936584473,-13.350688934326172,0.060197412967681885,-23.47658920288086,-18.509456634521484,27.2258358001709,-9.713266372680664,20.50383949279785,-5.157253742218018,24.209449768066406,4.136745452880859,28.58156967163086,49.75578689575195,-30.43735694885254,-4.346860408782959,29.770301818847656,-39.614768981933594,21.70791244506836,33.201271057128906,31.890628814697266,14.991268157958984,5.492042541503906,-5.390386581420898,31.762760162353516,-37.74095153808594,-43.3336067199707,8.316574096679688,18.474319458007812,45.5949821472168,42.98543167114258,-56.8951530456543,-31.798078536987305,-37.956695556640625,43.754268646240234,22.665998458862305,28.184892654418945,-56.5779914855957,-24.409814834594727,45.82392501831055,44.864009857177734,-47.315608978271484,-42.18996810913086,8.306156158447266,-15.590686798095703,20.193309783935547,-25.128557205200195,-20.324338912963867,-15.395528793334961,-10.375667572021484,2.5659432411193848,23.185012817382812,-3.2140562534332275,6.481067657470703,19.463062286376953,-22.97267723083496,-37.32664108276367,-18.19470977783203,24.12017250061035,31.634817123413086,-49.456600189208984,-33.219879150390625,1.9855341911315918,-31.502214431762695,-32.83988571166992,20.148584365844727,-59.074371337890625,-18.715118408203125,-8.2142915725708,36.30860900878906,-61.43363952636719,18.09519386291504,-22.16512107849121,-39.110321044921875,-16.68198585510254,-30.081531524658203,-55.70149612426758,-44.12641525268555,1.525071144104004,-31.45252227783203,-45.962032318115234,53.23311233520508,24.83831214904785,-16.611488342285156,8.134313583374023,-25.794281005859375,-44.368473052978516,-30.492231369018555,-17.550569534301758,-1.626219391822815,40.466453552246094,-29.24138832092285,8.916428565979004,-5.624838352203369,44.446563720703125,47.88374710083008,17.67209815979004,10.359919548034668,-40.51711654663086,0.11994849145412445,7.625123977661133,26.74578285217285,1.3347333669662476,38.34288787841797,4.135931968688965,-3.1175484657287598,-10.852222442626953,-23.191072463989258,54.19709014892578,-26.22409439086914,-38.5574836730957,20.664749145507812,5.020051002502441,-46.54290008544922,-58.96916580200195,-24.22418975830078,28.950382232666016,12.861336708068848,6.1816511154174805,28.286266326904297,-33.99486541748047,14.911784172058105,23.06875991821289,3.9276621341705322,-38.79374313354492,29.26385498046875,-20.147905349731445,-43.73141098022461,-49.1658935546875,-25.388896942138672,-12.891986846923828,-44.494937896728516,34.375465393066406,-23.843048095703125,2.871302843093872,6.497994899749756,14.281099319458008,8.55457592010498,-56.67799758911133,-39.31319046020508,-14.94237232208252,14.944396018981934,37.91971969604492,-7.7389044761657715,-39.597721099853516,-33.41590881347656,3.129626989364624,43.91679382324219,-24.740793228149414,2.5915138721466064,21.79636573791504,35.19556427001953,-13.639846801757812,-8.422868728637695,1.5194495916366577,-25.583984375,-50.362979888916016,0.4625838100910187,21.6669921875,-64.64189910888672,-40.139610290527344,31.796405792236328,-25.72945785522461,23.906402587890625,-39.541046142578125,3.277935266494751,2.5364363193511963,-3.8359901905059814,33.6064453125,3.6225826740264893,-22.408294677734375,51.88727569580078,0.24876739084720612,14.779372215270996,8.383779525756836,-19.093645095825195,-61.06528091430664,-6.145261764526367,-8.069463729858398,10.655912399291992,24.72141456604004,-16.582008361816406,-52.40493392944336,23.547761917114258,31.4603214263916,-23.73966407775879,-25.159629821777344,-36.172569274902344,24.029510498046875,-49.150474548339844,-3.965488910675049,-23.25518035888672,50.71147918701172,15.858345031738281,-43.4609375,-6.019846439361572,-11.144841194152832,21.679758071899414,17.968307495117188,-39.650665283203125,-7.939621925354004,22.97039222717285,-39.844974517822266,-23.929460525512695,-6.395765781402588,-37.24467468261719,45.99848937988281,5.263972759246826,9.792820930480957,12.573793411254883,-30.70476722717285,32.59883499145508,3.3258795738220215,-37.185726165771484,-16.214235305786133,-13.556852340698242,5.593191146850586,-21.445568084716797,1.4367773532867432,30.798002243041992,0.3919399380683899,-3.615776777267456,27.099140167236328,19.499771118164062,9.14232349395752,-16.919597625732422,0.45157718658447266,-25.983613967895508,-34.29801940917969,16.871906280517578,36.40928649902344,3.0609312057495117,-58.295528411865234,-40.40986633300781,-30.194276809692383,42.26624298095703,-51.44771194458008,-12.364407539367676,-10.90896224975586,-35.187992095947266,-35.000083923339844,-15.559615135192871,-18.191211700439453,-49.5748405456543,-56.142459869384766,10.720494270324707,-26.064191818237305,-54.02570343017578,-2.477027416229248,-27.657989501953125,65.95989227294922,-23.190099716186523,-35.440223693847656,28.007604598999023,-54.057281494140625,-28.631874084472656,2.636439561843872,24.220298767089844,-5.161884784698486,3.2005200386047363,-17.034921646118164,40.58847427368164,-62.1320915222168,5.263143539428711,7.7372355461120605,13.534579277038574,-20.619800567626953,15.12563419342041,19.564796447753906,-47.707332611083984,-43.69647216796875,-10.606700897216797,26.90059471130371,45.67567443847656,27.272397994995117,21.332910537719727,-13.994708061218262,-2.743870973587036,-41.9415168762207,31.75046157836914,3.8456931114196777,8.160801887512207,5.716743469238281,-38.36781311035156,24.86981964111328,-29.389543533325195,25.75031280517578,2.5886924266815186,-29.0119571685791,-1.5193819999694824,-33.61566925048828,-31.27817726135254,-55.52623748779297,2.690178155899048,-3.3287436962127686,-5.378510475158691,-5.677113056182861,34.04374313354492,28.376047134399414,29.196521759033203,5.827834129333496,13.900019645690918,20.968481063842773,2.8171725273132324,-23.050443649291992,31.61007308959961,-28.501487731933594,3.0597212314605713,-15.155559539794922,4.145167827606201,-28.36086082458496,-27.058216094970703,31.678363800048828,10.732202529907227,-11.205667495727539,-15.36963176727295,6.104513168334961,-21.433204650878906,18.00120735168457,7.905740261077881,7.636115550994873,-8.715713500976562,4.760046482086182,-46.52912902832031,-43.5660400390625,11.089726448059082,32.391571044921875,-34.6270751953125,3.2287352085113525,28.013408660888672,-37.32067108154297,4.3304924964904785,-23.7050838470459,44.34370040893555,10.690266609191895,-14.83635425567627,34.97039031982422,2.676456928253174,16.25003433227539,-49.75606918334961,26.263673782348633,-25.852611541748047,31.21977424621582,-0.4589230716228485,10.003744125366211,17.15101432800293,20.50014877319336,-61.405113220214844,-22.22454071044922,-23.999103546142578,-21.705425262451172,11.824728965759277,-42.42087936401367,-24.995288848876953,37.39089584350586,-28.314409255981445,-62.420692443847656,-33.649253845214844,-26.085031509399414,-16.833629608154297,0.21441152691841125,-35.4965705871582,-10.795784950256348,26.692686080932617,7.678958892822266,23.67670249938965,-6.00250768661499,25.57917594909668,31.78989601135254,15.210370063781738,-8.348682403564453,4.991485118865967,-34.214088439941406,-25.009084701538086,-15.962112426757812,-22.705753326416016,-24.08464813232422,-51.879581451416016,24.338048934936523,-28.047407150268555,9.9815092086792,20.910057067871094,-8.138449668884277,-40.64491653442383,-16.321884155273438,30.83995819091797,-7.529746055603027,32.67873764038086,-40.10689926147461,10.848423957824707,15.153474807739258,8.420493125915527,14.873838424682617,-9.246006965637207,14.155560493469238,-48.97932815551758,-14.441413879394531,51.83588790893555,-27.405553817749023,-24.598499298095703,-36.30375289916992,-53.090126037597656,-0.6271730661392212,6.512689590454102,0.7539396286010742,-6.57749080657959,18.056476593017578,34.413970947265625,-27.93749237060547,1.8009930849075317,-56.74970626831055,-8.046283721923828,-46.01715087890625,-8.044289588928223,-33.24045944213867,-39.13408660888672,-27.988853454589844,-5.353263854980469,7.70975399017334,-29.751035690307617,13.861682891845703,-8.535273551940918,-0.031889189034700394,39.07542419433594,22.749114990234375,-5.035380840301514,-16.439355850219727,16.8863582611084,-40.05353546142578,13.510974884033203,-39.97362518310547,-16.70353126525879,25.317304611206055,34.4700813293457,-8.166210174560547,-6.173798084259033,-15.91307258605957,-12.352415084838867,-33.3798713684082,34.356388092041016,25.86410140991211,-16.85820198059082,27.29194450378418,-52.29553985595703,48.12710189819336,-17.161592483520508,3.732597589492798,-25.663143157958984,-36.70939254760742,-21.30992317199707,26.81134605407715,-14.379260063171387,-19.532896041870117,-4.974992275238037,33.03461456298828,14.72966194152832,-3.7474522590637207,-20.411561965942383,-57.655662536621094,-3.8153936862945557,16.056747436523438,-15.078024864196777,11.333001136779785,25.83746910095215,-24.72998046875,-12.98903751373291,-23.594680786132812,-51.421268463134766,-48.4958381652832,-17.135961532592773,-37.62165832519531,-14.497393608093262,-10.197874069213867,6.897002696990967,14.443087577819824,14.075215339660645,-9.264618873596191,-22.61739158630371,45.034637451171875,11.181419372558594,26.02900505065918,18.954381942749023,-12.98281192779541,-47.0778923034668,-18.810245513916016,0.00836474820971489,-45.012535095214844,-19.454748153686523,20.805143356323242,-17.32051658630371,31.094987869262695,39.92078399658203,10.472387313842773,33.93692398071289,-11.351956367492676,-3.5008742809295654,5.709454536437988,8.679259300231934,30.150789260864258,4.226949691772461,40.297183990478516,31.03093719482422,11.773904800415039,11.841460227966309,9.14373779296875,31.968908309936523,17.337812423706055,-27.67018699645996,20.836332321166992,24.4617919921875,-60.79029846191406,30.93558692932129,-10.966100692749023,-61.33407211303711,-23.878299713134766,32.730045318603516,15.827657699584961,-60.43760299682617,4.6587138175964355,24.624059677124023,-52.382667541503906,25.326539993286133,2.301849842071533,28.11186981201172,14.09134578704834,-19.779348373413086,15.490307807922363,26.724594116210938,30.0891056060791,17.521451950073242,42.977020263671875,1.7749234437942505,-5.183144569396973,-13.246061325073242,10.380340576171875,-36.29163360595703,17.656631469726562,-26.222400665283203,-43.202632904052734,-24.222230911254883,-12.193469047546387,10.471285820007324,19.96770477294922,8.258220672607422,-5.730457782745361,40.058441162109375,34.91898727416992,-16.395442962646484,24.37306022644043,-33.249237060546875,33.529685974121094,-17.66554069519043,-60.62007522583008,-23.34273910522461,-58.84965896606445,-7.741311073303223,-11.784406661987305,-47.343421936035156,-37.68803405761719,52.97699737548828,1.636945366859436,-12.260677337646484,-37.481651306152344,-39.537071228027344,-28.84233283996582,26.19010353088379,-2.687858819961548,-3.1735434532165527,15.30911636352539,38.51561737060547,-40.65920639038086,23.66360092163086,1.6423975229263306,-15.77985668182373,-21.682300567626953,9.353277206420898,-53.914146423339844,-5.813015460968018,24.27245330810547,-1.9989382028579712,14.233396530151367,-59.610382080078125,-21.84423065185547,34.63010025024414,45.645957946777344,-53.6556510925293,-4.900370121002197,-23.239173889160156,23.732017517089844,-15.872066497802734,-53.70393371582031,8.691800117492676,-32.31784439086914,-7.4118475914001465,9.763089179992676,-31.34717559814453,-5.115843296051025,11.695038795471191,-5.947348594665527,-15.909852027893066,-6.89945125579834,12.487902641296387,49.792083740234375,21.569421768188477,-50.89408493041992,-33.88364791870117,36.58232498168945,46.92987823486328,-26.019304275512695,-19.576072692871094,-19.895841598510742,-22.590709686279297,-30.95061492919922,-5.861327171325684,-47.25440216064453,-6.972654342651367,-22.573652267456055,-15.413734436035156,-22.91031265258789,-4.742331504821777,-27.78357696533203,-51.30016326904297,22.944089889526367,8.12254810333252,-22.951141357421875,11.602022171020508,21.190412521362305,5.3006110191345215,-44.33778762817383,23.371103286743164,51.86518478393555,-58.92470932006836,4.249289035797119,14.203629493713379,33.4465446472168,-31.064334869384766,27.043163299560547,-46.39221954345703,-10.719731330871582,-45.10085678100586,23.103355407714844,-37.40846633911133,-28.9870662689209,4.928944110870361,-48.328155517578125,2.2482826709747314,27.281230926513672,-27.40673065185547,17.0859432220459,8.710772514343262,14.334819793701172,22.370309829711914,3.4333112239837646,-35.533653259277344,-10.91004467010498,11.608896255493164,-30.58405303955078,-26.706823348999023,23.51266860961914,-14.117775917053223,7.4225945472717285,-51.58527374267578,-55.1312141418457,-48.18873977661133,-1.8728570938110352,-6.800495624542236,-14.30647087097168,-33.51194381713867,19.123998641967773,2.408313274383545,48.64457321166992,-20.352197647094727,0.03418672829866409,9.257225036621094,-23.66661834716797,-20.51284408569336,-11.962786674499512,-34.12588882446289,4.838078498840332,2.058892250061035,-8.901427268981934,-34.25566482543945,24.95412826538086,11.974104881286621,-36.16054153442383,-3.00060772895813,-21.362653732299805,18.065397262573242,48.871238708496094,18.44579315185547,11.710570335388184,35.77607727050781,5.937288284301758,-19.003833770751953,12.61831283569336,8.100848197937012,-15.625054359436035,-5.626065731048584,8.716464042663574,34.97779846191406,-34.04454803466797,4.625868320465088,8.213912963867188,-6.975592613220215,2.721451759338379,0.4953005313873291,17.150821685791016,-12.442376136779785,-6.893870830535889,19.49867820739746,-22.062641143798828,4.98257303237915,-22.427804946899414,9.653583526611328,-52.85296630859375,-17.623992919921875,13.028762817382812,-31.673227310180664,-10.556039810180664,1.5159521102905273,-11.847549438476562,-0.233900249004364,-47.886817932128906,5.391829013824463,-42.650108337402344,29.70368766784668,-19.365636825561523,0.42927220463752747,-12.9009370803833,-31.963220596313477,30.83306884765625,8.26883316040039,9.831330299377441,-11.440547943115234,-3.71988844871521,-60.656742095947266,35.10923385620117,-41.00320816040039,0.18092715740203857,11.418106079101562,12.42613697052002,16.220266342163086,-14.384477615356445,-17.86459732055664,-19.662273406982422,-38.8916130065918,-10.675374031066895,-1.885348916053772,-46.465492248535156,-13.339828491210938,-37.12581253051758,-14.479317665100098,11.527929306030273,7.457221031188965,-33.067359924316406,-2.7053565979003906,-52.194007873535156,-18.15035629272461,-48.51583480834961,19.15107536315918,8.526091575622559,21.768672943115234,-29.59783363342285,-29.962940216064453,-10.459726333618164,-27.486356735229492,51.67189025878906,-60.403892517089844,-28.82976722717285,-29.666074752807617,42.60683822631836,-43.62181854248047,-2.111846446990967,-48.832481384277344,-14.040764808654785,16.83379364013672,8.311688423156738,10.862805366516113,-46.480079650878906,5.286718845367432,-15.783469200134277,-31.363269805908203,25.69183921813965,13.015314102172852,8.597253799438477,-7.379427909851074,-48.07109451293945,-25.995027542114258,-11.278573036193848,27.791833877563477,8.581789016723633,17.715559005737305,-26.25094223022461,0.2464440017938614,-12.581314086914062,-3.3523426055908203,3.2923691272735596,-3.5899810791015625,-47.003726959228516,46.67192459106445,-52.07773208618164,-38.7256965637207,-4.820456504821777,-2.82226300239563,-16.80363655090332,12.571333885192871,27.49064064025879,-18.247032165527344,-13.578253746032715,0.11763852834701538,15.395214080810547,34.18893814086914,11.250773429870605,15.187176704406738,49.75602340698242,9.381461143493652,-46.44282913208008,-42.691307067871094,4.353623390197754,6.234057426452637,-55.53608703613281,19.586381912231445,-1.0243031978607178,-49.497947692871094,-31.70064353942871,-1.4194214344024658,11.3778657913208,-7.2613606452941895,0.3400363028049469,4.041024684906006,11.864553451538086,-16.32570457458496,17.88399887084961,48.1288948059082,-49.82737731933594,3.0538532733917236,16.072120666503906,-28.625518798828125,0.14922413229942322,-23.22277069091797,-59.97993469238281,-61.4613151550293,-44.485145568847656,-15.184508323669434,11.504938125610352,13.03945541381836,-21.665008544921875,-24.864315032958984,4.202698707580566,51.177154541015625,-36.957000732421875,-43.66041564941406,-8.100903511047363,1.2762233018875122,-11.566367149353027,27.456703186035156,-15.520638465881348,-37.98849868774414,8.793749809265137,-56.806068420410156,4.035161018371582,-31.367305755615234,34.82757568359375,-47.61896896362305,33.194862365722656,-7.545530796051025,29.986921310424805,51.06401443481445,13.560529708862305,14.355379104614258,-19.486783981323242,-63.09038162231445,14.360573768615723,6.1844072341918945,16.891845703125,15.502138137817383,23.326169967651367,33.514957427978516,-53.651607513427734,14.497126579284668,2.767075777053833,-49.144935607910156,-50.87309265136719,29.789493560791016,-25.520009994506836,-28.176050186157227,-25.744720458984375,-1.139485239982605,-23.10204315185547,-4.014465808868408,-47.167633056640625,0.15921728312969208,-13.536101341247559,-0.28569817543029785,-29.0540771484375,-39.60038375854492,-4.576037406921387,-7.928394317626953,22.16362953186035,-11.656569480895996,-15.05189323425293,-9.499198913574219,-24.23348617553711,36.16001892089844,-26.649459838867188,-43.81863021850586,17.373945236206055,-55.12329864501953,-22.087440490722656,-24.366594314575195,48.229827880859375,-37.010589599609375,-29.57189178466797,-15.766219139099121,22.151350021362305,-33.2771110534668,-40.70478057861328,-0.004618045408278704,10.928378105163574,-0.07051373273134232,1.5042130947113037,-7.0714521408081055,-53.82238006591797,-1.3468029499053955,54.0393180847168,-5.737551689147949,-4.798289775848389,-1.426138162612915,-16.65349006652832,-22.503732681274414,21.19432258605957,12.540385246276855,36.9056510925293,-21.54141616821289,-1.4724361896514893,19.352312088012695,25.53006935119629,-48.881568908691406,47.74696350097656,5.54245662689209,37.72150421142578,-0.713109016418457,-28.82729148864746,-28.430835723876953,-21.583568572998047,-25.952478408813477,37.074134826660156,31.435222625732422,34.17051315307617,-19.633525848388672,1.294238567352295,-33.906776428222656,-43.48609924316406,22.031057357788086,3.930795192718506,-40.49906539916992,46.899227142333984,-20.264745712280273,23.393831253051758,27.41347312927246,-1.8148373365402222,14.347472190856934,-9.414863586425781,13.241556167602539,-35.77228546142578,63.011207580566406,30.936670303344727,-58.11357879638672,-32.37905502319336,-18.810348510742188,-56.624629974365234,-39.993709564208984,-32.369384765625,-34.36616516113281,20.40108299255371,3.5684962272644043,-38.47475814819336,-0.19957135617733002,7.184039115905762,-17.65260887145996,-1.209815263748169,-15.42043685913086,-36.48796844482422,-34.67805480957031,-40.50244140625,-41.38125991821289,19.537879943847656,-53.21751403808594,-24.939443588256836,-49.20726776123047,27.909788131713867,-5.692514419555664,16.518035888671875,3.741358757019043,-33.37790298461914,-41.44325637817383,-20.0394344329834,46.655921936035156,-27.85155487060547,0.3971836268901825,32.74979019165039,12.768138885498047,13.05776309967041,-15.784135818481445,-35.77220916748047,-26.39493751525879,-51.394622802734375,-36.11627197265625,17.851593017578125,0.3264450132846832,-7.651411533355713,-19.366708755493164,8.584077835083008,40.617889404296875,-15.918407440185547,-52.54135513305664,-39.558841705322266,20.57953643798828,-31.23410415649414,9.780058860778809,-44.739933013916016,24.681427001953125,34.988624572753906,2.3095691204071045,-21.988325119018555,7.135316371917725,2.570075273513794,-36.381778717041016,51.98002624511719,-33.74650955200195,-2.7698376178741455,50.687225341796875,9.98539924621582,-6.32206916809082,5.056044578552246,-33.52425765991211,-2.594194173812866,10.816012382507324,-54.48439407348633,-16.44095230102539,2.576359987258911,6.72996711730957,14.680973052978516,-3.6023569107055664,-45.40800476074219,11.432950019836426,18.171133041381836,31.15243148803711,49.8337516784668,48.78559875488281,17.12129020690918,-7.229274272918701,-48.721012115478516,23.775066375732422,-29.94867706298828,22.43135643005371,11.419313430786133,5.772433757781982,9.284910202026367,-18.21347427368164,-21.489852905273438,13.572010040283203,-16.193763732910156,0.5176754593849182,21.166889190673828,7.931121826171875,-31.981706619262695,-8.669281005859375,3.1624107360839844,37.69358444213867,25.746673583984375,3.873399019241333,21.564809799194336,-35.36935806274414,-21.59726333618164,-3.7929651737213135,-55.3305778503418,29.966094970703125,5.783363342285156,-16.283823013305664,-0.4503157436847687,-22.823970794677734,14.510416030883789,31.979591369628906,-40.72004318237305,0.7339494824409485,-14.379501342773438,-23.519746780395508,12.716752052307129,-22.81241798400879,-41.71518325805664,-60.744876861572266,5.9327921867370605,17.21759796142578,-15.558242797851562,-31.259660720825195,-12.806510925292969,6.2876715660095215,26.497594833374023,-10.492097854614258,2.4760138988494873,48.328189849853516,-8.773449897766113,43.541072845458984,-40.6912727355957,38.54383850097656,27.44413948059082,-4.446023464202881,-6.784375190734863,31.843936920166016,-3.8987998962402344,-0.9421405792236328,53.222801208496094,30.659423828125,-32.978904724121094,36.15959930419922,-57.85667037963867,-52.659725189208984,45.674983978271484,-2.915860176086426,18.337387084960938,-22.81105613708496,23.89192771911621,18.14975357055664,-23.238893508911133,15.79552173614502,-4.754530906677246,30.532773971557617,-61.89462661743164,12.63942813873291,15.082700729370117,40.75544357299805,21.645977020263672,-23.214950561523438,17.316579818725586,4.218606472015381,12.616971969604492,9.997636795043945,-0.1871681660413742,18.670766830444336,21.823711395263672,14.557738304138184,-54.059600830078125,11.600399017333984,31.177486419677734,15.458312034606934,41.61259841918945,-45.86642074584961,41.53855895996094,-9.262187957763672,34.77452087402344,14.914843559265137,-17.098766326904297,-21.69129753112793,-11.600003242492676,-4.274872303009033,-28.875625610351562,-27.353633880615234,-14.424884796142578,-11.701676368713379,8.396344184875488,-34.49263000488281,-38.97285079956055,3.6325998306274414,27.355224609375,-16.341493606567383,7.47296667098999,-31.105329513549805,-42.35540771484375,-36.41122817993164,24.387784957885742,10.276481628417969,-35.75641632080078,35.8868408203125,-12.287961959838867,-20.797462463378906,17.219148635864258,-11.397564888000488,19.975845336914062,-47.39167404174805,-51.199256896972656,29.881589889526367,24.762859344482422,16.480854034423828,39.062721252441406,-15.382999420166016,16.97562599182129,9.139089584350586,-33.60467529296875,-3.100259780883789,-15.468011856079102,21.97232437133789,-33.77958297729492,12.277748107910156,38.19231414794922,-45.674049377441406,-21.52336883544922,14.297986030578613,-7.770901679992676,9.472748756408691,65.38337707519531,28.17462158203125,30.993919372558594,-60.49518585205078,31.188077926635742,43.34357452392578,14.874556541442871,-1.6653552055358887,-34.31937789916992,-21.25353240966797,-11.612101554870605,41.4184455871582,-51.001373291015625,26.545366287231445,-30.686819076538086,-44.96097183227539,-1.8989325761795044,49.40500259399414,7.394450664520264,-47.7810173034668,-35.08301544189453,32.37458419799805,-36.10264205932617,50.71620559692383,-7.472346782684326,-26.1580867767334,-36.13893127441406,10.60222339630127,-2.6129724979400635,-7.249999523162842,-3.349489450454712,-21.681285858154297,6.131134033203125,-33.045501708984375,-10.951300621032715,42.39008331298828,-32.60694885253906,-54.73841857910156,-9.900019645690918,-27.534862518310547,25.692495346069336,-10.447311401367188,17.034835815429688,5.488437652587891,13.760479927062988,-21.859418869018555,-4.57702112197876,-11.589873313903809,9.04114055633545,-7.8739848136901855,-13.207498550415039,-3.467792510986328,-23.901552200317383,35.30223846435547,-13.579024314880371,-59.95229721069336,-21.453521728515625,13.015750885009766,-28.80733871459961,-37.08436584472656,37.95857620239258,33.9876823425293,-41.37663650512695,5.1475958824157715,-19.410863876342773,24.907052993774414,-31.46561622619629,31.704423904418945,12.678821563720703,29.474403381347656,6.794835567474365,14.357680320739746,27.03920555114746,6.512665748596191,-10.402729988098145,13.24376106262207,-48.731712341308594,-5.669056415557861,-19.364124298095703,17.868064880371094,-12.08362102508545,7.441591739654541,-26.807233810424805,17.453887939453125,6.247339725494385,21.919513702392578,-22.389190673828125,-2.6356260776519775,-14.267294883728027,43.86811065673828,5.076323986053467,34.38479995727539,-17.707836151123047,-48.33918380737305,-54.46186447143555,-24.144329071044922,-33.279991149902344,11.707889556884766,-45.44156265258789,47.83047103881836,1.5179272890090942,36.216835021972656,0.9053663015365601,-12.55455207824707,4.254549503326416,-10.126935005187988,-20.93717384338379,-46.18893814086914,-28.769683837890625,-38.87159729003906,7.953469753265381,14.19494342803955,-33.18694305419922,6.90659236907959,-7.068037509918213,-34.3412971496582,18.099376678466797,-20.718704223632812,-15.103926658630371,-46.752811431884766,-4.8599958419799805,-45.71503448486328,2.746187925338745,-54.03285598754883,34.15031814575195,2.7068283557891846,-56.91976547241211,-44.50124740600586,8.926639556884766,-23.024141311645508,16.35988998413086,4.815062046051025,38.156402587890625,-5.791454315185547,27.691856384277344,-44.157508850097656,-44.36869812011719,3.9536125659942627,7.665876388549805,36.0882682800293,6.359286785125732,13.260004043579102,30.6643123626709,-48.227577209472656,19.897981643676758,-11.578198432922363,5.925004005432129,-48.76943588256836,-56.155696868896484,52.9938850402832,-54.10762405395508,28.42742347717285,7.681267261505127,9.218385696411133,-10.731489181518555,-41.58983612060547,43.165245056152344,-20.266984939575195,-12.334063529968262,-17.286428451538086,-42.093162536621094,9.76402759552002,7.064206600189209,9.901214599609375,-2.20821475982666,-21.91476821899414,-29.025514602661133,-18.213584899902344,-9.164960861206055,-20.0172061920166,-24.0771541595459,41.05384063720703,-45.94765090942383,-21.235980987548828,-36.377689361572266,-56.299068450927734,-28.246551513671875,-36.12435531616211,-5.894559383392334,-47.64087677001953,31.83733558654785,18.078834533691406,-8.860255241394043,30.773880004882812,-16.06210708618164,-6.439947128295898,4.739683151245117,5.599558353424072,-33.03145980834961,-24.013965606689453,0.6889147758483887,-14.524161338806152,-10.507067680358887,-9.563243865966797,25.687711715698242,3.577751874923706,12.061331748962402,15.853426933288574,-42.22628402709961,-6.662140846252441,-11.516778945922852,22.758052825927734,-10.779086112976074,-57.41634750366211,-28.78472137451172,2.909327507019043,-24.776674270629883,5.375240802764893,-41.02494812011719,-35.580867767333984,-58.88325881958008,53.79033660888672,-5.541767597198486,18.024877548217773,-43.274295806884766,-11.40555191040039,-11.560100555419922,27.454572677612305,-30.025182723999023,8.633034706115723,15.634672164916992,-14.125205039978027,34.506309509277344,-28.744861602783203,-32.241783142089844,42.647403717041016,-50.8249397277832,19.53591537475586,16.81818962097168,37.46992111206055,51.29355239868164,-53.362606048583984,52.68094253540039,12.38922119140625,-14.835554122924805,-29.00040626525879,-0.7706143856048584,-50.21721267700195,22.597915649414062,-13.656692504882812,-25.055009841918945,-22.795040130615234,-51.54934310913086,-49.963314056396484,11.411280632019043,7.877752304077148,-24.886510848999023,-23.967227935791016,-9.675802230834961,-10.511026382446289,-59.08808135986328,-9.022001266479492,19.913496017456055,-57.23321533203125,9.294699668884277,53.45377731323242,-51.542972564697266,34.42866897583008,-2.08744478225708,-49.80485153198242,-25.93605613708496,18.89160919189453,-22.419767379760742,-24.34896469116211,39.36083221435547,-11.00969409942627,-8.710289001464844,3.205512285232544,30.114639282226562,18.58271026611328,-25.123613357543945,-7.020243167877197,-16.419044494628906,-17.21085548400879,2.0042026042938232,30.67447853088379,26.841182708740234,40.54468536376953,-35.75020217895508,6.424681186676025,8.174192428588867,-11.186511993408203,-0.7264044880867004,27.895601272583008,3.4896085262298584,15.027933120727539,10.915329933166504,32.92008972167969,37.36526107788086,-47.55409622192383,11.487195014953613,14.305764198303223,-15.658549308776855,-25.23088264465332,-36.08671569824219,21.085439682006836,26.56064796447754,12.572639465332031,-50.24125671386719,-4.875307559967041,-63.514888763427734,-35.5513801574707,-30.509567260742188,45.348182678222656,-15.238585472106934,-42.61273193359375,-12.885673522949219,-25.776430130004883,-18.723079681396484,35.836299896240234,51.87360763549805,12.422464370727539,23.962886810302734,-52.11617660522461,-0.3060355484485626,0.6976955533027649,-35.89775466918945,-22.312435150146484,-18.13165283203125,17.390323638916016,-14.93741226196289,16.987642288208008,-12.110980987548828,21.16375732421875,-16.492095947265625,-8.602063179016113,-21.897220611572266,43.89809799194336,-21.852476119995117,-1.825939416885376,-45.09865188598633,-44.606536865234375,-2.4657962322235107,-38.76252746582031,17.670949935913086,23.261287689208984,52.807044982910156,-26.993505477905273,35.66130447387695,5.610569477081299,-6.342750072479248,-46.34957504272461,8.660999298095703,17.777193069458008,-19.852432250976562,11.4725341796875,20.147937774658203,-24.164005279541016,21.687339782714844,37.64716720581055,21.814010620117188,-18.529836654663086,-12.623092651367188,-35.84650421142578,10.664958953857422,-52.722747802734375,-31.721086502075195,-9.015816688537598,38.365509033203125,-48.204105377197266,24.85388946533203,-13.333844184875488,-15.295042991638184,-18.981264114379883,18.760080337524414,-2.8205013275146484,-4.843798637390137,-10.944452285766602,-63.62043380737305,16.205373764038086,-37.03433609008789,7.032444477081299,21.681100845336914,-14.536691665649414,31.928020477294922,51.9576530456543,-8.409526824951172,28.685169219970703,12.807640075683594,31.246511459350586,-56.55332946777344,12.46638298034668,10.746465682983398,0.428832471370697,-4.452459335327148,1.5722556114196777,2.3358209133148193,-41.59109878540039,-17.036375045776367,-14.475760459899902,3.760317087173462,1.191429615020752,9.550782203674316,-18.66033363342285,-14.127562522888184,2.5683364868164062,-12.36882495880127,51.17771530151367,-14.209962844848633,27.342721939086914,10.716938972473145,-34.46931076049805,10.455331802368164,-14.344707489013672,-30.581459045410156,-17.030197143554688,-4.061880111694336,-1.4092830419540405,-49.254451751708984,7.503662586212158,15.494863510131836,-37.17464065551758,-52.72787857055664,-63.82748031616211,9.951427459716797,-16.449647903442383,-6.210962772369385,32.18007278442383,-14.890044212341309,53.61355972290039,-10.796492576599121,14.57166862487793,-27.611116409301758,11.34019947052002,-18.80360984802246,23.306001663208008,14.072114944458008,5.069691181182861,-18.869796752929688,-17.033655166625977,-6.902162551879883,-44.92464065551758,23.324554443359375,-14.386797904968262,-16.580881118774414,-21.97962188720703,6.369808197021484,2.501056432723999,-46.556514739990234,-4.754786491394043,23.282711029052734,27.634292602539062,32.52396774291992,27.380962371826172,-6.178690433502197,38.00106430053711,-13.039039611816406,-20.536235809326172,-25.996427536010742,-33.37965393066406,-10.21870231628418,-8.18354320526123,31.013879776000977,-53.53278732299805,-9.253390312194824,-9.161876678466797,-1.1810293197631836,-2.4626693725585938,-7.158509254455566,9.29454231262207,-47.023651123046875,-14.77029800415039,18.638933181762695,68.39057922363281,1.3525946140289307,27.71160888671875,-9.362777709960938,23.889404296875,13.196683883666992,-11.167046546936035,22.590139389038086,17.016996383666992,54.61281204223633,-11.314403533935547,12.0065336227417,30.7220401763916,-4.101232051849365,-44.11640548706055,5.491363525390625,6.371191024780273,19.8504638671875,-9.553936004638672,-1.3544284105300903,-44.3783073425293,22.13260841369629,6.8112945556640625,-10.45564079284668,-45.106224060058594,18.7446231842041,-14.724651336669922,-5.920811176300049,33.97087860107422,-35.8817138671875,13.447561264038086,-47.6722297668457,-41.586830139160156,15.45986270904541,26.97406578063965,-8.57851791381836,-11.571878433227539,5.273977279663086,-3.034069061279297,-8.219467163085938,-20.21120834350586,30.166440963745117,26.679912567138672,-48.05046463012695,13.581883430480957,12.244162559509277,-47.179691314697266,-9.489363670349121,20.959121704101562,-42.505802154541016,-19.50322151184082,23.09299087524414,-46.346954345703125,-25.908092498779297,17.373003005981445,12.219108581542969,-12.205310821533203,-33.3603630065918,27.184810638427734,9.0044584274292,-25.980342864990234,30.70120620727539,24.86488914489746,-2.0163321495056152,7.599485874176025,16.661657333374023,17.13278579711914,37.450382232666016,-15.71086597442627,11.397745132446289,8.837896347045898,-56.15716552734375,-52.417823791503906,15.255448341369629,23.42925453186035,-49.96552658081055,-15.928787231445312,42.064666748046875,2.156125545501709,13.166828155517578,-8.719972610473633,40.35938262939453,52.572044372558594,27.447837829589844,-13.529609680175781,-25.16002655029297,1.2752797603607178,10.582778930664062,-38.89471435546875,4.559272289276123,22.35712432861328,-57.325435638427734,-18.28302001953125,-32.551536560058594,23.265947341918945,-55.84504699707031,44.241676330566406,25.735057830810547,16.49505615234375,45.32124710083008,16.83602523803711,12.990952491760254,-23.247785568237305,15.07275104522705,32.90865707397461,-27.150415420532227,35.72827911376953,-59.085975646972656,-0.1620079129934311,20.104726791381836,-6.49850606918335,-15.082599639892578,0.4548940360546112,-10.589664459228516,-14.552586555480957,-47.328678131103516,-24.494571685791016,-0.5590024590492249,37.59512710571289,4.566154956817627,-31.121103286743164,5.211660385131836,-43.57882308959961,-41.181671142578125,-43.10417175292969,-3.848282814025879,36.65934371948242,10.929075241088867,-21.402070999145508,-36.88461685180664,-12.064704895019531,14.197298049926758,-35.40873336791992,17.84046173095703,-26.41453742980957,-28.65846061706543,13.744126319885254,-35.596519470214844,-36.50436782836914,13.845247268676758,-26.13081169128418,20.141380310058594,-36.38836669921875,-10.838008880615234,5.93276309967041,6.422331809997559,21.881126403808594,-8.687801361083984,4.340263366699219,-45.2587776184082,33.889183044433594,-30.598968505859375,13.942842483520508,-32.911460876464844,-25.217626571655273,7.289973258972168,21.164264678955078,21.643203735351562,-52.75027847290039,-10.223878860473633,25.89874267578125,34.671356201171875,56.56230545043945,13.534753799438477,2.938624858856201,-12.101655960083008,-39.54146194458008,-53.17417526245117,13.004876136779785,32.67845916748047,4.284352779388428,-20.870424270629883,9.294503211975098,53.101802825927734,-50.41592788696289,17.11301040649414,-5.114933967590332,-61.50543212890625,-54.518585205078125,-8.988642692565918,26.03938102722168,-32.93586730957031,-23.031612396240234,22.907012939453125,0.27116659283638,42.772705078125,-6.694055080413818,-4.643507480621338,31.70560646057129,-20.229578018188477,-19.56275749206543,18.74765968322754,-5.456540584564209,17.279293060302734,-6.301980495452881,4.96705961227417,16.7886905670166,10.434219360351562,-44.25717544555664,-17.59735107421875,-23.8479061126709,-5.782717227935791,-3.796977996826172,-4.378623008728027,-25.04110336303711,-2.492480516433716,-3.7540712356567383,-9.162432670593262,-15.318922996520996,-13.463115692138672,-18.108543395996094,23.214109420776367,-26.21017074584961,-20.41123390197754,-4.602059841156006,-21.753238677978516,-9.57773494720459,-27.97463607788086,-6.722482204437256,-49.73188018798828,50.66688919067383,20.21968650817871,10.75027084350586,-0.7291201949119568,-13.255517959594727,-26.99789047241211,-10.516305923461914,-1.0883910655975342,-20.488431930541992,-20.92157554626465,11.01810073852539,21.644681930541992,24.821266174316406,30.4641170501709,28.437339782714844,-52.19110107421875,38.14702224731445,18.653345108032227,1.218433141708374,-33.66680145263672,-10.470415115356445,-36.51106262207031,-25.778913497924805,-27.784229278564453,1.521170735359192,12.573184967041016,-25.20471954345703,10.240955352783203,10.897377014160156,5.090460777282715,17.212810516357422,30.245302200317383,-1.89412522315979,4.491533279418945,-4.753139019012451,-8.974481582641602,48.134483337402344,40.04218673706055,-16.349075317382812,2.2245280742645264,-3.5914018154144287,-20.21759033203125,-17.56905174255371,-8.840299606323242,-2.905177593231201,-3.786508560180664,-41.204071044921875,-1.8168056011199951,37.590232849121094,-24.962329864501953,-48.46544647216797,-28.22896957397461,9.37196159362793,10.661685943603516,35.64263916015625,23.64098358154297,-3.0598511695861816,27.072425842285156,-65.69493865966797,-57.41956329345703,-23.408313751220703,-17.024335861206055,-15.12022876739502,36.87685775756836,-24.331871032714844,2.2416036128997803,27.200258255004883,-14.484928131103516,24.332509994506836,2.309696674346924,-44.621192932128906,16.60775375366211,26.886920928955078,-9.961997985839844,21.254531860351562,-39.58391571044922,29.391687393188477,30.43021583557129,0.9672350883483887,52.77841567993164,-1.490156888961792,-13.530024528503418,27.67690658569336,-11.526861190795898,-8.720549583435059,-7.083349704742432,9.861348152160645,22.634857177734375,-14.875149726867676,69.50959777832031,6.996400833129883,17.65639877319336,-28.884225845336914,11.134100914001465,1.4580714702606201,0.22075967490673065,-17.897287368774414,43.164188385009766,28.738290786743164,20.199481964111328,-26.645219802856445,-3.6038711071014404,-13.6697359085083,13.399151802062988,-53.74270248413086,-45.117610931396484,-12.028969764709473,-1.1881732940673828,-4.913865089416504,-40.09337615966797,-34.63470458984375,-50.98244094848633,-54.966148376464844,-5.104043006896973,28.17702293395996,-38.812259674072266,-26.80386734008789,10.042936325073242,11.762049674987793,-30.035747528076172,34.00634765625,-41.740360260009766,15.880374908447266,57.92021942138672,-1.5515613555908203,7.640000820159912,3.0901243686676025,31.825847625732422,10.945608139038086,30.590742111206055,11.564504623413086,5.876980304718018,-29.87724494934082,35.97068405151367,23.769189834594727,-55.10355758666992,-1.2452986240386963,29.66983413696289,-54.08124923706055,-6.089446067810059,-29.684484481811523,56.97669219970703,-13.230911254882812,-14.11789321899414,19.0853271484375,17.608854293823242,30.16446876525879,28.719194412231445,-26.686542510986328,-0.976283609867096,26.25035285949707,-13.334336280822754,-31.411865234375,-14.286895751953125,-6.145220756530762,49.038291931152344,-6.275566101074219,-19.584997177124023,23.21827507019043,33.69068908691406,0.057497553527355194,12.344542503356934,-44.743621826171875,12.538475036621094,-13.677081108093262,-30.243610382080078,-34.007511138916016,-13.437047958374023,4.0907206535339355,24.14461326599121,-53.33030700683594,-30.32328224182129,-31.037843704223633,33.22822570800781,-23.9315185546875,4.213035583496094,-19.228744506835938,4.324014663696289,-60.78152847290039,18.979534149169922,20.075725555419922,-0.17321281135082245,12.180351257324219,-19.431447982788086,-5.356801986694336,-18.436491012573242,7.524141311645508,-1.7700698375701904,1.0630958080291748,5.137749195098877,-12.756386756896973,5.484751224517822,45.21232604980469,-3.5439186096191406,-6.379161834716797,-35.15721893310547,-21.141382217407227,-28.14737319946289,-28.369667053222656,-44.6127815246582,17.701396942138672,-38.46101760864258,24.446014404296875,19.48892593383789,-61.20801544189453,1.652485966682434,-58.399513244628906,5.006464958190918,2.3681209087371826,11.393228530883789,-50.92608642578125,-26.881147384643555,-23.116483688354492,-50.16766357421875,17.369482040405273,17.99765968322754,-17.363304138183594,-18.149866104125977,1.914631724357605,-18.069360733032227,-1.241999626159668,-24.9455509185791,14.332818031311035,-16.798824310302734,5.862588405609131,23.868976593017578,20.95655632019043,-0.7140302658081055,33.01518630981445,-10.428220748901367,19.911846160888672,-14.708434104919434,2.340914726257324,7.823502063751221,-20.15616798400879,-41.069252014160156,-26.313003540039062,10.614927291870117,-39.62632369995117,12.564738273620605,-47.265716552734375,25.311336517333984,1.5862177610397339,52.7294921875,5.091748237609863,-13.982078552246094,9.398240089416504,1.9303250312805176,12.800352096557617,31.843250274658203,32.726253509521484,-0.2884717285633087,-45.068336486816406,6.298953056335449,-30.28619384765625,-2.934293746948242,22.605632781982422,11.070013999938965,19.618064880371094,-28.90656089782715,-7.240534782409668,19.712570190429688,12.514046669006348,12.65654182434082,-45.547508239746094,-19.746017456054688,56.61898422241211,32.674957275390625,4.635780334472656,-24.558849334716797,27.677963256835938,6.1481428146362305,8.73868465423584,17.01609992980957,-8.21672534942627,-1.1358778476715088,-2.8356151580810547,1.0414907932281494,25.45763397216797,-20.452795028686523,-41.51345443725586,20.764833450317383,-42.45263671875,-23.50358772277832,-10.693737983703613,16.387754440307617,-20.989479064941406,-25.555957794189453,-18.437437057495117,6.529449939727783,23.050189971923828,-51.221275329589844,48.812164306640625,-8.532136917114258,7.414956092834473,-15.718153953552246,-1.6217432022094727,38.61857986450195,-12.074715614318848,-16.160947799682617,51.397064208984375,-2.1477878093719482,-25.575056076049805,1.927935004234314,4.1031622886657715,-46.905479431152344,30.93445587158203,-52.02019500732422,-19.110334396362305,16.7369384765625,-45.137088775634766,-19.790386199951172,-57.844547271728516,-22.80367660522461,-37.82436752319336,40.31146240234375,40.53752517700195,1.0106902122497559,-10.251769065856934,4.037034034729004,44.148983001708984,-32.285255432128906,-20.765884399414062,-34.74675369262695,-17.278955459594727,32.48244857788086,40.1404914855957,2.8228719234466553,-21.04636001586914,-2.1416895389556885,-19.39225959777832,-14.078039169311523,-46.11194610595703,-49.34684371948242,30.846290588378906,10.219599723815918,-18.21550941467285,1.7159532308578491,4.312580585479736,17.283666610717773,2.714343786239624,10.618388175964355,30.15739631652832,-20.28260612487793,38.92485809326172,-39.32470703125,-22.902278900146484,-17.995595932006836,29.470054626464844,24.528493881225586,-36.6796760559082,49.680145263671875,-9.85146713256836,-19.579601287841797,26.05901527404785,22.7303466796875,-1.9324380159378052,-14.341525077819824,13.070823669433594,4.576085567474365,-19.763811111450195,18.880382537841797,1.109468698501587,12.16943073272705,-64.31871795654297,11.590555191040039,-23.149187088012695,24.065336227416992,-63.460968017578125,-28.848230361938477,-13.376668930053711,-40.88164520263672,-29.470684051513672,-17.729116439819336,-33.23911666870117,-47.15791320800781,-33.931190490722656,-48.01831817626953,18.055194854736328,23.304847717285156,-53.771392822265625,4.421737194061279,-17.356849670410156,-12.564107894897461,-23.02762794494629,3.8874709606170654,46.04011535644531,11.69720458984375,-10.508429527282715,-7.79599666595459,33.69478988647461,1.7283800840377808,-11.439432144165039,-21.656925201416016,-33.411136627197266,-3.7797927856445312,26.205568313598633,3.613729476928711,39.49228286743164,17.7899169921875,-21.010818481445312,-28.12543487548828,-39.689239501953125,-48.95343017578125,-18.664478302001953,-32.85918426513672,6.955397605895996,-33.77162170410156,0.45955371856689453,7.50672721862793,19.52003288269043,13.319016456604004,-23.261024475097656,-2.6751720905303955,-8.656791687011719,16.825000762939453,19.794965744018555,-34.80732345581055,-27.365209579467773,6.905414581298828,52.78725051879883,-10.847222328186035,15.496283531188965,21.564739227294922,33.52874755859375,56.64170837402344,52.310420989990234,48.45772171020508,1.486762523651123,7.270448684692383,42.188499450683594,-28.756328582763672,-6.612475395202637,0.26763948798179626,-39.186885833740234,-2.6945364475250244,12.478449821472168,-32.26102066040039,-7.79086446762085,-42.445316314697266,-24.37671661376953,-6.546408653259277,-10.580371856689453,-2.5409905910491943,-3.819218397140503,28.403514862060547,6.7356133460998535,13.021425247192383,2.31156849861145,13.959027290344238,-28.247774124145508,-14.29951286315918,37.3430061340332,-34.143775939941406,11.617020606994629,-44.50391387939453,10.266584396362305,-1.6359754800796509,-18.950456619262695,8.377700805664062,10.724031448364258,-29.156505584716797,9.379454612731934,-15.942079544067383,-38.87394714355469,-62.97199249267578,17.218835830688477,12.280879974365234,-32.03468704223633,62.922279357910156,5.608983516693115,-34.07101058959961,-17.88422966003418,-41.31962966918945,-31.725961685180664,-29.152490615844727,20.0461483001709,-4.048991680145264,1.7841209173202515,-60.002681732177734,-29.95238494873047,43.89687728881836,20.364219665527344,4.300907135009766,3.917916774749756,-33.88996887207031,-18.6390438079834,-56.29088592529297,-21.859729766845703,-1.9041638374328613,38.38017272949219,23.587703704833984,-24.750856399536133,34.23232650756836,-25.7469425201416,-43.127986907958984,4.3569416999816895,0.31066030263900757,-6.238498687744141,-22.87464141845703,21.10965919494629,29.215211868286133,-27.365156173706055,-21.107519149780273,11.539790153503418,-22.17064094543457,26.621545791625977,15.42180347442627,-38.76634216308594,-20.81577491760254,13.13403606414795,-46.355499267578125,34.03772735595703,-11.342873573303223,12.615796089172363,-31.608156204223633,-14.905471801757812,-2.0717999935150146,-2.4779820442199707,22.610960006713867,2.745375871658325,-10.996614456176758,-38.723655700683594,8.159195899963379,43.1541862487793,-15.137537002563477,1.819109559059143,17.353925704956055,-65.96393585205078,-2.437729835510254,-24.819276809692383,5.304084300994873,-18.022111892700195,4.706883907318115,3.860858678817749,-26.949613571166992,-33.853328704833984,-30.720657348632812,-12.865707397460938,-6.819420337677002,33.88716506958008,-22.75662612915039,24.389612197875977,26.784029006958008,24.447174072265625,22.4925594329834,-21.496776580810547,21.110204696655273,-5.52972412109375,18.451969146728516,8.316056251525879,14.456435203552246,-20.124540328979492,36.51424789428711,-16.737903594970703,-31.29706382751465,26.206771850585938,-11.593607902526855,-8.533757209777832,10.603425979614258,21.4869441986084,-15.59595775604248,3.7766735553741455,22.957712173461914,10.826122283935547,3.5468549728393555,21.10310173034668,16.767061233520508,10.078129768371582,-23.484811782836914,36.571929931640625,-19.208158493041992,-23.74958610534668,10.605091094970703,-33.97903823852539,23.379812240600586,-19.97870445251465,66.48541259765625,28.055736541748047,66.32599639892578,0.4627934396266937,-4.322098255157471,-9.311166763305664,15.251383781433105,-0.47419503331184387,-13.103585243225098,-13.628954887390137,-8.712620735168457,-9.082233428955078,1.5364181995391846,-7.420586585998535,31.131620407104492,7.442538738250732,-43.724632263183594,46.9886360168457,-31.337013244628906,20.63001823425293,6.780264854431152,-48.43482971191406,-55.560543060302734,-51.39886474609375,37.60734176635742,-23.225440979003906,2.053487539291382,-53.0890007019043,21.737483978271484,-24.220693588256836,-39.2330436706543,2.4513986110687256,12.417196273803711,-18.2187442779541,-57.76723861694336,39.60017013549805,-16.765777587890625,-30.1434268951416,52.17125701904297,-22.605754852294922,-9.909144401550293,18.177066802978516,-33.33121871948242,22.27242088317871,20.215959548950195,-5.90134859085083,-38.19161605834961,-5.788296222686768,-8.110588073730469,8.27464771270752,3.1074442863464355,-33.14506530761719,28.169618606567383,-17.305870056152344,-16.753284454345703,-33.569480895996094,-7.775028705596924,11.235434532165527,-3.4168331623077393,10.508031845092773,4.018458843231201,6.993333339691162,33.75912094116211,6.18546199798584,27.946264266967773,-25.593791961669922,2.634336471557617,-56.26436996459961,-6.397318363189697,-3.9466025829315186,15.585244178771973,14.190874099731445,26.462722778320312,-18.35433578491211,-46.54692840576172,-25.95340347290039,-54.56748962402344,9.092110633850098,-11.777203559875488,30.5158634185791,-25.05016326904297,1.7600688934326172,-8.658058166503906,-30.511716842651367,-37.9837646484375,47.23451614379883,34.4757194519043,-51.12152862548828,-22.373600006103516,-15.545082092285156,4.019735336303711,-21.394733428955078,7.697444438934326,10.59056568145752,1.23477041721344,-9.694657325744629,-15.176319122314453,-21.51006507873535,26.640432357788086,-15.156818389892578,-55.0852165222168,-60.56570053100586,-6.171097755432129,-27.49929428100586,19.659069061279297,26.701627731323242,3.3881523609161377,-23.240642547607422,-41.512569427490234,6.438608169555664,-21.338796615600586,-10.615317344665527,12.801411628723145,-11.171960830688477,2.9623353481292725,3.981656312942505,-37.60960388183594,17.27353858947754,22.363239288330078,-30.106252670288086,21.09122657775879,2.299666166305542,3.179896354675293,-29.921396255493164,12.554896354675293,4.790006637573242,-12.839642524719238,-22.59157943725586,-34.86549758911133,-46.037017822265625,-7.643182277679443,-50.16477584838867,34.71848678588867,31.773042678833008,-3.5609586238861084,-19.41307258605957,-4.858626365661621,-8.95166301727295,-47.45974349975586,-39.35420227050781,-1.8442283868789673,43.00687789916992,4.612971782684326,-14.341333389282227,13.001630783081055,-10.221235275268555,-18.388879776000977,6.352584362030029,-0.9418006539344788,12.123370170593262,-46.410465240478516,-22.561601638793945,-29.646591186523438,14.30964469909668,12.9229097366333,35.88231658935547,23.272611618041992,16.960668563842773,-49.57233810424805,27.368701934814453,-4.290079593658447,25.421085357666016,1.667862057685852,-36.50063705444336,22.3155574798584,-26.34717559814453,9.013310432434082,-17.238819122314453,-51.11484146118164,-34.90243911743164,42.78898620605469,-4.442587852478027,17.23225975036621,11.554451942443848,9.518843650817871,-17.63446617126465,19.709470748901367,4.56535530090332,-50.432884216308594,13.891683578491211,4.510865211486816,-29.46515464782715,4.623380184173584,8.370448112487793,13.20105266571045,6.121493816375732,-11.006823539733887,-11.568524360656738,-6.991780757904053,-22.56018829345703,39.92927169799805,16.14330291748047,-30.777559280395508,33.06595993041992,22.47964096069336,40.597412109375,-14.081216812133789,-17.873456954956055,-12.227827072143555,-32.69342803955078,-11.709383010864258,-19.14315414428711,-6.812482833862305,-21.253881454467773,-31.81388282775879,5.335300922393799,-31.619382858276367,-31.12017822265625,12.558526992797852,-40.34274673461914,35.613487243652344,-16.71463394165039,-47.731361389160156,20.449636459350586,-46.64472961425781,-6.964350700378418,-46.86244583129883,-25.133682250976562,21.476118087768555,28.689064025878906,29.036785125732422,25.817644119262695,10.057147026062012,43.7947883605957,0.3214777410030365,3.8176326751708984,-24.951066970825195,-6.928182601928711,-17.717531204223633,-54.910125732421875,47.00078201293945,-53.52812194824219,-8.397482872009277,31.019245147705078,-17.67617416381836,8.584736824035645,-56.41033935546875,9.16312313079834,-45.63550567626953,25.121841430664062,27.01475715637207,35.78795623779297,45.97713851928711,5.710078239440918,13.135204315185547,-26.725479125976562,-18.033058166503906,5.271835803985596,20.78740692138672,-0.8211719393730164,-36.059696197509766,36.52143096923828,6.17587423324585,-18.334941864013672,-33.69101333618164,1.4409844875335693,8.43584156036377,-28.94659423828125,-13.792672157287598,-55.48542404174805,-37.300071716308594,24.104778289794922,-24.761991500854492,13.146008491516113,-45.70833206176758,27.924196243286133,-17.612489700317383,-14.362436294555664,-18.354324340820312,-34.64421081542969,44.81498718261719,12.378875732421875,-3.4334330558776855,22.21973991394043,-19.140907287597656,-54.92580795288086,-23.74065589904785,-10.0963716506958,-10.613818168640137,25.511144638061523,-13.962342262268066,8.862640380859375,-16.9749813079834,-27.766939163208008,4.866304397583008,-7.525030136108398,-29.517532348632812,25.228450775146484,18.638355255126953,4.650851249694824,18.647375106811523,-0.9689353704452515,22.272390365600586,11.30271053314209,-22.32861328125,-20.434648513793945,65.29790496826172,18.127304077148438,-20.001731872558594,-56.97915267944336,1.241584300994873,23.504901885986328,-58.59031295776367,4.373056411743164,-7.702581882476807,2.9831032752990723,12.87732982635498,25.272912979125977,17.53896713256836,-10.17300796508789,28.169410705566406,22.756010055541992,38.07050704956055,39.54756546020508,9.870589256286621,-18.50778579711914,6.876452922821045,-28.47013282775879,-37.24956130981445,-10.417854309082031,38.22396469116211,-42.05312728881836,3.2245450019836426,-41.858280181884766,-30.39625358581543,-2.430807113647461,-64.02561950683594,-6.72111177444458,-19.05820083618164,-29.62436294555664,5.613801956176758,-10.426409721374512,15.287931442260742,21.951946258544922,18.06434440612793,-16.417917251586914,0.2372392863035202,-51.04621505737305,10.570504188537598,-9.420967102050781,-23.730541229248047,-53.82085037231445,-7.023951053619385,17.14339828491211,-4.439511299133301,-6.189249038696289,-19.473085403442383,-36.02964782714844,-58.266693115234375,36.576873779296875,-10.408539772033691,9.56956672668457,31.92512321472168,-14.472899436950684,-30.021915435791016,17.364665985107422,-25.914411544799805,40.911712646484375,-6.810653209686279,-11.296598434448242,-8.062566757202148,-49.09219741821289,-2.5481061935424805,26.86393165588379,-21.098588943481445,-30.333234786987305,-1.6359162330627441,29.465656280517578,-28.56874656677246,27.24234390258789,39.80162048339844,-22.434938430786133,-10.03678035736084,22.06549072265625,-7.442953109741211,-9.116543769836426,19.45538902282715,32.81053924560547,15.823053359985352,6.411576271057129,2.865988254547119,28.660531997680664,1.3770464658737183,44.784515380859375,10.91651439666748,-49.647159576416016,44.28635025024414,-5.6926045417785645,-10.649820327758789,35.09762954711914,19.479372024536133,-14.365997314453125,28.244226455688477,-29.113561630249023,4.897242546081543,17.26736068725586,-17.640501022338867,-24.902729034423828,13.402139663696289,14.293279647827148,28.506309509277344,-35.78722381591797,-44.83224868774414,-37.28029251098633,6.144129276275635,-2.0635149478912354,39.49165725708008,-47.92681121826172,-55.69086456298828,-13.96239948272705,13.402861595153809,22.1817626953125,-50.25334548950195,-38.26669692993164,23.077104568481445,32.36954116821289,-23.810148239135742,-4.333291053771973,7.453272342681885,-13.488422393798828,10.626996040344238,-29.25708770751953,28.3466854095459,-6.224756240844727,11.486369132995605,-23.825958251953125,70.49830627441406,-43.94800567626953,-35.870941162109375,-34.89112091064453,-57.44504165649414,-49.81532287597656,25.266010284423828,-17.76506805419922,-5.818203926086426,-18.54264259338379,-1.1930454969406128,-17.336238861083984,-35.000999450683594,7.231812477111816,1.5639984607696533,-5.634342670440674,-1.855290412902832,37.442054748535156,-35.60090637207031,1.4205759763717651,-24.598079681396484,6.7795634269714355,-22.21683692932129,23.956350326538086,-49.0035285949707,-4.860631465911865,-2.730451822280884,-19.176450729370117,2.398273229598999,22.64620590209961,-26.84328842163086,-16.821928024291992,-21.120891571044922,-0.33565592765808105,27.309001922607422,25.50653648376465,-11.476181983947754,-15.23749828338623,-0.4793753921985626,-11.625283241271973,5.20190954208374,32.622859954833984,21.345211029052734,-21.682228088378906,11.978198051452637,-28.856918334960938,-13.128811836242676,12.67962646484375,12.884954452514648,-30.20042610168457,-35.94991683959961,-1.2501462697982788,-45.457523345947266,-55.63705825805664,-39.51025390625,-14.872769355773926,-47.038455963134766,30.018077850341797,-26.553319931030273,24.230682373046875,-4.600919246673584,-28.933523178100586,-27.891447067260742,-7.1483378410339355,-7.425928592681885,11.915919303894043,25.497648239135742,-46.41926193237305,-10.052154541015625,-7.586008548736572,9.210082054138184,-9.822836875915527,-5.547057151794434,20.355239868164062,-17.436359405517578],\"type\":\"scatter\"}],                        {\"template\":{\"data\":{\"histogram2dcontour\":[{\"type\":\"histogram2dcontour\",\"colorbar\":{\"outlinewidth\":0,\"ticks\":\"\"},\"colorscale\":[[0.0,\"#0d0887\"],[0.1111111111111111,\"#46039f\"],[0.2222222222222222,\"#7201a8\"],[0.3333333333333333,\"#9c179e\"],[0.4444444444444444,\"#bd3786\"],[0.5555555555555556,\"#d8576b\"],[0.6666666666666666,\"#ed7953\"],[0.7777777777777778,\"#fb9f3a\"],[0.8888888888888888,\"#fdca26\"],[1.0,\"#f0f921\"]]}],\"choropleth\":[{\"type\":\"choropleth\",\"colorbar\":{\"outlinewidth\":0,\"ticks\":\"\"}}],\"histogram2d\":[{\"type\":\"histogram2d\",\"colorbar\":{\"outlinewidth\":0,\"ticks\":\"\"},\"colorscale\":[[0.0,\"#0d0887\"],[0.1111111111111111,\"#46039f\"],[0.2222222222222222,\"#7201a8\"],[0.3333333333333333,\"#9c179e\"],[0.4444444444444444,\"#bd3786\"],[0.5555555555555556,\"#d8576b\"],[0.6666666666666666,\"#ed7953\"],[0.7777777777777778,\"#fb9f3a\"],[0.8888888888888888,\"#fdca26\"],[1.0,\"#f0f921\"]]}],\"heatmap\":[{\"type\":\"heatmap\",\"colorbar\":{\"outlinewidth\":0,\"ticks\":\"\"},\"colorscale\":[[0.0,\"#0d0887\"],[0.1111111111111111,\"#46039f\"],[0.2222222222222222,\"#7201a8\"],[0.3333333333333333,\"#9c179e\"],[0.4444444444444444,\"#bd3786\"],[0.5555555555555556,\"#d8576b\"],[0.6666666666666666,\"#ed7953\"],[0.7777777777777778,\"#fb9f3a\"],[0.8888888888888888,\"#fdca26\"],[1.0,\"#f0f921\"]]}],\"heatmapgl\":[{\"type\":\"heatmapgl\",\"colorbar\":{\"outlinewidth\":0,\"ticks\":\"\"},\"colorscale\":[[0.0,\"#0d0887\"],[0.1111111111111111,\"#46039f\"],[0.2222222222222222,\"#7201a8\"],[0.3333333333333333,\"#9c179e\"],[0.4444444444444444,\"#bd3786\"],[0.5555555555555556,\"#d8576b\"],[0.6666666666666666,\"#ed7953\"],[0.7777777777777778,\"#fb9f3a\"],[0.8888888888888888,\"#fdca26\"],[1.0,\"#f0f921\"]]}],\"contourcarpet\":[{\"type\":\"contourcarpet\",\"colorbar\":{\"outlinewidth\":0,\"ticks\":\"\"}}],\"contour\":[{\"type\":\"contour\",\"colorbar\":{\"outlinewidth\":0,\"ticks\":\"\"},\"colorscale\":[[0.0,\"#0d0887\"],[0.1111111111111111,\"#46039f\"],[0.2222222222222222,\"#7201a8\"],[0.3333333333333333,\"#9c179e\"],[0.4444444444444444,\"#bd3786\"],[0.5555555555555556,\"#d8576b\"],[0.6666666666666666,\"#ed7953\"],[0.7777777777777778,\"#fb9f3a\"],[0.8888888888888888,\"#fdca26\"],[1.0,\"#f0f921\"]]}],\"surface\":[{\"type\":\"surface\",\"colorbar\":{\"outlinewidth\":0,\"ticks\":\"\"},\"colorscale\":[[0.0,\"#0d0887\"],[0.1111111111111111,\"#46039f\"],[0.2222222222222222,\"#7201a8\"],[0.3333333333333333,\"#9c179e\"],[0.4444444444444444,\"#bd3786\"],[0.5555555555555556,\"#d8576b\"],[0.6666666666666666,\"#ed7953\"],[0.7777777777777778,\"#fb9f3a\"],[0.8888888888888888,\"#fdca26\"],[1.0,\"#f0f921\"]]}],\"mesh3d\":[{\"type\":\"mesh3d\",\"colorbar\":{\"outlinewidth\":0,\"ticks\":\"\"}}],\"scatter\":[{\"fillpattern\":{\"fillmode\":\"overlay\",\"size\":10,\"solidity\":0.2},\"type\":\"scatter\"}],\"parcoords\":[{\"type\":\"parcoords\",\"line\":{\"colorbar\":{\"outlinewidth\":0,\"ticks\":\"\"}}}],\"scatterpolargl\":[{\"type\":\"scatterpolargl\",\"marker\":{\"colorbar\":{\"outlinewidth\":0,\"ticks\":\"\"}}}],\"bar\":[{\"error_x\":{\"color\":\"#2a3f5f\"},\"error_y\":{\"color\":\"#2a3f5f\"},\"marker\":{\"line\":{\"color\":\"#E5ECF6\",\"width\":0.5},\"pattern\":{\"fillmode\":\"overlay\",\"size\":10,\"solidity\":0.2}},\"type\":\"bar\"}],\"scattergeo\":[{\"type\":\"scattergeo\",\"marker\":{\"colorbar\":{\"outlinewidth\":0,\"ticks\":\"\"}}}],\"scatterpolar\":[{\"type\":\"scatterpolar\",\"marker\":{\"colorbar\":{\"outlinewidth\":0,\"ticks\":\"\"}}}],\"histogram\":[{\"marker\":{\"pattern\":{\"fillmode\":\"overlay\",\"size\":10,\"solidity\":0.2}},\"type\":\"histogram\"}],\"scattergl\":[{\"type\":\"scattergl\",\"marker\":{\"colorbar\":{\"outlinewidth\":0,\"ticks\":\"\"}}}],\"scatter3d\":[{\"type\":\"scatter3d\",\"line\":{\"colorbar\":{\"outlinewidth\":0,\"ticks\":\"\"}},\"marker\":{\"colorbar\":{\"outlinewidth\":0,\"ticks\":\"\"}}}],\"scattermapbox\":[{\"type\":\"scattermapbox\",\"marker\":{\"colorbar\":{\"outlinewidth\":0,\"ticks\":\"\"}}}],\"scatterternary\":[{\"type\":\"scatterternary\",\"marker\":{\"colorbar\":{\"outlinewidth\":0,\"ticks\":\"\"}}}],\"scattercarpet\":[{\"type\":\"scattercarpet\",\"marker\":{\"colorbar\":{\"outlinewidth\":0,\"ticks\":\"\"}}}],\"carpet\":[{\"aaxis\":{\"endlinecolor\":\"#2a3f5f\",\"gridcolor\":\"white\",\"linecolor\":\"white\",\"minorgridcolor\":\"white\",\"startlinecolor\":\"#2a3f5f\"},\"baxis\":{\"endlinecolor\":\"#2a3f5f\",\"gridcolor\":\"white\",\"linecolor\":\"white\",\"minorgridcolor\":\"white\",\"startlinecolor\":\"#2a3f5f\"},\"type\":\"carpet\"}],\"table\":[{\"cells\":{\"fill\":{\"color\":\"#EBF0F8\"},\"line\":{\"color\":\"white\"}},\"header\":{\"fill\":{\"color\":\"#C8D4E3\"},\"line\":{\"color\":\"white\"}},\"type\":\"table\"}],\"barpolar\":[{\"marker\":{\"line\":{\"color\":\"#E5ECF6\",\"width\":0.5},\"pattern\":{\"fillmode\":\"overlay\",\"size\":10,\"solidity\":0.2}},\"type\":\"barpolar\"}],\"pie\":[{\"automargin\":true,\"type\":\"pie\"}]},\"layout\":{\"autotypenumbers\":\"strict\",\"colorway\":[\"#636efa\",\"#EF553B\",\"#00cc96\",\"#ab63fa\",\"#FFA15A\",\"#19d3f3\",\"#FF6692\",\"#B6E880\",\"#FF97FF\",\"#FECB52\"],\"font\":{\"color\":\"#2a3f5f\"},\"hovermode\":\"closest\",\"hoverlabel\":{\"align\":\"left\"},\"paper_bgcolor\":\"white\",\"plot_bgcolor\":\"#E5ECF6\",\"polar\":{\"bgcolor\":\"#E5ECF6\",\"angularaxis\":{\"gridcolor\":\"white\",\"linecolor\":\"white\",\"ticks\":\"\"},\"radialaxis\":{\"gridcolor\":\"white\",\"linecolor\":\"white\",\"ticks\":\"\"}},\"ternary\":{\"bgcolor\":\"#E5ECF6\",\"aaxis\":{\"gridcolor\":\"white\",\"linecolor\":\"white\",\"ticks\":\"\"},\"baxis\":{\"gridcolor\":\"white\",\"linecolor\":\"white\",\"ticks\":\"\"},\"caxis\":{\"gridcolor\":\"white\",\"linecolor\":\"white\",\"ticks\":\"\"}},\"coloraxis\":{\"colorbar\":{\"outlinewidth\":0,\"ticks\":\"\"}},\"colorscale\":{\"sequential\":[[0.0,\"#0d0887\"],[0.1111111111111111,\"#46039f\"],[0.2222222222222222,\"#7201a8\"],[0.3333333333333333,\"#9c179e\"],[0.4444444444444444,\"#bd3786\"],[0.5555555555555556,\"#d8576b\"],[0.6666666666666666,\"#ed7953\"],[0.7777777777777778,\"#fb9f3a\"],[0.8888888888888888,\"#fdca26\"],[1.0,\"#f0f921\"]],\"sequentialminus\":[[0.0,\"#0d0887\"],[0.1111111111111111,\"#46039f\"],[0.2222222222222222,\"#7201a8\"],[0.3333333333333333,\"#9c179e\"],[0.4444444444444444,\"#bd3786\"],[0.5555555555555556,\"#d8576b\"],[0.6666666666666666,\"#ed7953\"],[0.7777777777777778,\"#fb9f3a\"],[0.8888888888888888,\"#fdca26\"],[1.0,\"#f0f921\"]],\"diverging\":[[0,\"#8e0152\"],[0.1,\"#c51b7d\"],[0.2,\"#de77ae\"],[0.3,\"#f1b6da\"],[0.4,\"#fde0ef\"],[0.5,\"#f7f7f7\"],[0.6,\"#e6f5d0\"],[0.7,\"#b8e186\"],[0.8,\"#7fbc41\"],[0.9,\"#4d9221\"],[1,\"#276419\"]]},\"xaxis\":{\"gridcolor\":\"white\",\"linecolor\":\"white\",\"ticks\":\"\",\"title\":{\"standoff\":15},\"zerolinecolor\":\"white\",\"automargin\":true,\"zerolinewidth\":2},\"yaxis\":{\"gridcolor\":\"white\",\"linecolor\":\"white\",\"ticks\":\"\",\"title\":{\"standoff\":15},\"zerolinecolor\":\"white\",\"automargin\":true,\"zerolinewidth\":2},\"scene\":{\"xaxis\":{\"backgroundcolor\":\"#E5ECF6\",\"gridcolor\":\"white\",\"linecolor\":\"white\",\"showbackground\":true,\"ticks\":\"\",\"zerolinecolor\":\"white\",\"gridwidth\":2},\"yaxis\":{\"backgroundcolor\":\"#E5ECF6\",\"gridcolor\":\"white\",\"linecolor\":\"white\",\"showbackground\":true,\"ticks\":\"\",\"zerolinecolor\":\"white\",\"gridwidth\":2},\"zaxis\":{\"backgroundcolor\":\"#E5ECF6\",\"gridcolor\":\"white\",\"linecolor\":\"white\",\"showbackground\":true,\"ticks\":\"\",\"zerolinecolor\":\"white\",\"gridwidth\":2}},\"shapedefaults\":{\"line\":{\"color\":\"#2a3f5f\"}},\"annotationdefaults\":{\"arrowcolor\":\"#2a3f5f\",\"arrowhead\":0,\"arrowwidth\":1},\"geo\":{\"bgcolor\":\"white\",\"landcolor\":\"#E5ECF6\",\"subunitcolor\":\"white\",\"showland\":true,\"showlakes\":true,\"lakecolor\":\"white\"},\"title\":{\"x\":0.05},\"mapbox\":{\"style\":\"light\"}}}},                        {\"responsive\": true}                    ).then(function(){\n",
              "                            \n",
              "var gd = document.getElementById('82f8b16d-d48d-486e-8c18-2d2fa394e281');\n",
              "var x = new MutationObserver(function (mutations, observer) {{\n",
              "        var display = window.getComputedStyle(gd).display;\n",
              "        if (!display || display === 'none') {{\n",
              "            console.log([gd, 'removed!']);\n",
              "            Plotly.purge(gd);\n",
              "            observer.disconnect();\n",
              "        }}\n",
              "}});\n",
              "\n",
              "// Listen for the removal of the full notebook cells\n",
              "var notebookContainer = gd.closest('#notebook-container');\n",
              "if (notebookContainer) {{\n",
              "    x.observe(notebookContainer, {childList: true});\n",
              "}}\n",
              "\n",
              "// Listen for the clearing of the current output cell\n",
              "var outputEl = gd.closest('.output');\n",
              "if (outputEl) {{\n",
              "    x.observe(outputEl, {childList: true});\n",
              "}}\n",
              "\n",
              "                        })                };                            </script>        </div>\n",
              "</body>\n",
              "</html>"
            ]
          },
          "metadata": {}
        }
      ]
    },
    {
      "cell_type": "markdown",
      "id": "ce44537c",
      "metadata": {
        "id": "ce44537c"
      },
      "source": [
        "### Find top N similar words\n"
      ]
    },
    {
      "cell_type": "code",
      "execution_count": 92,
      "id": "4fa05e68",
      "metadata": {
        "id": "4fa05e68"
      },
      "outputs": [],
      "source": [
        "def find_top_similar(word: str, vocab, embeddings_norm, topN: int = 10):\n",
        "    # TODO 5-2) : make function returning top n similiar words and similarity scores\n",
        "    topN_dict = {}\n",
        "    cos_list = []\n",
        "    cos = lambda x, y: np.dot(x, y) / (np.linalg.norm(x) * np.linalg.norm(y))\n",
        "\n",
        "    if word not in vocab:\n",
        "        print(\"Input word not in vocab\")\n",
        "        return None\n",
        "\n",
        "    word_embedding = embeddings_norm[vocab[word]]\n",
        "\n",
        "    for idx, embed in enumerate(embeddings_norm):\n",
        "        cos_list.append((idx, cos(word_embedding, embed)))\n",
        "    cos_list.sort(key=lambda x:x[1], reverse=True)\n",
        "\n",
        "    for idx, similarity in cos_list[1:topN+1]:\n",
        "        topN_dict[vocab.lookup_token(idx)] = similarity\n",
        "\n",
        "    return topN_dict\n"
      ]
    },
    {
      "cell_type": "code",
      "execution_count": 93,
      "id": "74887441",
      "metadata": {
        "id": "74887441",
        "colab": {
          "base_uri": "https://localhost:8080/"
        },
        "outputId": "1aac22c2-ff28-4514-fa84-f13dc26593e4"
      },
      "outputs": [
        {
          "output_type": "stream",
          "name": "stdout",
          "text": [
            "0.10083582\n",
            "kannada: 0.325\n",
            "bible: 0.310\n",
            "celtic: 0.283\n",
            "irish: 0.270\n",
            "mole: 0.256\n",
            "georgian: 0.253\n",
            "sir: 0.223\n",
            "scotland: 0.220\n",
            "1962: 0.215\n",
            "institution: 0.213\n"
          ]
        }
      ],
      "source": [
        "for word, sim in find_top_similar(\"english\", vocab, embeddings_norm).items():\n",
        "    print(\"{}: {:.3f}\".format(word, sim))\n"
      ]
    },
    {
      "cell_type": "markdown",
      "id": "h9WjlWvx0638",
      "metadata": {
        "id": "h9WjlWvx0638"
      },
      "source": [
        "### Result Report\n",
        "\n",
        "Save the colab result and submit it with your trained model and vocab file. Check one more time your submitted notebook file has result.\n",
        "\n",
        "You can change the CBOW model parameters Training parameters and details if you want."
      ]
    }
  ],
  "metadata": {
    "accelerator": "GPU",
    "colab": {
      "provenance": []
    },
    "gpuClass": "standard",
    "kernelspec": {
      "display_name": "Python 3 (ipykernel)",
      "language": "python",
      "name": "python3"
    },
    "language_info": {
      "codemirror_mode": {
        "name": "ipython",
        "version": 3
      },
      "file_extension": ".py",
      "mimetype": "text/x-python",
      "name": "python",
      "nbconvert_exporter": "python",
      "pygments_lexer": "ipython3",
      "version": "3.9.18"
    },
    "vscode": {
      "interpreter": {
        "hash": "80dc11610feb6beaadd3581ff37d967363a9f0082fe81e3d7783a2cab15c2f20"
      }
    }
  },
  "nbformat": 4,
  "nbformat_minor": 5
}